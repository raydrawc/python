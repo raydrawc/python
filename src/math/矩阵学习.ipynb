{
 "cells": [
  {
   "cell_type": "code",
   "execution_count": 63,
   "metadata": {
    "collapsed": true
   },
   "outputs": [],
   "source": [
    "import numpy as np"
   ]
  },
  {
   "cell_type": "markdown",
   "source": [
    "实现两个矩阵的乘法"
   ],
   "metadata": {
    "collapsed": false,
    "pycharm": {
     "name": "#%% md\n"
    }
   }
  },
  {
   "cell_type": "code",
   "execution_count": 100,
   "outputs": [],
   "source": [
    "def multi(a, b):\n",
    "    # 它只有在第一个矩阵的列数（column）和第二个矩阵的行数（row）相同时才有意义\n",
    "    a_row = len(a[0]) # p\n",
    "    a_col = len(a) #  m\n",
    "    b_row = len(b[0]) # n\n",
    "    b_col = len(b) # p\n",
    "    if a_row != b_col:\n",
    "        print( '输入了非同型矩阵', a_row, b_col)\n",
    "        return\n",
    "    else:\n",
    "        ## 构建目标矩阵形状 构建全0矩阵\n",
    "        ## 这种写法导致复制出相同的[0,0]\n",
    "        # matrix = [[0] * a_col] * b_row\n",
    "        matrix = [[0] * a_col for i in range(b_row) ] # 采用列表推导形式生成\n",
    "        print(id(matrix[0]))\n",
    "        print(id(matrix[1]))\n",
    "        # 横竖错位相乘累加\n",
    "        for i in range(a_col):\n",
    "            for j in range(b_row):\n",
    "                # print(matrix)\n",
    "                # print(\"--------\")\n",
    "                for k in range(b_col):\n",
    "                    matrix[i][j] += a[i][k] * b[k][j]\n",
    "        return matrix"
   ],
   "metadata": {
    "collapsed": false,
    "pycharm": {
     "name": "#%%\n"
    }
   }
  },
  {
   "cell_type": "code",
   "execution_count": 103,
   "outputs": [
    {
     "name": "stdout",
     "output_type": "stream",
     "text": [
      "2341209236936\n",
      "2341215835528\n",
      "[[5, 2], [8, 3]]\n",
      "============================\n",
      "[[1 2]\n",
      " [2 3]] \n",
      " [[1 0]\n",
      " [2 1]]\n",
      "*=\n",
      " [[1 0]\n",
      " [4 3]]\n",
      "dot=\n",
      " [[5 2]\n",
      " [8 3]]\n",
      "end\n"
     ]
    }
   ],
   "source": [
    "if __name__ == '__main__':\n",
    "    a1 = [[1,2]\n",
    "        ,[2,3]]\n",
    "    b1 = [[1,0]\n",
    "        ,[2,1]]\n",
    "    c1 = multi(a1,b1)\n",
    "    print(c1)\n",
    "    print(\"============================\")\n",
    "    a2 = np.array(a1)\n",
    "    b2 = np.array(b1)\n",
    "    print(a2,\"\\n\",b2)\n",
    "\n",
    "    c2 = a2 * b2\n",
    "    print(\"*=\\n\",c2)\n",
    "    c2 = np.dot(a2,b2)\n",
    "    print(\"dot=\\n\",c2)\n",
    "    print(\"end\")\n"
   ],
   "metadata": {
    "collapsed": false,
    "pycharm": {
     "name": "#%%\n"
    }
   }
  },
  {
   "cell_type": "code",
   "execution_count": 102,
   "outputs": [],
   "source": [
    "\n",
    "\n"
   ],
   "metadata": {
    "collapsed": false,
    "pycharm": {
     "name": "#%%\n"
    }
   }
  }
 ],
 "metadata": {
  "kernelspec": {
   "display_name": "Python 3",
   "language": "python",
   "name": "python3"
  },
  "language_info": {
   "codemirror_mode": {
    "name": "ipython",
    "version": 2
   },
   "file_extension": ".py",
   "mimetype": "text/x-python",
   "name": "python",
   "nbconvert_exporter": "python",
   "pygments_lexer": "ipython2",
   "version": "2.7.6"
  }
 },
 "nbformat": 4,
 "nbformat_minor": 0
}