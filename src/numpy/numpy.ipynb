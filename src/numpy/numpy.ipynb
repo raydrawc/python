{
 "cells": [
  {
   "cell_type": "markdown",
   "metadata": {
    "collapsed": true,
    "pycharm": {
     "name": "#%% md\n"
    }
   },
   "source": [
    "# 为什么用numpy\n",
    "* c语言编写  \n",
    "* * Numpy数组内的数据类型统一，连续存储在内存中  \n",
    "* 多线程执行,python有线程锁"
   ]
  },
  {
   "cell_type": "code",
   "execution_count": 48,
   "outputs": [],
   "source": [
    "import numpy as np"
   ],
   "metadata": {
    "collapsed": false,
    "pycharm": {
     "name": "#%%\n",
     "is_executing": false
    }
   }
  },
  {
   "cell_type": "code",
   "execution_count": 49,
   "outputs": [
    {
     "data": {
      "text/plain": "array([[1., 0., 0.],\n       [0., 1., 0.],\n       [0., 0., 1.]])"
     },
     "metadata": {},
     "output_type": "execute_result",
     "execution_count": 49
    }
   ],
   "source": [
    "#  单位矩阵\n",
    "np.eye(3) ## 单位长度"
   ],
   "metadata": {
    "collapsed": false,
    "pycharm": {
     "name": "#%%\n",
     "is_executing": false
    }
   }
  },
  {
   "cell_type": "code",
   "execution_count": 50,
   "outputs": [
    {
     "data": {
      "text/plain": "array([ 1,  3,  5,  7,  9, 11, 13])"
     },
     "metadata": {},
     "output_type": "execute_result",
     "execution_count": 50
    }
   ],
   "source": [
    "# 线性矩阵 初始1， 结束15， 步长 2 [1, 15)\n",
    "np.arange(1,15,2)"
   ],
   "metadata": {
    "collapsed": false,
    "pycharm": {
     "name": "#%%\n",
     "is_executing": false
    }
   }
  },
  {
   "cell_type": "code",
   "execution_count": 51,
   "outputs": [
    {
     "data": {
      "text/plain": "array([[3.3, 3.3, 3.3, 3.3, 3.3],\n       [3.3, 3.3, 3.3, 3.3, 3.3],\n       [3.3, 3.3, 3.3, 3.3, 3.3]])"
     },
     "metadata": {},
     "output_type": "execute_result",
     "execution_count": 51
    }
   ],
   "source": [
    "# 创建3*5的数组 全部为3.3\n",
    "np.full((3,5), 3.3)"
   ],
   "metadata": {
    "collapsed": false,
    "pycharm": {
     "name": "#%% \n",
     "is_executing": false
    }
   }
  },
  {
   "cell_type": "code",
   "execution_count": 52,
   "outputs": [
    {
     "data": {
      "text/plain": "array([1. , 1.5, 2. , 2.5, 3. ])"
     },
     "metadata": {},
     "output_type": "execute_result",
     "execution_count": 52
    }
   ],
   "source": [
    "# 等差数列a (start, end, num)\n",
    "# np.linspace(1, 5, 5, dtype='int')\n",
    "np.linspace(1, 3, 5)"
   ],
   "metadata": {
    "collapsed": false,
    "pycharm": {
     "name": "#%%\n",
     "is_executing": false
    }
   }
  },
  {
   "cell_type": "code",
   "execution_count": 53,
   "outputs": [
    {
     "data": {
      "text/plain": "array([1.e+00, 1.e+01, 1.e+02, 1.e+03, 1.e+04, 1.e+05, 1.e+06, 1.e+07,\n       1.e+08, 1.e+09])"
     },
     "metadata": {},
     "output_type": "execute_result",
     "execution_count": 53
    }
   ],
   "source": [
    "# 等比数列 10 的0~9次方\n",
    "np.logspace(0,9, 10)"
   ],
   "metadata": {
    "collapsed": false,
    "pycharm": {
     "name": "#%% \n",
     "is_executing": false
    }
   }
  },
  {
   "cell_type": "code",
   "execution_count": 54,
   "outputs": [
    {
     "data": {
      "text/plain": "array([0.56672985, 0.0161155 , 0.21522882, 0.42059873, 0.68286974])"
     },
     "metadata": {},
     "output_type": "execute_result",
     "execution_count": 54
    }
   ],
   "source": [
    "# 均匀分布0~1随机数列 size=形状\n",
    "np.random.random(5)\n",
    "# np.random.random((2,4))"
   ],
   "metadata": {
    "collapsed": false,
    "pycharm": {
     "name": "#%%\n",
     "is_executing": false
    }
   }
  },
  {
   "cell_type": "code",
   "execution_count": 55,
   "outputs": [
    {
     "data": {
      "text/plain": "array([-1.89746223, -0.33830555, -0.43152731,  4.95811294, -1.17545815,\n        1.77279971,  2.41667132])"
     },
     "metadata": {},
     "output_type": "execute_result",
     "execution_count": 55
    }
   ],
   "source": [
    "# 高斯分布/正态分布\n",
    "# np.random.normal(loc, scale, size)\n",
    "# loc(float): 正态分布的均值， 对应这个分布的中心值  loc = 0 表示这是一个以y轴为对称轴的正态分布\n",
    "# scale(float):正态分布的标准差，对应分布的宽度，scale越大，正态分布的曲线越矮胖，scale越小，曲线越高瘦\n",
    "# size(Union[int, iterable, tuple[int], None]) = None 输出赋值形状\n",
    "np.random.normal(0, 2, 7)"
   ],
   "metadata": {
    "collapsed": false,
    "pycharm": {
     "name": "#%%\n",
     "is_executing": false
    }
   }
  },
  {
   "cell_type": "code",
   "execution_count": 56,
   "outputs": [
    {
     "data": {
      "text/plain": "array([[8, 9, 5],\n       [3, 8, 9],\n       [7, 3, 3]])"
     },
     "metadata": {},
     "output_type": "execute_result",
     "execution_count": 56
    }
   ],
   "source": [
    "# 随机整数\n",
    "# 最大 最小值 shape\n",
    "np.random.randint(1,10,(3,3))"
   ],
   "metadata": {
    "collapsed": false,
    "pycharm": {
     "name": "#%%\n",
     "is_executing": false
    }
   }
  },
  {
   "cell_type": "code",
   "execution_count": 57,
   "outputs": [
    {
     "name": "stdout",
     "text": [
      "[10 20 30 40] 2278483921776\n",
      "[30 20 10 40] 2278483921456\n",
      "[30 40 20 10] 2278483921776\n"
     ],
     "output_type": "stream"
    }
   ],
   "source": [
    "# 随机重排列\n",
    "x = np.array([10, 20, 30, 40])\n",
    "print(x, id(x))\n",
    "x1 = np.random.permutation(x) # 生成新子序列\n",
    "print(x1, id(x1))\n",
    "np.random.shuffle(x) # 修改原序列\n",
    "print(x, id(x))"
   ],
   "metadata": {
    "collapsed": false,
    "pycharm": {
     "name": "#%% \n",
     "is_executing": false
    }
   }
  },
  {
   "cell_type": "code",
   "execution_count": 58,
   "outputs": [
    {
     "name": "stdout",
     "text": [
      "[ 1  2  3  4  5  6  7  8  9 10 11 12 13 14 15 16 17 18 19 20 21 22 23 24]\n",
      "[[21 14  8]\n",
      " [24  1 15]\n",
      " [16 20  2]\n",
      " [11 15  5]]\n",
      "[[24 11 16]\n",
      " [22 20 20]\n",
      " [10 21 15]\n",
      " [10 10 22]]\n"
     ],
     "output_type": "stream"
    }
   ],
   "source": [
    "# 随机采样\n",
    "x = np.arange(1, 25, dtype = int)\n",
    "print(x)\n",
    "tmp = np.random.choice(x, size=(4,3)) # 在内容采样\n",
    "print(tmp)\n",
    "tmp = np.random.choice(x, size=(4,3), p = x/np.sum(x)) # 按概率采样\n",
    "print(tmp)"
   ],
   "metadata": {
    "collapsed": false,
    "pycharm": {
     "name": "#%% \n",
     "is_executing": false
    }
   }
  },
  {
   "cell_type": "markdown",
   "source": [
    "# numpy内部性质\n",
    "* shape=形状  \n",
    "* dnim=维度[dimension]\n",
    "* dtype=数组类型 "
   ],
   "metadata": {
    "collapsed": false,
    "pycharm": {
     "name": "#%% md\n"
    }
   }
  },
  {
   "cell_type": "code",
   "execution_count": 59,
   "outputs": [
    {
     "name": "stdout",
     "text": [
      "[8 5 7 3 6 3 7 5 2 8 9 3] (12,) 2278483817536\n"
     ],
     "output_type": "stream"
    }
   ],
   "source": [
    "# 数组的变形\n",
    "x5 = np.random.randint(1,10, (12,))\n",
    "print(x5, x5.shape, id(x5))"
   ],
   "metadata": {
    "collapsed": false,
    "pycharm": {
     "name": "#%%\n",
     "is_executing": false
    }
   }
  },
  {
   "cell_type": "code",
   "execution_count": 60,
   "outputs": [
    {
     "name": "stdout",
     "text": [
      "[[8 5 7 3]\n",
      " [6 3 7 5]\n",
      " [2 8 9 3]] (3, 4) 2278483710560\n",
      "[8 5 7 3 6 3 7 5 2 8 9 3] (12,) 2278483817536\n",
      "[[0 5 7 3]\n",
      " [6 3 7 5]\n",
      " [2 8 9 3]] (3, 4) 2278483710560\n",
      "[0 5 7 3 6 3 7 5 2 8 9 3] (12,) 2278483817536\n"
     ],
     "output_type": "stream"
    }
   ],
   "source": [
    "# reshape改变形状，返回视图\n",
    "x6 = np.reshape(x5, (3,4))\n",
    "print(x6, x6.shape, id(x6))\n",
    "print(x5, x5.shape, id(x5))\n",
    "x6[0,0] = 0 #%% 仍然会修改原数组\n",
    "print(x6, x6.shape, id(x6))\n",
    "print(x5, x5.shape, id(x5))"
   ],
   "metadata": {
    "collapsed": false,
    "pycharm": {
     "name": "#%% \n",
     "is_executing": false
    }
   }
  },
  {
   "cell_type": "code",
   "execution_count": 61,
   "outputs": [
    {
     "name": "stdout",
     "text": [
      "None\n",
      "[0 5 7 3 6 3 7 5 2 8 9 3] 12\n"
     ],
     "output_type": "stream"
    },
    {
     "data": {
      "text/plain": "array([[0, 5, 7, 3, 6, 3, 7, 5, 2, 8, 9, 3]])"
     },
     "metadata": {},
     "output_type": "execute_result",
     "execution_count": 61
    }
   ],
   "source": [
    "print(np.newaxis)\n",
    "# 一维数据转行向量\n",
    "x6 = x5.reshape(1,x5.shape[0])\n",
    "print(x5, x5.shape[0])\n",
    "x6"
   ],
   "metadata": {
    "collapsed": false,
    "pycharm": {
     "name": "#%%\n",
     "is_executing": false
    }
   }
  },
  {
   "cell_type": "code",
   "execution_count": 62,
   "outputs": [
    {
     "data": {
      "text/plain": "array([[0, 5, 7, 3, 6, 3, 7, 5, 2, 8, 9, 3]])"
     },
     "metadata": {},
     "output_type": "execute_result",
     "execution_count": 62
    }
   ],
   "source": [
    "#或者使用np.newaxis\n",
    "x7 = x5[np.newaxis, :]\n",
    "x7"
   ],
   "metadata": {
    "collapsed": false,
    "pycharm": {
     "name": "#%% \n",
     "is_executing": false
    }
   }
  },
  {
   "cell_type": "code",
   "execution_count": 63,
   "outputs": [
    {
     "name": "stdout",
     "text": [
      "[8 9 1 7 2 6 6 2 8 1 9 1]\n",
      "[[8 9 1 7]\n",
      " [2 6 6 2]\n",
      " [8 1 9 1]]\n",
      "[0 9 1 7 2 6 6 2 8 1 9 1]\n",
      "[[0 9 1 7]\n",
      " [2 6 6 2]\n",
      " [8 1 9 1]]\n",
      "[0 9 1 7 2 6 6 2 8 1 9 1]\n",
      "[[11  9  1  7]\n",
      " [ 2  6  6  2]\n",
      " [ 8  1  9  1]]\n",
      "[11  9  1  7  2  6  6  2  8  1  9  1]\n"
     ],
     "output_type": "stream"
    }
   ],
   "source": [
    "#多维转一维\n",
    "x8 = np.random.randint(1,10, (3,4))\n",
    "\n",
    "# flatten  返回副本/修改不影响原有\n",
    "x9 = x8.flatten()\n",
    "print(x9)\n",
    "x9[0] = 0\n",
    "print(x8)\n",
    "print(x9)\n",
    "# ravel 返回视图\n",
    "x10 = x8.ravel()\n",
    "x10[0] = 0\n",
    "print(x8)\n",
    "print(x10)\n",
    "# reshape 返回视图\n",
    "x11 = x8.reshape(-1) # -1强行转1维数\n",
    "x11[0] = 11\n",
    "print(x8)\n",
    "print(x11)"
   ],
   "metadata": {
    "collapsed": false,
    "pycharm": {
     "name": "#%% \n",
     "is_executing": false
    }
   }
  },
  {
   "cell_type": "code",
   "execution_count": 64,
   "outputs": [
    {
     "name": "stdout",
     "text": [
      "[[4 6 2 8 2 5 1 4]\n",
      " [6 8 1 6 5 2 7 1]\n",
      " [1 5 6 6 2 7 5 4]]\n",
      "[[4 6 2 8]\n",
      " [6 8 1 6]\n",
      " [1 5 6 6]]\n",
      "[[0 6 2 8 2 5 1 4]\n",
      " [6 8 1 6 5 2 7 1]\n",
      " [1 5 6 6 2 7 5 4]]\n",
      "[[4 6 2 8]\n",
      " [6 8 1 6]\n",
      " [1 5 6 6]]\n"
     ],
     "output_type": "stream"
    }
   ],
   "source": [
    "#np 的拼接 \n",
    "# 水平拼接\n",
    "x12 = np.random.randint(1, 10, (3,4))\n",
    "x13 = np.random.randint(1, 10, (3,4))\n",
    "\n",
    "# 返回都是视图\n",
    "a1 = np.hstack([x12, x13])\n",
    "print(a1)\n",
    "a1[0][0] = 0\n",
    "print(x12)\n",
    "a2 = np.c_[x12, x13]\n",
    "a2[0][0] = 0\n",
    "print(a2)\n",
    "print(x12)"
   ],
   "metadata": {
    "collapsed": false,
    "pycharm": {
     "name": "#%% \n",
     "is_executing": false
    }
   }
  },
  {
   "cell_type": "code",
   "execution_count": 65,
   "outputs": [],
   "source": [
    "# 错误测试\n",
    "# x12_tmp = x12.reshape((2, x12.size // 2))\n",
    "# a1 = np.hstack([x12_tmp, x13])\n",
    "# a1\n",
    "# ValueError: all the input array dimensions except for the concatenation axis must match exactly\n",
    "# ValueError:除连接轴外的所有输入数组维度必须完全匹配\n",
    "# 维度不匹配"
   ],
   "metadata": {
    "collapsed": false,
    "pycharm": {
     "name": "#%% \n",
     "is_executing": false
    }
   }
  },
  {
   "cell_type": "code",
   "execution_count": 66,
   "outputs": [
    {
     "name": "stdout",
     "text": [
      "[[3 6 5 5]\n",
      " [1 2 7 1]\n",
      " [8 6 7 3]\n",
      " [8 6 1 8]\n",
      " [6 1 4 1]\n",
      " [4 1 5 1]]\n",
      "[[3 6 5 5]\n",
      " [1 2 7 1]\n",
      " [8 6 7 3]]\n",
      "[[0 6 5 5]\n",
      " [1 2 7 1]\n",
      " [8 6 7 3]\n",
      " [8 6 1 8]\n",
      " [6 1 4 1]\n",
      " [4 1 5 1]]\n",
      "[[3 6 5 5]\n",
      " [1 2 7 1]\n",
      " [8 6 7 3]]\n"
     ],
     "output_type": "stream"
    }
   ],
   "source": [
    "# 垂直拼接\n",
    "x14 = np.random.randint(1, 10, (3,4))\n",
    "x15 = np.random.randint(1, 10, (3,4))\n",
    "\n",
    "a1 = np.vstack([x14, x15])\n",
    "print(a1)\n",
    "a1[0][0] = 0\n",
    "print(x14)\n",
    "a2 = np.r_[x14, x15]\n",
    "a2[0][0] = 0\n",
    "print(a2)\n",
    "print(x14)"
   ],
   "metadata": {
    "collapsed": false,
    "pycharm": {
     "name": "#%%\n",
     "is_executing": false
    }
   }
  },
  {
   "cell_type": "code",
   "execution_count": 67,
   "outputs": [
    {
     "name": "stdout",
     "text": [
      "[0 1 2 3 4 5 6 7 8 9]\n",
      "[0 1] [2 3 4] [5 6 7 8 9]\n"
     ],
     "output_type": "stream"
    }
   ],
   "source": [
    "# 分割数值\n",
    "# 水平分割\n",
    "x16 = np.arange(0, 10)\n",
    "print(x16)\n",
    "# 把数据分3段，split参数为中间分割点 \n",
    "a1,a2,a3 = np.split(x16, [2,5])\n",
    "print(a1,a2,a3)\n",
    "# 垂直分割 hsplit"
   ],
   "metadata": {
    "collapsed": false,
    "pycharm": {
     "name": "#%%\n",
     "is_executing": false
    }
   }
  },
  {
   "cell_type": "code",
   "execution_count": 68,
   "outputs": [
    {
     "name": "stdout",
     "text": [
      "x17 [[8 7 6 8]\n",
      " [9 8 9 3]\n",
      " [7 1 8 6]]\n",
      "a1: [[8 7 6 8]] a2: [[9 8 9 3]\n",
      " [7 1 8 6]] a3: []\n"
     ],
     "output_type": "stream"
    }
   ],
   "source": [
    "# 多维分割测试\n",
    "x17 = np.random.randint(1, 10, (3,4))\n",
    "print(\"x17\", x17)\n",
    "a1,a2,a3 = np.split(x17, [1,3]) # 截取行\n",
    "print(\"a1:\", a1, \"a2:\", a2, \"a3:\", a3)\n",
    "# a1,a2,a3 = np.split(x17, [[1,3],1]) # 截取行\n",
    "# print(\"a1:\", a1, \"a2:\", a2, \"a3:\", a3)"
   ],
   "metadata": {
    "collapsed": false,
    "pycharm": {
     "name": "#%% \n",
     "is_executing": false
    }
   }
  },
  {
   "cell_type": "code",
   "execution_count": 69,
   "outputs": [
    {
     "name": "stdout",
     "text": [
      "[[8 1 5 7]\n",
      " [7 8 4 3]\n",
      " [7 6 2 8]]\n",
      "[[9 2 6 8]\n",
      " [8 9 5 4]\n",
      " [8 7 3 9]]\n"
     ],
     "output_type": "stream"
    }
   ],
   "source": [
    "# 四则运算可直接使用，对整个矩阵生效\n",
    "x18 = np.random.randint(1, 10, (3,4)) \n",
    "print(x18)\n",
    "x18 += 1\n",
    "print(x18)"
   ],
   "metadata": {
    "collapsed": false,
    "pycharm": {
     "name": "#%%\n",
     "is_executing": false
    }
   }
  },
  {
   "cell_type": "code",
   "execution_count": 70,
   "outputs": [],
   "source": [
    "# 常用的函数\n",
    "# 绝对值 abs() np.abs()"
   ],
   "metadata": {
    "collapsed": false,
    "pycharm": {
     "name": "#%%\n",
     "is_executing": false
    }
   }
  },
  {
   "cell_type": "code",
   "execution_count": 71,
   "outputs": [
    {
     "name": "stdout",
     "text": [
      "sin(Theta) [0.0000000e+00 1.0000000e+00 1.2246468e-16]\n",
      "cos(Theta) [ 1.000000e+00  6.123234e-17 -1.000000e+00]\n",
      "tan(Theta) [ 0.00000000e+00  1.63312394e+16 -1.22464680e-16]\n"
     ],
     "output_type": "stream"
    }
   ],
   "source": [
    "# 三角函数 np.sin() np.cos() np.tan()\n",
    "# 反三角函数 np.arcsin() np.arccos np.arctan()\n",
    "theta = np.linspace(0, np.pi, 3) # 等比数列\n",
    "# theta\n",
    "print(\"sin(Theta)\",np.sin(theta))\n",
    "print(\"cos(Theta)\",np.cos(theta))\n",
    "print(\"tan(Theta)\",np.tan(theta))"
   ],
   "metadata": {
    "collapsed": false,
    "pycharm": {
     "name": "#%%\n",
     "is_executing": false
    }
   }
  },
  {
   "cell_type": "code",
   "execution_count": 72,
   "outputs": [
    {
     "name": "stdout",
     "text": [
      "[0 1 2]\n"
     ],
     "output_type": "stream"
    }
   ],
   "source": [
    "# 指数运算 exp\n",
    "x = np.arange(3)\n",
    "print(x)\n",
    "x_tmp = np.exp(x)"
   ],
   "metadata": {
    "collapsed": false,
    "pycharm": {
     "name": "#%%\n",
     "is_executing": false
    }
   }
  },
  {
   "cell_type": "code",
   "execution_count": 73,
   "outputs": [
    {
     "name": "stdout",
     "text": [
      "[1 2 4]\n"
     ],
     "output_type": "stream"
    },
    {
     "data": {
      "text/plain": "array([0.        , 0.30103   , 0.60205999])"
     },
     "metadata": {},
     "output_type": "execute_result",
     "execution_count": 73
    }
   ],
   "source": [
    "# 对数运算\n",
    "x = np.array([1,2,4])\n",
    "print(x)\n",
    "np.log(x) # 1为底数\n",
    "np.log2(x) # 2为底数\n",
    "np.log10(x) # 10为底数"
   ],
   "metadata": {
    "collapsed": false,
    "pycharm": {
     "name": "#%%\n",
     "is_executing": false
    }
   }
  },
  {
   "cell_type": "code",
   "execution_count": 74,
   "outputs": [
    {
     "name": "stdout",
     "text": [
      "[[3 3 3]\n",
      " [7 3 8]\n",
      " [2 6 8]]\n",
      "[[3 7 2]\n",
      " [3 3 6]\n",
      " [3 8 8]]\n",
      "[[ 27  54  48]\n",
      " [ 54 122  96]\n",
      " [ 48  96 104]]\n",
      "[[ 9 21  6]\n",
      " [21  9 48]\n",
      " [ 6 48 64]]\n"
     ],
     "output_type": "stream"
    }
   ],
   "source": [
    "# 矩阵转置\n",
    "x = np.random.randint(1, 10, (3,3))\n",
    "print(x)\n",
    "y = x.T # 转置标记 x 轴与 y轴置换\n",
    "print(y)\n",
    "\n",
    "# 矩阵乘法\n",
    "tmp = np.dot(x,y)  \n",
    "print(tmp)\n",
    "# 两种乘法不一样\n",
    "tmp = x*y\n",
    "print(tmp)"
   ],
   "metadata": {
    "collapsed": false,
    "pycharm": {
     "name": "#%%\n",
     "is_executing": false
    }
   }
  },
  {
   "cell_type": "code",
   "execution_count": 75,
   "outputs": [],
   "source": [
    "# 如果两个数组的形状不匹配\n",
    "# 那么数组的形式会沿着维度为1进行扩展以匹配另一个数组的形状"
   ],
   "metadata": {
    "collapsed": false,
    "pycharm": {
     "name": "#%%\n",
     "is_executing": false
    }
   }
  },
  {
   "cell_type": "code",
   "execution_count": 76,
   "outputs": [
    {
     "name": "stdout",
     "text": [
      "[[16 26 10 97 63]\n",
      " [78 80 91 56 19]\n",
      " [59 50  7 56 29]\n",
      " [83 75 61 36  8]\n",
      " [29 47 57  8 44]]\n",
      "[[False False False  True  True]\n",
      " [ True  True  True  True False]\n",
      " [ True False False  True False]\n",
      " [ True  True  True False False]\n",
      " [False False  True False False]]\n"
     ],
     "output_type": "stream"
    }
   ],
   "source": [
    "# 比较运算\n",
    "x = np.random.randint(1,100, (5,5))\n",
    "print(x)\n",
    "tmp = x > 50\n",
    "print(tmp)"
   ],
   "metadata": {
    "collapsed": false,
    "pycharm": {
     "name": "#%%\n",
     "is_executing": false
    }
   }
  },
  {
   "cell_type": "code",
   "execution_count": 80,
   "outputs": [
    {
     "data": {
      "text/plain": "<Figure size 432x288 with 1 Axes>",
      "image/png": "[encoded data removed]"
     },
     "metadata": {
      "needs_background": "light"
     },
     "output_type": "display_data"
    }
   ],
   "source": [
    "x = np.random.normal(0,1, size=10000)\n",
    "import matplotlib.pyplot as plt\n",
    "plt.hist(x, bins = 50)\n",
    "plt.show()"
   ],
   "metadata": {
    "collapsed": false,
    "pycharm": {
     "name": "#%% \n",
     "is_executing": false
    }
   }
  },
  {
   "cell_type": "code",
   "execution_count": 82,
   "outputs": [
    {
     "data": {
      "text/plain": "0.0228820143248644"
     },
     "metadata": {},
     "output_type": "execute_result",
     "execution_count": 82
    }
   ],
   "source": [
    "# 中位数\n",
    "np.median(x)"
   ],
   "metadata": {
    "collapsed": false,
    "pycharm": {
     "name": "#%%\n",
     "is_executing": false
    }
   }
  },
  {
   "cell_type": "code",
   "execution_count": 84,
   "outputs": [
    {
     "data": {
      "text/plain": "0.020299964254066764"
     },
     "metadata": {},
     "output_type": "execute_result",
     "execution_count": 84
    }
   ],
   "source": [
    "# 均值\n",
    "x.mean()\n",
    "np.mean(x)"
   ],
   "metadata": {
    "collapsed": false,
    "pycharm": {
     "name": "#%%\n",
     "is_executing": false
    }
   }
  },
  {
   "cell_type": "code",
   "execution_count": 86,
   "outputs": [
    {
     "data": {
      "text/plain": "0.9822495607056891"
     },
     "metadata": {},
     "output_type": "execute_result",
     "execution_count": 86
    }
   ],
   "source": [
    "# 方差\n",
    "x.var()\n",
    "np.var(x)"
   ],
   "metadata": {
    "collapsed": false,
    "pycharm": {
     "name": "#%%\n",
     "is_executing": false
    }
   }
  },
  {
   "cell_type": "code",
   "execution_count": 89,
   "outputs": [
    {
     "data": {
      "text/plain": "0.9910850421158061"
     },
     "metadata": {},
     "output_type": "execute_result",
     "execution_count": 89
    }
   ],
   "source": [
    "# 标准差\n",
    "x.std()\n",
    "np.std(x)"
   ],
   "metadata": {
    "collapsed": false,
    "pycharm": {
     "name": "#%%\n",
     "is_executing": false
    }
   }
  }
 ],
 "metadata": {
  "kernelspec": {
   "name": "python3",
   "language": "python",
   "display_name": "Python 3"
  },
  "language_info": {
   "codemirror_mode": {
    "name": "ipython",
    "version": 2
   },
   "file_extension": ".py",
   "mimetype": "text/x-python",
   "name": "python",
   "nbconvert_exporter": "python",
   "pygments_lexer": "ipython2",
   "version": "2.7.6"
  },
  "pycharm": {
   "stem_cell": {
    "cell_type": "raw",
    "source": [],
    "metadata": {
     "collapsed": false
    }
   }
  }
 },
 "nbformat": 4,
 "nbformat_minor": 0
}