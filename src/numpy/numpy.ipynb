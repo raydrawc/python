{
 "cells": [
  {
   "cell_type": "markdown",
   "metadata": {
    "collapsed": true,
    "pycharm": {
     "name": "#%% md\n"
    }
   },
   "source": [
    "# 为什么用numpy\n",
    "* c语言编写  \n",
    "* * Numpy数组内的数据类型统一，连续存储在内存中  \n",
    "* 多线程执行,python有线程锁"
   ]
  },
  {
   "cell_type": "code",
   "execution_count": 3,
   "outputs": [],
   "source": [
    "import numpy as np"
   ],
   "metadata": {
    "collapsed": false,
    "pycharm": {
     "name": "#%%\n",
     "is_executing": false
    }
   }
  },
  {
   "cell_type": "code",
   "execution_count": 6,
   "outputs": [
    {
     "data": {
      "text/plain": "array([ 1,  3,  5,  7,  9, 11, 13])"
     },
     "metadata": {},
     "output_type": "execute_result",
     "execution_count": 6
    }
   ],
   "source": [
    "#  单位矩阵\n",
    "np.eye(3) ## 单位长度"
   ],
   "metadata": {
    "collapsed": false,
    "pycharm": {
     "name": "#%%\n",
     "is_executing": false
    }
   }
  },
  {
   "cell_type": "code",
   "execution_count": 8,
   "outputs": [
    {
     "data": {
      "text/plain": "array([ 1,  3,  5,  7,  9, 11, 13])"
     },
     "metadata": {},
     "output_type": "execute_result",
     "execution_count": 8
    }
   ],
   "source": [
    "# 线性矩阵 初始1， 结束15， 步长 2 [1, 15)\n",
    "np.arange(1,15,2)"
   ],
   "metadata": {
    "collapsed": false,
    "pycharm": {
     "name": "#%%\n",
     "is_executing": false
    }
   }
  },
  {
   "cell_type": "code",
   "execution_count": 12,
   "outputs": [
    {
     "data": {
      "text/plain": "array([[3.3, 3.3, 3.3, 3.3, 3.3],\n       [3.3, 3.3, 3.3, 3.3, 3.3],\n       [3.3, 3.3, 3.3, 3.3, 3.3]])"
     },
     "metadata": {},
     "output_type": "execute_result",
     "execution_count": 12
    }
   ],
   "source": [
    "# 创建3*5的数组 全部为3.3\n",
    "np.full((3,5), 3.3)"
   ],
   "metadata": {
    "collapsed": false,
    "pycharm": {
     "name": "#%% \n",
     "is_executing": false
    }
   }
  },
  {
   "cell_type": "code",
   "execution_count": 19,
   "outputs": [
    {
     "data": {
      "text/plain": "array([1. , 1.5, 2. , 2.5, 3. ])"
     },
     "metadata": {},
     "output_type": "execute_result",
     "execution_count": 19
    }
   ],
   "source": [
    "# 等差数列a (start, end, num)\n",
    "# np.linspace(1, 5, 5, dtype='int')\n",
    "np.linspace(1, 3, 5)"
   ],
   "metadata": {
    "collapsed": false,
    "pycharm": {
     "name": "#%%\n",
     "is_executing": false
    }
   }
  },
  {
   "cell_type": "code",
   "execution_count": 21,
   "outputs": [
    {
     "data": {
      "text/plain": "array([1.e+00, 1.e+01, 1.e+02, 1.e+03, 1.e+04, 1.e+05, 1.e+06, 1.e+07,\n       1.e+08, 1.e+09])"
     },
     "metadata": {},
     "output_type": "execute_result",
     "execution_count": 21
    }
   ],
   "source": [
    "# 等比数列 10 的0~9次方\n",
    "np.logspace(0,9, 10)"
   ],
   "metadata": {
    "collapsed": false,
    "pycharm": {
     "name": "#%% \n",
     "is_executing": false
    }
   }
  },
  {
   "cell_type": "code",
   "execution_count": 37,
   "outputs": [
    {
     "data": {
      "text/plain": "array([[0.27328166, 0.58014351, 0.95809228, 0.32627595],\n       [0.24883913, 0.4584138 , 0.33037719, 0.73772198]])"
     },
     "metadata": {},
     "output_type": "execute_result",
     "execution_count": 37
    }
   ],
   "source": [
    "# 均匀分布0~1随机数列 size=形状\n",
    "np.random.random(5)\n",
    "# np.random.random((2,4))"
   ],
   "metadata": {
    "collapsed": false,
    "pycharm": {
     "name": "#%%\n",
     "is_executing": false
    }
   }
  },
  {
   "cell_type": "code",
   "execution_count": 39,
   "outputs": [
    {
     "data": {
      "text/plain": "array([-2.13446086,  1.29358103, -1.74617456,  2.66732671, -1.30831696,\n       -2.2849475 ,  0.91973253])"
     },
     "metadata": {},
     "output_type": "execute_result",
     "execution_count": 39
    }
   ],
   "source": [
    "# 高斯分布/正态分布\n",
    "# np.random.normal(loc, scale, size)\n",
    "# loc(float): 正态分布的均值， 对应这个分布的中心值  loc = 0 表示这是一个以y轴为对称轴的正态分布\n",
    "# scale(float):正态分布的标准差，对应分布的宽度，scale越大，正态分布的曲线越矮胖，scale越小，曲线越高瘦\n",
    "# size(Union[int, iterable, tuple[int], None]) = None 输出赋值形状\n",
    "np.random.normal(0, 2, 7)"
   ],
   "metadata": {
    "collapsed": false,
    "pycharm": {
     "name": "#%%\n",
     "is_executing": false
    }
   }
  },
  {
   "cell_type": "code",
   "execution_count": 41,
   "outputs": [
    {
     "data": {
      "text/plain": "array([[3, 6, 5],\n       [5, 8, 6],\n       [9, 2, 9]])"
     },
     "metadata": {},
     "output_type": "execute_result",
     "execution_count": 41
    }
   ],
   "source": [
    "# 随机整数\n",
    "# 最大 最小值 shape\n",
    "np.random.randint(1,10,(3,3))"
   ],
   "metadata": {
    "collapsed": false,
    "pycharm": {
     "name": "#%%\n",
     "is_executing": false
    }
   }
  },
  {
   "cell_type": "code",
   "execution_count": 52,
   "outputs": [
    {
     "name": "stdout",
     "text": [
      "[10 20 30 40] 2661729564032\n",
      "[10 30 40 20] 2661710444304\n",
      "[10 20 40 30] 2661729564032\n"
     ],
     "output_type": "stream"
    }
   ],
   "source": [
    "# 随机重排列\n",
    "x = np.array([10, 20, 30, 40])\n",
    "print(x, id(x))\n",
    "x1 = np.random.permutation(x) # 生成新子序列\n",
    "print(x1, id(x1))\n",
    "np.random.shuffle(x) # 修改原序列\n",
    "print(x, id(x))"
   ],
   "metadata": {
    "collapsed": false,
    "pycharm": {
     "name": "#%% \n",
     "is_executing": false
    }
   }
  },
  {
   "cell_type": "code",
   "execution_count": 56,
   "outputs": [
    {
     "name": "stdout",
     "text": [
      "[ 1  2  3  4  5  6  7  8  9 10 11 12 13 14 15 16 17 18 19 20 21 22 23 24]\n",
      "[[24 15  7]\n",
      " [16  2 15]\n",
      " [ 9  9 15]\n",
      " [22 15 17]]\n",
      "[[20 13 15]\n",
      " [24 20 24]\n",
      " [12 22 19]\n",
      " [21 17 21]]\n"
     ],
     "output_type": "stream"
    }
   ],
   "source": [
    "# 随机采样\n",
    "x = np.arange(1, 25, dtype = int)\n",
    "print(x)\n",
    "tmp = np.random.choice(x, size=(4,3)) # 在内容采样\n",
    "print(tmp)\n",
    "tmp = np.random.choice(x, size=(4,3), p = x/np.sum(x)) # 按概率采样\n",
    "print(tmp)"
   ],
   "metadata": {
    "collapsed": false,
    "pycharm": {
     "name": "#%% \n",
     "is_executing": false
    }
   }
  },
  {
   "cell_type": "markdown",
   "source": [
    "# numpy内部性质\n",
    "* shape=形状  \n",
    "* dnim=维度[dimension]\n",
    "* dtype=数组类型 "
   ],
   "metadata": {
    "collapsed": false,
    "pycharm": {
     "name": "#%% md\n"
    }
   }
  },
  {
   "cell_type": "code",
   "execution_count": 67,
   "outputs": [
    {
     "name": "stdout",
     "text": [
      "[4 9 9 1 2 5 7 4 1 6 5 6] (12,) 2661722745152\n"
     ],
     "output_type": "stream"
    }
   ],
   "source": [
    "# 数组的变形\n",
    "x5 = np.random.randint(1,10, (12,))\n",
    "print(x5, x5.shape, id(x5))"
   ],
   "metadata": {
    "collapsed": false,
    "pycharm": {
     "name": "#%%\n",
     "is_executing": false
    }
   }
  },
  {
   "cell_type": "code",
   "execution_count": 71,
   "outputs": [
    {
     "name": "stdout",
     "text": [
      "[[0 9 9 1]\n",
      " [2 5 7 4]\n",
      " [1 6 5 6]] (3, 4) 2661731586416\n",
      "[0 9 9 1 2 5 7 4 1 6 5 6] (12,) 2661722745152\n",
      "[[0 9 9 1]\n",
      " [2 5 7 4]\n",
      " [1 6 5 6]] (3, 4) 2661731586416\n",
      "[0 9 9 1 2 5 7 4 1 6 5 6] (12,) 2661722745152\n"
     ],
     "output_type": "stream"
    }
   ],
   "source": [
    "# reshape改变形状，返回视图\n",
    "x6 = np.reshape(x5, (3,4))\n",
    "print(x6, x6.shape, id(x6))\n",
    "print(x5, x5.shape, id(x5))\n",
    "x6[0,0] = 0 #%% 仍然会修改原数组\n",
    "print(x6, x6.shape, id(x6))\n",
    "print(x5, x5.shape, id(x5))"
   ],
   "metadata": {
    "collapsed": false,
    "pycharm": {
     "name": "#%% \n",
     "is_executing": false
    }
   }
  },
  {
   "cell_type": "code",
   "execution_count": 80,
   "outputs": [
    {
     "name": "stdout",
     "text": [
      "None\n",
      "[0 9 9 1 2 5 7 4 1 6 5 6] 12\n"
     ],
     "output_type": "stream"
    },
    {
     "data": {
      "text/plain": "array([[0, 9, 9, 1, 2, 5, 7, 4, 1, 6, 5, 6]])"
     },
     "metadata": {},
     "output_type": "execute_result",
     "execution_count": 80
    }
   ],
   "source": [
    "print(np.newaxis)\n",
    "# 一维数据转行向量\n",
    "x6 = x5.reshape(1,x5.shape[0])\n",
    "print(x5, x5.shape[0])\n",
    "x6"
   ],
   "metadata": {
    "collapsed": false,
    "pycharm": {
     "name": "#%%\n",
     "is_executing": false
    }
   }
  },
  {
   "cell_type": "code",
   "execution_count": 90,
   "outputs": [
    {
     "data": {
      "text/plain": "array([[0, 9, 9, 1, 2, 5, 7, 4, 1, 6, 5, 6]])"
     },
     "metadata": {},
     "output_type": "execute_result",
     "execution_count": 90
    }
   ],
   "source": [
    "#或者使用np.newaxis\n",
    "x7 = x5[np.newaxis, :]\n",
    "x7"
   ],
   "metadata": {
    "collapsed": false,
    "pycharm": {
     "name": "#%% \n",
     "is_executing": false
    }
   }
  },
  {
   "cell_type": "code",
   "execution_count": 98,
   "outputs": [
    {
     "name": "stdout",
     "text": [
      "[7 9 8 6 7 7 5 8 1 9 5 8]\n",
      "[[7 9 8 6]\n",
      " [7 7 5 8]\n",
      " [1 9 5 8]]\n",
      "[0 9 8 6 7 7 5 8 1 9 5 8]\n",
      "[[0 9 8 6]\n",
      " [7 7 5 8]\n",
      " [1 9 5 8]]\n",
      "[0 9 8 6 7 7 5 8 1 9 5 8]\n",
      "[[11  9  8  6]\n",
      " [ 7  7  5  8]\n",
      " [ 1  9  5  8]]\n",
      "[11  9  8  6  7  7  5  8  1  9  5  8]\n"
     ],
     "output_type": "stream"
    }
   ],
   "source": [
    "#多维转一维\n",
    "x8 = np.random.randint(1,10, (3,4))\n",
    "\n",
    "# flatten  返回副本/修改不影响原有\n",
    "x9 = x8.flatten()\n",
    "print(x9)\n",
    "x9[0] = 0\n",
    "print(x8)\n",
    "print(x9)\n",
    "# ravel 返回视图\n",
    "x10 = x8.ravel()\n",
    "x10[0] = 0\n",
    "print(x8)\n",
    "print(x10)\n",
    "# reshape 返回视图\n",
    "x11 = x8.reshape(-1) # -1强行转1维数\n",
    "x11[0] = 11\n",
    "print(x8)\n",
    "print(x11)"
   ],
   "metadata": {
    "collapsed": false,
    "pycharm": {
     "name": "#%% \n",
     "is_executing": false
    }
   }
  },
  {
   "cell_type": "code",
   "execution_count": 106,
   "outputs": [
    {
     "name": "stdout",
     "text": [
      "[[8 7 9 6 8 3 6 8]\n",
      " [4 9 1 5 1 5 8 4]\n",
      " [5 6 2 6 2 7 2 3]]\n",
      "[[8 7 9 6]\n",
      " [4 9 1 5]\n",
      " [5 6 2 6]]\n",
      "[[0 7 9 6 8 3 6 8]\n",
      " [4 9 1 5 1 5 8 4]\n",
      " [5 6 2 6 2 7 2 3]]\n",
      "[[8 7 9 6]\n",
      " [4 9 1 5]\n",
      " [5 6 2 6]]\n"
     ],
     "output_type": "stream"
    }
   ],
   "source": [
    "#np 的拼接 \n",
    "# 水平拼接\n",
    "x12 = np.random.randint(1, 10, (3,4))\n",
    "x13 = np.random.randint(1, 10, (3,4))\n",
    "\n",
    "# 返回都是视图\n",
    "a1 = np.hstack([x12, x13])\n",
    "print(a1)\n",
    "a1[0][0] = 0\n",
    "print(x12)\n",
    "a2 = np.c_[x12, x13]\n",
    "a2[0][0] = 0\n",
    "print(a2)\n",
    "print(x12)"
   ],
   "metadata": {
    "collapsed": false,
    "pycharm": {
     "name": "#%% \n",
     "is_executing": false
    }
   }
  },
  {
   "cell_type": "code",
   "execution_count": 118,
   "outputs": [
    {
     "traceback": [
      "\u001b[1;31m---------------------------------------------------------------------------\u001b[0m",
      "\u001b[1;31mValueError\u001b[0m                                Traceback (most recent call last)",
      "\u001b[1;32m<ipython-input-118-7f3718b3a75d>\u001b[0m in \u001b[0;36m<module>\u001b[1;34m\u001b[0m\n\u001b[0;32m      1\u001b[0m \u001b[1;31m# 错误测试\u001b[0m\u001b[1;33m\u001b[0m\u001b[1;33m\u001b[0m\u001b[1;33m\u001b[0m\u001b[0m\n\u001b[0;32m      2\u001b[0m \u001b[0mx12_tmp\u001b[0m \u001b[1;33m=\u001b[0m \u001b[0mx12\u001b[0m\u001b[1;33m.\u001b[0m\u001b[0mreshape\u001b[0m\u001b[1;33m(\u001b[0m\u001b[1;33m(\u001b[0m\u001b[1;36m2\u001b[0m\u001b[1;33m,\u001b[0m \u001b[0mx12\u001b[0m\u001b[1;33m.\u001b[0m\u001b[0msize\u001b[0m \u001b[1;33m//\u001b[0m \u001b[1;36m2\u001b[0m\u001b[1;33m)\u001b[0m\u001b[1;33m)\u001b[0m\u001b[1;33m\u001b[0m\u001b[1;33m\u001b[0m\u001b[0m\n\u001b[1;32m----> 3\u001b[1;33m \u001b[0ma1\u001b[0m \u001b[1;33m=\u001b[0m \u001b[0mnp\u001b[0m\u001b[1;33m.\u001b[0m\u001b[0mhstack\u001b[0m\u001b[1;33m(\u001b[0m\u001b[1;33m[\u001b[0m\u001b[0mx12_tmp\u001b[0m\u001b[1;33m,\u001b[0m \u001b[0mx13\u001b[0m\u001b[1;33m]\u001b[0m\u001b[1;33m)\u001b[0m\u001b[1;33m\u001b[0m\u001b[1;33m\u001b[0m\u001b[0m\n\u001b[0m\u001b[0;32m      4\u001b[0m \u001b[0ma1\u001b[0m\u001b[1;33m\u001b[0m\u001b[1;33m\u001b[0m\u001b[0m\n\u001b[0;32m      5\u001b[0m \u001b[1;31m# ValueError: all the input array dimensions except for the concatenation axis must match exactly\u001b[0m\u001b[1;33m\u001b[0m\u001b[1;33m\u001b[0m\u001b[1;33m\u001b[0m\u001b[0m\n",
      "\u001b[1;32mD:\\apps\\anaconda\\lib\\site-packages\\numpy\\core\\shape_base.py\u001b[0m in \u001b[0;36mhstack\u001b[1;34m(tup)\u001b[0m\n\u001b[0;32m    338\u001b[0m         \u001b[1;32mreturn\u001b[0m \u001b[0m_nx\u001b[0m\u001b[1;33m.\u001b[0m\u001b[0mconcatenate\u001b[0m\u001b[1;33m(\u001b[0m\u001b[0marrs\u001b[0m\u001b[1;33m,\u001b[0m \u001b[1;36m0\u001b[0m\u001b[1;33m)\u001b[0m\u001b[1;33m\u001b[0m\u001b[1;33m\u001b[0m\u001b[0m\n\u001b[0;32m    339\u001b[0m     \u001b[1;32melse\u001b[0m\u001b[1;33m:\u001b[0m\u001b[1;33m\u001b[0m\u001b[1;33m\u001b[0m\u001b[0m\n\u001b[1;32m--> 340\u001b[1;33m         \u001b[1;32mreturn\u001b[0m \u001b[0m_nx\u001b[0m\u001b[1;33m.\u001b[0m\u001b[0mconcatenate\u001b[0m\u001b[1;33m(\u001b[0m\u001b[0marrs\u001b[0m\u001b[1;33m,\u001b[0m \u001b[1;36m1\u001b[0m\u001b[1;33m)\u001b[0m\u001b[1;33m\u001b[0m\u001b[1;33m\u001b[0m\u001b[0m\n\u001b[0m\u001b[0;32m    341\u001b[0m \u001b[1;33m\u001b[0m\u001b[0m\n\u001b[0;32m    342\u001b[0m \u001b[1;33m\u001b[0m\u001b[0m\n",
      "\u001b[1;31mValueError\u001b[0m: all the input array dimensions except for the concatenation axis must match exactly"
     ],
     "ename": "ValueError",
     "evalue": "all the input array dimensions except for the concatenation axis must match exactly",
     "output_type": "error"
    }
   ],
   "source": [
    "# 错误测试\n",
    "x12_tmp = x12.reshape((2, x12.size // 2))\n",
    "a1 = np.hstack([x12_tmp, x13])\n",
    "a1\n",
    "# ValueError: all the input array dimensions except for the concatenation axis must match exactly\n",
    "# ValueError:除连接轴外的所有输入数组维度必须完全匹配\n",
    "# 维度不匹配"
   ],
   "metadata": {
    "collapsed": false,
    "pycharm": {
     "name": "#%% \n",
     "is_executing": false
    }
   }
  },
  {
   "cell_type": "code",
   "execution_count": null,
   "outputs": [],
   "source": [
    "# 垂直拼接\n",
    "x14 = np.random.randint(1, 10, (3,4))\n",
    "x15 = np.random.randint(1, 10, (3,4))\n",
    "\n",
    "a1 = np.vstack([x14, x15])\n",
    "print(a1)\n",
    "a1[0][0] = 0\n",
    "print(x14)\n",
    "a2 = np.r_[x14, x15]\n",
    "a2[0][0] = 0\n",
    "print(a2)\n",
    "print(x14)"
   ],
   "metadata": {
    "collapsed": false,
    "pycharm": {
     "name": "#%%\n"
    }
   }
  },
  {
   "cell_type": "code",
   "execution_count": 135,
   "outputs": [
    {
     "name": "stdout",
     "text": [
      "[0 1 2 3 4 5 6 7 8 9]\n",
      "[0 1] [2 3 4] [5 6 7 8 9]\n"
     ],
     "output_type": "stream"
    }
   ],
   "source": [
    "# 分割数值\n",
    "# 水平分割\n",
    "x16 = np.arange(0, 10)\n",
    "print(x16)\n",
    "# 把数据分3段，split参数为中间分割点 \n",
    "a1,a2,a3 = np.split(x16, [2,5])\n",
    "print(a1,a2,a3)\n",
    "# 垂直分割 hsplit"
   ],
   "metadata": {
    "collapsed": false,
    "pycharm": {
     "name": "#%%\n",
     "is_executing": false
    }
   }
  },
  {
   "cell_type": "code",
   "execution_count": 142,
   "outputs": [
    {
     "name": "stdout",
     "text": [
      "x17 [[4 7 6 8]\n",
      " [1 5 6 4]\n",
      " [3 8 3 5]]\n",
      "a1: [[4 7 6 8]] a2: [[1 5 6 4]\n",
      " [3 8 3 5]] a3: []\n"
     ],
     "output_type": "stream"
    },
    {
     "traceback": [
      "\u001b[1;31m---------------------------------------------------------------------------\u001b[0m",
      "\u001b[1;31mTypeError\u001b[0m                                 Traceback (most recent call last)",
      "\u001b[1;32m<ipython-input-142-f881fdbfc7df>\u001b[0m in \u001b[0;36m<module>\u001b[1;34m\u001b[0m\n\u001b[0;32m      4\u001b[0m \u001b[0ma1\u001b[0m\u001b[1;33m,\u001b[0m\u001b[0ma2\u001b[0m\u001b[1;33m,\u001b[0m\u001b[0ma3\u001b[0m \u001b[1;33m=\u001b[0m \u001b[0mnp\u001b[0m\u001b[1;33m.\u001b[0m\u001b[0msplit\u001b[0m\u001b[1;33m(\u001b[0m\u001b[0mx17\u001b[0m\u001b[1;33m,\u001b[0m \u001b[1;33m[\u001b[0m\u001b[1;36m1\u001b[0m\u001b[1;33m,\u001b[0m\u001b[1;36m3\u001b[0m\u001b[1;33m]\u001b[0m\u001b[1;33m)\u001b[0m \u001b[1;31m# 截取行\u001b[0m\u001b[1;33m\u001b[0m\u001b[1;33m\u001b[0m\u001b[0m\n\u001b[0;32m      5\u001b[0m \u001b[0mprint\u001b[0m\u001b[1;33m(\u001b[0m\u001b[1;34m\"a1:\"\u001b[0m\u001b[1;33m,\u001b[0m \u001b[0ma1\u001b[0m\u001b[1;33m,\u001b[0m \u001b[1;34m\"a2:\"\u001b[0m\u001b[1;33m,\u001b[0m \u001b[0ma2\u001b[0m\u001b[1;33m,\u001b[0m \u001b[1;34m\"a3:\"\u001b[0m\u001b[1;33m,\u001b[0m \u001b[0ma3\u001b[0m\u001b[1;33m)\u001b[0m\u001b[1;33m\u001b[0m\u001b[1;33m\u001b[0m\u001b[0m\n\u001b[1;32m----> 6\u001b[1;33m \u001b[0ma1\u001b[0m\u001b[1;33m,\u001b[0m\u001b[0ma2\u001b[0m\u001b[1;33m,\u001b[0m\u001b[0ma3\u001b[0m \u001b[1;33m=\u001b[0m \u001b[0mnp\u001b[0m\u001b[1;33m.\u001b[0m\u001b[0msplit\u001b[0m\u001b[1;33m(\u001b[0m\u001b[0mx17\u001b[0m\u001b[1;33m,\u001b[0m \u001b[1;33m[\u001b[0m\u001b[1;33m[\u001b[0m\u001b[1;36m1\u001b[0m\u001b[1;33m,\u001b[0m\u001b[1;36m3\u001b[0m\u001b[1;33m]\u001b[0m\u001b[1;33m,\u001b[0m\u001b[1;36m1\u001b[0m\u001b[1;33m]\u001b[0m\u001b[1;33m)\u001b[0m \u001b[1;31m# 截取行\u001b[0m\u001b[1;33m\u001b[0m\u001b[1;33m\u001b[0m\u001b[0m\n\u001b[0m\u001b[0;32m      7\u001b[0m \u001b[0mprint\u001b[0m\u001b[1;33m(\u001b[0m\u001b[1;34m\"a1:\"\u001b[0m\u001b[1;33m,\u001b[0m \u001b[0ma1\u001b[0m\u001b[1;33m,\u001b[0m \u001b[1;34m\"a2:\"\u001b[0m\u001b[1;33m,\u001b[0m \u001b[0ma2\u001b[0m\u001b[1;33m,\u001b[0m \u001b[1;34m\"a3:\"\u001b[0m\u001b[1;33m,\u001b[0m \u001b[0ma3\u001b[0m\u001b[1;33m)\u001b[0m\u001b[1;33m\u001b[0m\u001b[1;33m\u001b[0m\u001b[0m\n\u001b[0;32m      8\u001b[0m \u001b[1;33m\u001b[0m\u001b[0m\n",
      "\u001b[1;32mD:\\apps\\anaconda\\lib\\site-packages\\numpy\\lib\\shape_base.py\u001b[0m in \u001b[0;36msplit\u001b[1;34m(ary, indices_or_sections, axis)\u001b[0m\n\u001b[0;32m    848\u001b[0m             raise ValueError(\n\u001b[0;32m    849\u001b[0m                 'array split does not result in an equal division')\n\u001b[1;32m--> 850\u001b[1;33m     \u001b[0mres\u001b[0m \u001b[1;33m=\u001b[0m \u001b[0marray_split\u001b[0m\u001b[1;33m(\u001b[0m\u001b[0mary\u001b[0m\u001b[1;33m,\u001b[0m \u001b[0mindices_or_sections\u001b[0m\u001b[1;33m,\u001b[0m \u001b[0maxis\u001b[0m\u001b[1;33m)\u001b[0m\u001b[1;33m\u001b[0m\u001b[1;33m\u001b[0m\u001b[0m\n\u001b[0m\u001b[0;32m    851\u001b[0m     \u001b[1;32mreturn\u001b[0m \u001b[0mres\u001b[0m\u001b[1;33m\u001b[0m\u001b[1;33m\u001b[0m\u001b[0m\n\u001b[0;32m    852\u001b[0m \u001b[1;33m\u001b[0m\u001b[0m\n",
      "\u001b[1;32mD:\\apps\\anaconda\\lib\\site-packages\\numpy\\lib\\shape_base.py\u001b[0m in \u001b[0;36marray_split\u001b[1;34m(ary, indices_or_sections, axis)\u001b[0m\n\u001b[0;32m    764\u001b[0m         \u001b[0mst\u001b[0m \u001b[1;33m=\u001b[0m \u001b[0mdiv_points\u001b[0m\u001b[1;33m[\u001b[0m\u001b[0mi\u001b[0m\u001b[1;33m]\u001b[0m\u001b[1;33m\u001b[0m\u001b[1;33m\u001b[0m\u001b[0m\n\u001b[0;32m    765\u001b[0m         \u001b[0mend\u001b[0m \u001b[1;33m=\u001b[0m \u001b[0mdiv_points\u001b[0m\u001b[1;33m[\u001b[0m\u001b[0mi\u001b[0m \u001b[1;33m+\u001b[0m \u001b[1;36m1\u001b[0m\u001b[1;33m]\u001b[0m\u001b[1;33m\u001b[0m\u001b[1;33m\u001b[0m\u001b[0m\n\u001b[1;32m--> 766\u001b[1;33m         \u001b[0msub_arys\u001b[0m\u001b[1;33m.\u001b[0m\u001b[0mappend\u001b[0m\u001b[1;33m(\u001b[0m\u001b[0m_nx\u001b[0m\u001b[1;33m.\u001b[0m\u001b[0mswapaxes\u001b[0m\u001b[1;33m(\u001b[0m\u001b[0msary\u001b[0m\u001b[1;33m[\u001b[0m\u001b[0mst\u001b[0m\u001b[1;33m:\u001b[0m\u001b[0mend\u001b[0m\u001b[1;33m]\u001b[0m\u001b[1;33m,\u001b[0m \u001b[0maxis\u001b[0m\u001b[1;33m,\u001b[0m \u001b[1;36m0\u001b[0m\u001b[1;33m)\u001b[0m\u001b[1;33m)\u001b[0m\u001b[1;33m\u001b[0m\u001b[1;33m\u001b[0m\u001b[0m\n\u001b[0m\u001b[0;32m    767\u001b[0m \u001b[1;33m\u001b[0m\u001b[0m\n\u001b[0;32m    768\u001b[0m     \u001b[1;32mreturn\u001b[0m \u001b[0msub_arys\u001b[0m\u001b[1;33m\u001b[0m\u001b[1;33m\u001b[0m\u001b[0m\n",
      "\u001b[1;31mTypeError\u001b[0m: slice indices must be integers or None or have an __index__ method"
     ],
     "ename": "TypeError",
     "evalue": "slice indices must be integers or None or have an __index__ method",
     "output_type": "error"
    }
   ],
   "source": [
    "# 多维分割测试\n",
    "x17 = np.random.randint(1, 10, (3,4))\n",
    "print(\"x17\", x17)\n",
    "a1,a2,a3 = np.split(x17, [1,3]) # 截取行\n",
    "print(\"a1:\", a1, \"a2:\", a2, \"a3:\", a3)\n",
    "a1,a2,a3 = np.split(x17, [[1,3],1]) # 截取行\n",
    "print(\"a1:\", a1, \"a2:\", a2, \"a3:\", a3)"
   ],
   "metadata": {
    "collapsed": false,
    "pycharm": {
     "name": "#%% \n",
     "is_executing": false
    }
   }
  },
  {
   "cell_type": "code",
   "execution_count": 144,
   "outputs": [
    {
     "name": "stdout",
     "text": [
      "[[2 5 5 9]\n",
      " [2 3 1 6]\n",
      " [3 6 9 9]]\n",
      "[[ 3  6  6 10]\n",
      " [ 3  4  2  7]\n",
      " [ 4  7 10 10]]\n"
     ],
     "output_type": "stream"
    }
   ],
   "source": [
    "# 四则运算可直接使用，对整个矩阵生效\n",
    "x18 = np.random.randint(1, 10, (3,4)) \n",
    "print(x18)\n",
    "x18 += 1\n",
    "print(x18)"
   ],
   "metadata": {
    "collapsed": false,
    "pycharm": {
     "name": "#%%\n",
     "is_executing": false
    }
   }
  },
  {
   "cell_type": "code",
   "execution_count": null,
   "outputs": [],
   "source": [
    "# 常用的函数\n",
    "# 绝对值 abs() np.abs()"
   ],
   "metadata": {
    "collapsed": false,
    "pycharm": {
     "name": "#%%\n"
    }
   }
  },
  {
   "cell_type": "code",
   "execution_count": 148,
   "outputs": [
    {
     "name": "stdout",
     "text": [
      "sin(Theta) [0.0000000e+00 1.0000000e+00 1.2246468e-16]\n",
      "cos(Theta) [ 1.000000e+00  6.123234e-17 -1.000000e+00]\n",
      "tan(Theta) [ 0.00000000e+00  1.63312394e+16 -1.22464680e-16]\n"
     ],
     "output_type": "stream"
    }
   ],
   "source": [
    "# 三角函数 np.sin() np.cos() np.tan()\n",
    "# 反三角函数 np.arcsin() np.arccos np.arctan()\n",
    "theta = np.linspace(0, np.pi, 3) # 等比数列\n",
    "# theta\n",
    "print(\"sin(Theta)\",np.sin(theta))\n",
    "print(\"cos(Theta)\",np.cos(theta))\n",
    "print(\"tan(Theta)\",np.tan(theta))"
   ],
   "metadata": {
    "collapsed": false,
    "pycharm": {
     "name": "#%%\n",
     "is_executing": false
    }
   }
  },
  {
   "cell_type": "code",
   "execution_count": 155,
   "outputs": [
    {
     "name": "stdout",
     "text": [
      "[0 1 2]\n"
     ],
     "output_type": "stream"
    },
    {
     "data": {
      "text/plain": "array([1.        , 2.71828183, 7.3890561 ])"
     },
     "metadata": {},
     "output_type": "execute_result",
     "execution_count": 155
    }
   ],
   "source": [
    "# 指数运算 exp\n",
    "x = np.arange(3)\n",
    "print(x)\n",
    "x_tmp = np.exp(x)"
   ],
   "metadata": {
    "collapsed": false,
    "pycharm": {
     "name": "#%%\n",
     "is_executing": false
    }
   }
  },
  {
   "cell_type": "code",
   "execution_count": 158,
   "outputs": [
    {
     "name": "stdout",
     "text": [
      "[1 2 4]\n"
     ],
     "output_type": "stream"
    },
    {
     "data": {
      "text/plain": "array([0.        , 0.69314718, 1.38629436])"
     },
     "metadata": {},
     "output_type": "execute_result",
     "execution_count": 158
    }
   ],
   "source": [
    "# 对数运算\n",
    "x = np.array([1,2,4])\n",
    "print(x)\n",
    "np.log(x) # 1为底数\n",
    "np.log2(x) # 2为底数\n",
    "np.log10(x) # 10为底数"
   ],
   "metadata": {
    "collapsed": false,
    "pycharm": {
     "name": "#%%\n",
     "is_executing": false
    }
   }
  },
  {
   "cell_type": "code",
   "execution_count": 171,
   "outputs": [
    {
     "name": "stdout",
     "text": [
      "[[9 9 2]\n",
      " [2 8 5]\n",
      " [6 6 1]]\n",
      "[[9 2 6]\n",
      " [9 8 6]\n",
      " [2 5 1]]\n",
      "[[166 100 110]\n",
      " [100  93  65]\n",
      " [110  65  73]]\n",
      "[[81 18 12]\n",
      " [18 64 30]\n",
      " [12 30  1]]\n"
     ],
     "output_type": "stream"
    }
   ],
   "source": [
    "# 矩阵转置\n",
    "x = np.random.randint(1, 10, (3,3))\n",
    "print(x)\n",
    "y = x.T # 转置标记 x 轴与 y轴置换\n",
    "print(y)\n",
    "\n",
    "# 矩阵乘法\n",
    "tmp = np.dot(x,y)  \n",
    "print(tmp)\n",
    "# 两种乘法不一样\n",
    "tmp = x*y\n",
    "print(tmp)"
   ],
   "metadata": {
    "collapsed": false,
    "pycharm": {
     "name": "#%%\n",
     "is_executing": false
    }
   }
  },
  {
   "cell_type": "code",
   "execution_count": null,
   "outputs": [],
   "source": [
    "# 如果两个数组的形状不匹配\n",
    "# 那么数组的形式会沿着维度为1进行扩展以匹配另一个数组的形状"
   ],
   "metadata": {
    "collapsed": false,
    "pycharm": {
     "name": "#%%\n"
    }
   }
  },
  {
   "cell_type": "code",
   "execution_count": 173,
   "outputs": [
    {
     "name": "stdout",
     "text": [
      "[[33 83  5 94 97]\n",
      " [52  1 69 92 89]\n",
      " [98 73  4 91 28]\n",
      " [50 59 37 86 90]\n",
      " [45 46 34 92 25]]\n",
      "[[False  True False  True  True]\n",
      " [ True False  True  True  True]\n",
      " [ True  True False  True False]\n",
      " [False  True False  True  True]\n",
      " [False False False  True False]]\n"
     ],
     "output_type": "stream"
    }
   ],
   "source": [
    "# 比较运算\n",
    "x = np.random.randint(1,100, (5,5))\n",
    "print(x)\n",
    "tmp = x > 50\n",
    "print(tmp)"
   ],
   "metadata": {
    "collapsed": false,
    "pycharm": {
     "name": "#%%\n",
     "is_executing": false
    }
   }
  },
  {
   "cell_type": "code",
   "execution_count": 175,
   "outputs": [
    {
     "data": {
      "text/plain": "<Figure size 432x288 with 1 Axes>",
      "image/png": "[encoded data removed]"
     },
     "metadata": {
      "needs_background": "light"
     },
     "output_type": "display_data"
    }
   ],
   "source": [
    "x = np.random.normal(0,1, size=10000)\n",
    "import matplotlib.pyplot as plt\n",
    "plt.hist(x, bins = 50)\n",
    "plt.show()"
   ],
   "metadata": {
    "collapsed": false,
    "pycharm": {
     "name": "#%% \n",
     "is_executing": false
    }
   }
  },
  {
   "cell_type": "code",
   "execution_count": null,
   "outputs": [],
   "source": [
    "# 中位数\n"
   ],
   "metadata": {
    "collapsed": false,
    "pycharm": {
     "name": "#%%\n"
    }
   }
  }
 ],
 "metadata": {
  "kernelspec": {
   "display_name": "Python 3",
   "language": "python",
   "name": "python3"
  },
  "language_info": {
   "codemirror_mode": {
    "name": "ipython",
    "version": 2
   },
   "file_extension": ".py",
   "mimetype": "text/x-python",
   "name": "python",
   "nbconvert_exporter": "python",
   "pygments_lexer": "ipython2",
   "version": "2.7.6"
  },
  "pycharm": {
   "stem_cell": {
    "cell_type": "raw",
    "source": [],
    "metadata": {
     "collapsed": false
    }
   }
  }
 },
 "nbformat": 4,
 "nbformat_minor": 0
}