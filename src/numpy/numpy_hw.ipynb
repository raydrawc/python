{
 "cells": [
  {
   "cell_type": "code",
   "execution_count": 19,
   "metadata": {
    "collapsed": true,
    "pycharm": {
     "is_executing": false,
     "name": "#%% \n"
    }
   },
   "outputs": [],
   "source": [
    "import numpy as np "
   ]
  },
  {
   "cell_type": "code",
   "execution_count": 23,
   "outputs": [
    {
     "name": "stdout",
     "text": [
      "[[0.03252069 0.08623074 0.05354644 0.47104932 0.86503734 0.21194538]\n",
      " [0.95574501 0.22781794 0.9788125  0.64047461 0.186261   0.19915367]\n",
      " [0.96201639 0.79423244 0.77300142 0.18038486 0.88661811 0.76627759]\n",
      " [0.72781156 0.97059611 0.14660037 0.3845751  0.52774053 0.79284952]]\n",
      "shape: (4, 6) size: 24 ndim 2 dtype float64\n"
     ],
     "output_type": "stream"
    }
   ],
   "source": [
    "ar1 = np.random.random((4,6))\n",
    "print(ar1)\n",
    "print(\"shape:\",ar1.shape,\"size:\", ar1.size, \"ndim\", ar1.ndim, \"dtype\", ar1.dtype)"
   ],
   "metadata": {
    "collapsed": false,
    "pycharm": {
     "name": "#%%\n",
     "is_executing": false
    }
   }
  },
  {
   "cell_type": "code",
   "execution_count": 35,
   "outputs": [
    {
     "name": "stdout",
     "text": [
      "[[0.03252069 0.08623074 0.05354644 0.47104932 0.86503734 0.21194538\n",
      "  0.95574501 0.22781794]\n",
      " [0.9788125  0.64047461 0.186261   0.19915367 0.96201639 0.79423244\n",
      "  0.77300142 0.18038486]\n",
      " [0.88661811 0.76627759 0.72781156 0.97059611 0.14660037 0.3845751\n",
      "  0.52774053 0.79284952]]\n",
      "24\n",
      "[0.03252069 0.08623074 0.05354644 0.47104932 0.86503734 0.21194538\n",
      " 0.95574501 0.22781794 0.9788125  0.64047461 0.186261   0.19915367\n",
      " 0.96201639 0.79423244 0.77300142 0.18038486 0.88661811 0.76627759\n",
      " 0.72781156 0.97059611 0.14660037 0.3845751  0.52774053 0.79284952]\n",
      "[0.03252069 0.08623074 0.05354644 0.47104932 0.86503734 0.21194538\n",
      " 0.95574501 0.22781794 0.9788125  0.64047461 0.186261   0.19915367\n",
      " 0.96201639 0.79423244 0.77300142 0.18038486 0.88661811 0.76627759\n",
      " 0.72781156 0.97059611 0.14660037 0.3845751  0.52774053 0.79284952]\n"
     ],
     "output_type": "stream"
    }
   ],
   "source": [
    "ar2 = ar1.reshape((3,8))\n",
    "print(ar2)\n",
    "print(ar1.size)\n",
    "ar3 = ar1.reshape(ar1.size) # 转置为一维\n",
    "print(ar3)\n",
    "ar3 = ar1.reshape(-1) # 转置为一维\n",
    "print(ar3)"
   ],
   "metadata": {
    "collapsed": false,
    "pycharm": {
     "name": "#%%\n",
     "is_executing": false
    }
   }
  },
  {
   "cell_type": "code",
   "execution_count": 39,
   "outputs": [
    {
     "name": "stdout",
     "text": [
      "[[8 3 2 7]\n",
      " [2 9 0 7]\n",
      " [7 5 9 2]\n",
      " [9 6 9 2]] \n",
      " [[9 6 2 8]\n",
      " [3 3 8 3]\n",
      " [3 2 4 6]\n",
      " [3 6 7 7]]\n",
      "[[8 3 2 7 9 6 2 8]\n",
      " [2 9 0 7 3 3 8 3]\n",
      " [7 5 9 2 3 2 4 6]\n",
      " [9 6 9 2 3 6 7 7]]\n",
      "[[8 3 2 7]\n",
      " [2 9 0 7]\n",
      " [7 5 9 2]\n",
      " [9 6 9 2]\n",
      " [9 6 2 8]\n",
      " [3 3 8 3]\n",
      " [3 2 4 6]\n",
      " [3 6 7 7]]\n"
     ],
     "output_type": "stream"
    }
   ],
   "source": [
    "ar3_1 = np.random.randint(0,10, (4,4))\n",
    "ar3_2 = np.random.randint(0,10, (4,4))\n",
    "print(ar3_1, \"\\n\", ar3_2)\n",
    "ar3_3 = np.hstack([ar3_1, ar3_2])\n",
    "print(ar3_3)\n",
    "ar3_4 = np.vstack([ar3_1, ar3_2])\n",
    "print(ar3_4)"
   ],
   "metadata": {
    "collapsed": false,
    "pycharm": {
     "name": "#%%\n",
     "is_executing": false
    }
   }
  },
  {
   "cell_type": "code",
   "execution_count": 86,
   "outputs": [
    {
     "name": "stdout",
     "text": [
      "[[1. 1. 1. 1. 1. 1. 1. 1. 1. 1. 1. 1. 1. 1. 1. 1.]\n",
      " [1. 0. 0. 0. 0. 0. 0. 0. 0. 0. 0. 0. 0. 0. 0. 1.]\n",
      " [1. 0. 0. 0. 0. 0. 0. 0. 0. 0. 0. 0. 0. 0. 0. 1.]\n",
      " [1. 0. 0. 0. 0. 0. 0. 0. 0. 0. 0. 0. 0. 0. 0. 1.]\n",
      " [1. 0. 0. 0. 0. 0. 0. 0. 0. 0. 0. 0. 0. 0. 0. 1.]\n",
      " [1. 0. 0. 0. 0. 0. 0. 0. 0. 0. 0. 0. 0. 0. 0. 1.]\n",
      " [1. 0. 0. 0. 0. 0. 0. 0. 0. 0. 0. 0. 0. 0. 0. 1.]\n",
      " [1. 0. 0. 0. 0. 0. 0. 0. 0. 0. 0. 0. 0. 0. 0. 1.]\n",
      " [1. 0. 0. 0. 0. 0. 0. 0. 0. 0. 0. 0. 0. 0. 0. 1.]\n",
      " [1. 0. 0. 0. 0. 0. 0. 0. 0. 0. 0. 0. 0. 0. 0. 1.]\n",
      " [1. 0. 0. 0. 0. 0. 0. 0. 0. 0. 0. 0. 0. 0. 0. 1.]\n",
      " [1. 0. 0. 0. 0. 0. 0. 0. 0. 0. 0. 0. 0. 0. 0. 1.]\n",
      " [1. 0. 0. 0. 0. 0. 0. 0. 0. 0. 0. 0. 0. 0. 0. 1.]\n",
      " [1. 0. 0. 0. 0. 0. 0. 0. 0. 0. 0. 0. 0. 0. 0. 1.]\n",
      " [1. 0. 0. 0. 0. 0. 0. 0. 0. 0. 0. 0. 0. 0. 0. 1.]\n",
      " [1. 1. 1. 1. 1. 1. 1. 1. 1. 1. 1. 1. 1. 1. 1. 1.]]\n"
     ],
     "output_type": "stream"
    }
   ],
   "source": [
    "ar4 = np.zeros((16,16))\n",
    "# ar4[1:1][1:-1] = 0 # 不可以用这种方式\n",
    "ar4[0] = 1\n",
    "ar4[:, 0] = 1\n",
    "ar4[-1] = 1\n",
    "ar4[:, -1] = 1\n",
    "print(ar4)"
   ],
   "metadata": {
    "collapsed": false,
    "pycharm": {
     "name": "#%%\n",
     "is_executing": false
    }
   }
  },
  {
   "cell_type": "code",
   "execution_count": 89,
   "outputs": [
    {
     "name": "stdout",
     "text": [
      "avg: 49.6944 normal\n"
     ],
     "output_type": "stream"
    }
   ],
   "source": [
    "ar5 = np.random.randint(0, 100, 10000)\n",
    "print(\"avg:\", np.average(ar5), \"normal\")"
   ],
   "metadata": {
    "collapsed": false,
    "pycharm": {
     "name": "#%%\n",
     "is_executing": false
    }
   }
  }
 ],
 "metadata": {
  "kernelspec": {
   "display_name": "Python 3",
   "language": "python",
   "name": "python3"
  },
  "language_info": {
   "codemirror_mode": {
    "name": "ipython",
    "version": 2
   },
   "file_extension": ".py",
   "mimetype": "text/x-python",
   "name": "python",
   "nbconvert_exporter": "python",
   "pygments_lexer": "ipython2",
   "version": "2.7.6"
  },
  "pycharm": {
   "stem_cell": {
    "cell_type": "raw",
    "source": [],
    "metadata": {
     "collapsed": false
    }
   }
  }
 },
 "nbformat": 4,
 "nbformat_minor": 0
}