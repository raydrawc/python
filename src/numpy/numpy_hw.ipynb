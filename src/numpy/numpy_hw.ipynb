{
 "cells": [
  {
   "cell_type": "code",
   "execution_count": 96,
   "metadata": {
    "collapsed": true,
    "pycharm": {
     "is_executing": false,
     "name": "#%% \n"
    }
   },
   "outputs": [],
   "source": [
    "import numpy as np "
   ]
  },
  {
   "cell_type": "code",
   "execution_count": 97,
   "outputs": [
    {
     "name": "stdout",
     "text": [
      "[[0.95719465 0.25267067 0.66071202 0.78053798 0.13657888 0.41622424]\n",
      " [0.08135293 0.38101231 0.53382317 0.11149851 0.44714237 0.02631364]\n",
      " [0.65630009 0.41656122 0.30418161 0.37733768 0.1703147  0.62780349]\n",
      " [0.18634239 0.00962979 0.91140036 0.79225984 0.93008427 0.1928731 ]]\n",
      "shape: (4, 6) size: 24 ndim 2 dtype float64\n"
     ],
     "output_type": "stream"
    }
   ],
   "source": [
    "ar1 = np.random.random((4,6))\n",
    "print(ar1)\n",
    "print(\"shape:\",ar1.shape,\"size:\", ar1.size, \"ndim\", ar1.ndim, \"dtype\", ar1.dtype)"
   ],
   "metadata": {
    "collapsed": false,
    "pycharm": {
     "name": "#%%\n",
     "is_executing": false
    }
   }
  },
  {
   "cell_type": "code",
   "execution_count": 98,
   "outputs": [
    {
     "name": "stdout",
     "text": [
      "[[0.95719465 0.25267067 0.66071202 0.78053798 0.13657888 0.41622424\n",
      "  0.08135293 0.38101231]\n",
      " [0.53382317 0.11149851 0.44714237 0.02631364 0.65630009 0.41656122\n",
      "  0.30418161 0.37733768]\n",
      " [0.1703147  0.62780349 0.18634239 0.00962979 0.91140036 0.79225984\n",
      "  0.93008427 0.1928731 ]]\n",
      "24\n",
      "[0.95719465 0.25267067 0.66071202 0.78053798 0.13657888 0.41622424\n",
      " 0.08135293 0.38101231 0.53382317 0.11149851 0.44714237 0.02631364\n",
      " 0.65630009 0.41656122 0.30418161 0.37733768 0.1703147  0.62780349\n",
      " 0.18634239 0.00962979 0.91140036 0.79225984 0.93008427 0.1928731 ]\n",
      "[0.95719465 0.25267067 0.66071202 0.78053798 0.13657888 0.41622424\n",
      " 0.08135293 0.38101231 0.53382317 0.11149851 0.44714237 0.02631364\n",
      " 0.65630009 0.41656122 0.30418161 0.37733768 0.1703147  0.62780349\n",
      " 0.18634239 0.00962979 0.91140036 0.79225984 0.93008427 0.1928731 ]\n"
     ],
     "output_type": "stream"
    }
   ],
   "source": [
    "ar2 = ar1.reshape((3,8))\n",
    "print(ar2)\n",
    "print(ar1.size)\n",
    "ar3 = ar1.reshape(ar1.size) # 转置为一维\n",
    "print(ar3)\n",
    "ar3 = ar1.reshape(-1) # 转置为一维\n",
    "print(ar3)"
   ],
   "metadata": {
    "collapsed": false,
    "pycharm": {
     "name": "#%%\n",
     "is_executing": false
    }
   }
  },
  {
   "cell_type": "code",
   "execution_count": 102,
   "outputs": [
    {
     "name": "stdout",
     "text": [
      "[[4 4 6 7]\n",
      " [7 6 3 6]\n",
      " [3 8 1 9]\n",
      " [4 2 0 1]] \n",
      " [[7 4 2 9]\n",
      " [1 2 4 2]\n",
      " [8 0 6 4]\n",
      " [3 6 9 3]]\n",
      "[[4 4 6 7 7 4 2 9]\n",
      " [7 6 3 6 1 2 4 2]\n",
      " [3 8 1 9 8 0 6 4]\n",
      " [4 2 0 1 3 6 9 3]]\n",
      "[[4 4 6 7]\n",
      " [7 6 3 6]\n",
      " [3 8 1 9]\n",
      " [4 2 0 1]\n",
      " [7 4 2 9]\n",
      " [1 2 4 2]\n",
      " [8 0 6 4]\n",
      " [3 6 9 3]]\n"
     ],
     "output_type": "stream"
    }
   ],
   "source": [
    "ar3_1 = np.random.randint(0,10, (4,4))\n",
    "ar3_2 = np.random.randint(0,10, (4,4))\n",
    "print(ar3_1, \"\\n\", ar3_2)\n",
    "ar3_3 = np.hstack([ar3_1, ar3_2])\n",
    "print(ar3_3)\n",
    "ar3_4 = np.vstack([ar3_1, ar3_2])\n",
    "print(ar3_4)"
   ],
   "metadata": {
    "collapsed": false,
    "pycharm": {
     "name": "#%%\n",
     "is_executing": false
    }
   }
  },
  {
   "cell_type": "code",
   "execution_count": 100,
   "outputs": [
    {
     "name": "stdout",
     "text": [
      "[[1. 1. 1. 1. 1. 1. 1. 1. 1. 1. 1. 1. 1. 1. 1. 1.]\n",
      " [1. 0. 0. 0. 0. 0. 0. 0. 0. 0. 0. 0. 0. 0. 0. 1.]\n",
      " [1. 0. 0. 0. 0. 0. 0. 0. 0. 0. 0. 0. 0. 0. 0. 1.]\n",
      " [1. 0. 0. 0. 0. 0. 0. 0. 0. 0. 0. 0. 0. 0. 0. 1.]\n",
      " [1. 0. 0. 0. 0. 0. 0. 0. 0. 0. 0. 0. 0. 0. 0. 1.]\n",
      " [1. 0. 0. 0. 0. 0. 0. 0. 0. 0. 0. 0. 0. 0. 0. 1.]\n",
      " [1. 0. 0. 0. 0. 0. 0. 0. 0. 0. 0. 0. 0. 0. 0. 1.]\n",
      " [1. 0. 0. 0. 0. 0. 0. 0. 0. 0. 0. 0. 0. 0. 0. 1.]\n",
      " [1. 0. 0. 0. 0. 0. 0. 0. 0. 0. 0. 0. 0. 0. 0. 1.]\n",
      " [1. 0. 0. 0. 0. 0. 0. 0. 0. 0. 0. 0. 0. 0. 0. 1.]\n",
      " [1. 0. 0. 0. 0. 0. 0. 0. 0. 0. 0. 0. 0. 0. 0. 1.]\n",
      " [1. 0. 0. 0. 0. 0. 0. 0. 0. 0. 0. 0. 0. 0. 0. 1.]\n",
      " [1. 0. 0. 0. 0. 0. 0. 0. 0. 0. 0. 0. 0. 0. 0. 1.]\n",
      " [1. 0. 0. 0. 0. 0. 0. 0. 0. 0. 0. 0. 0. 0. 0. 1.]\n",
      " [1. 0. 0. 0. 0. 0. 0. 0. 0. 0. 0. 0. 0. 0. 0. 1.]\n",
      " [1. 1. 1. 1. 1. 1. 1. 1. 1. 1. 1. 1. 1. 1. 1. 1.]]\n"
     ],
     "output_type": "stream"
    }
   ],
   "source": [
    "ar4 = np.zeros((16,16))\n",
    "# ar4[1:1][1:-1] = 0 # 不可以用这种方式\n",
    "ar4[0] = 1\n",
    "ar4[:, 0] = 1\n",
    "ar4[-1] = 1\n",
    "ar4[:, -1] = 1\n",
    "print(ar4)"
   ],
   "metadata": {
    "collapsed": false,
    "pycharm": {
     "name": "#%%\n",
     "is_executing": false
    }
   }
  },
  {
   "cell_type": "code",
   "execution_count": 167,
   "outputs": [
    {
     "name": "stdout",
     "text": [
      "avg: 46.34 方差 831.2244000000001 标准差 28.83096252295438\n",
      "min: 1 max: 99 mi 98\n",
      "[ 0.19631672  1.6530839   0.05757699 -0.982971   -0.53206687 -0.25458741\n",
      " -1.53792992  1.6530839  -0.982971    0.50848112  1.09812498 -0.25458741\n",
      "  0.71659071 -0.53206687  1.61839897 -0.94828606  1.41028937 -0.42801207\n",
      " -1.01765593 -0.84423127 -0.94828606 -1.01765593  1.13280991  1.41028937\n",
      " -1.05234086  1.34091951 -0.15053261  0.68190578 -0.15053261  1.82650857\n",
      "  1.82650857  0.16163179  0.89001538 -1.57261486 -1.53792992 -0.80954633\n",
      "  0.12694685  1.23686471  0.78596058 -1.22576553 -1.29513539 -0.39332714\n",
      " -1.57261486  0.64722085 -0.60143674  1.68776883 -0.94828606  1.58371404\n",
      "  1.09812498  1.13280991  0.92470031  1.16749484  0.12694685  0.33505645\n",
      " -0.982971   -0.8789162  -0.63612167  1.37560444  0.75127565 -1.05234086\n",
      " -0.32395727 -1.50324499 -0.94828606 -0.84423127  0.75127565  1.23686471\n",
      "  0.43911125  0.85533044 -0.6708066  -0.04647781 -0.32395727 -0.60143674\n",
      "  0.43911125 -0.21990247 -0.39332714 -0.01179288 -0.91360113  1.79182363\n",
      "  0.05757699 -0.39332714 -1.57261486 -1.46856006  0.92470031 -1.12171073\n",
      " -0.7748614   0.33505645  0.47379618  0.99407018 -1.43387513 -0.982971\n",
      "  1.72245377 -1.12171073 -0.74017647 -0.982971   -0.53206687  0.36974138\n",
      "  1.47965924 -0.25458741 -0.21990247  0.50848112]\n",
      "[False False False False False False False False False False False False\n",
      " False False False False False False False False False False False False\n",
      " False False False False False  True  True False False False False False\n",
      " False False False False False False False False False False False False\n",
      " False False False False False False False False False False False False\n",
      " False False False False False False False False False False False False\n",
      " False False False False False False False False False False False False\n",
      " False False False False False False False False False False False False\n",
      " False False False False]\n",
      "[[29]\n",
      " [30]]\n",
      "max 99 29\n",
      "[[33]\n",
      " [42]\n",
      " [80]]\n",
      "min 1 33\n",
      "[0.52040816 0.94897959 0.47959184 0.17346939 0.30612245 0.3877551\n",
      " 0.01020408 0.94897959 0.17346939 0.6122449  0.78571429 0.3877551\n",
      " 0.67346939 0.30612245 0.93877551 0.18367347 0.87755102 0.33673469\n",
      " 0.16326531 0.21428571 0.18367347 0.16326531 0.79591837 0.87755102\n",
      " 0.15306122 0.85714286 0.41836735 0.66326531 0.41836735 1.\n",
      " 1.         0.51020408 0.7244898  0.         0.01020408 0.2244898\n",
      " 0.5        0.82653061 0.69387755 0.10204082 0.08163265 0.34693878\n",
      " 0.         0.65306122 0.28571429 0.95918367 0.18367347 0.92857143\n",
      " 0.78571429 0.79591837 0.73469388 0.80612245 0.5        0.56122449\n",
      " 0.17346939 0.20408163 0.2755102  0.86734694 0.68367347 0.15306122\n",
      " 0.36734694 0.02040816 0.18367347 0.21428571 0.68367347 0.82653061\n",
      " 0.59183673 0.71428571 0.26530612 0.44897959 0.36734694 0.28571429\n",
      " 0.59183673 0.39795918 0.34693878 0.45918367 0.19387755 0.98979592\n",
      " 0.47959184 0.34693878 0.         0.03061224 0.73469388 0.13265306\n",
      " 0.23469388 0.56122449 0.60204082 0.75510204 0.04081633 0.17346939\n",
      " 0.96938776 0.13265306 0.24489796 0.17346939 0.30612245 0.57142857\n",
      " 0.89795918 0.3877551  0.39795918 0.6122449 ]\n"
     ],
     "output_type": "stream"
    }
   ],
   "source": [
    "ar5 = np.random.randint(0, 100, 100)\n",
    "# print(ar5)\n",
    "print(\"avg:\", np.mean(ar5), \"方差\", ar5.var(), \"标准差\", ar5.std())\n",
    "print(\"min:\", ar5.min(), \"max:\", ar5.max(), \"mi\", ar5.max() - ar5.min())\n",
    "ar5_1 = (ar5 - ar5.mean())/ar5.std()\n",
    "print(ar5_1)\n",
    "print(ar5 == ar5.max())\n",
    "ar5_2 = np.argwhere(ar5 == ar5.max()) # 定位用\n",
    "print(ar5_2)\n",
    "print(\"max\", ar5.max(), ar5.argmax())\n",
    "ar5_3 = np.argwhere(ar5 == ar5.min()) # 定位用\n",
    "print(ar5_3)\n",
    "print(\"min\", ar5.min(), ar5.argmin())\n",
    "ar5_4 = (ar5- ar5.min())/(ar5.max()-ar5.min())\n",
    "print(ar5_4)"
   ],
   "metadata": {
    "collapsed": false,
    "pycharm": {
     "name": "#%%\n",
     "is_executing": false
    }
   }
  },
  {
   "cell_type": "code",
   "execution_count": 170,
   "outputs": [
    {
     "name": "stdout",
     "text": [
      "[94 86 98 81 91 90 93 93 89 85 98 82 90 85 95 99 83 84 97 98 97 84 91 95\n",
      " 90 80 90 94 81 84]\n",
      "[98 98 95 99 97 98 97 95]\n",
      "[94 86 81 91 90 93 93 89 85 82 90 85 95 83 84 84 91 95 90 80 90 94 81 84]\n",
      "[94 86 91 90 93 93 89 90 91 90 90 94]\n",
      "[80 81 81 82 83 84 84 84 85 85 86 89 90 90 90 90 91 91 93 93 94 94 95 95\n",
      " 97 97 98 98 98 99]\n"
     ],
     "output_type": "stream"
    }
   ],
   "source": [
    "x6 = np.random.randint(80, 100, 30)\n",
    "print(x6)\n",
    "x6_1 = x6[x6 >= 95]\n",
    "print(x6_1)\n",
    "x6_2 = x6[x6 <= 95]\n",
    "print(x6_2)\n",
    "# tmp = 85 < x6 \n",
    "# tmp2 = x6 < 95\n",
    "# tmp3 = tmp * tmp2\n",
    "# print(tmp)\n",
    "# print(tmp2)\n",
    "# print(tmp3)\n",
    "x6_3 = x6[(85 < x6) * (x6 < 95)] # 取并集\n",
    "print(x6_3)\n",
    "x6_4 = np.sort(x6)\n",
    "print(x6_4)"
   ],
   "metadata": {
    "collapsed": false,
    "pycharm": {
     "name": "#%%\n",
     "is_executing": false
    }
   }
  },
  {
   "cell_type": "code",
   "execution_count": 195,
   "outputs": [
    {
     "name": "stdout",
     "text": [
      "[[5 7 5]\n",
      " [7 1 7]\n",
      " [6 6 8]] \n",
      " [[9 5 1]\n",
      " [2 6 6]\n",
      " [9 2 9]]\n"
     ],
     "output_type": "stream"
    }
   ],
   "source": [
    "# A = np.random.randint(1, 10, (3,3))\n",
    "# B = np.random.randint(1, 10, (3,3))\n",
    "\n",
    "A = np.array([[5,7,5],[7,1,7],[6,6,8]])\n",
    "B = np.array([[9,5,1],[2,6,6],[9,2,9]])\n",
    "print(A,\"\\n\", B)\n",
    "import time\n",
    "import timeit"
   ],
   "metadata": {
    "collapsed": false,
    "pycharm": {
     "name": "#%%\n",
     "is_executing": false
    }
   }
  },
  {
   "cell_type": "code",
   "execution_count": 207,
   "outputs": [
    {
     "name": "stdout",
     "text": [
      "9.23 µs ± 291 ns per loop (mean ± std. dev. of 7 runs, 100000 loops each)\n",
      "[[45. 35.  5.]\n",
      " [14.  6. 42.]\n",
      " [54. 12. 72.]]\n",
      "428 ns ± 12 ns per loop (mean ± std. dev. of 7 runs, 1000000 loops each)\n",
      "[[45 35  5]\n",
      " [14  6 42]\n",
      " [54 12 72]]\n"
     ],
     "output_type": "stream"
    }
   ],
   "source": [
    "def py_dot(_A, _B) :\n",
    "    _tmp = np.empty((3,3))\n",
    "    for i in range(len(_A)) :\n",
    "        for j in range(len(_B)) :\n",
    "            _tmp[i][j] = _A[i][j] * _B[i][j]\n",
    "        # _tmp.append(_tmp2)\n",
    "    return _tmp\n",
    "            \n",
    "%timeit py_dot(A, B)\n",
    "tmp = py_dot(A, B)\n",
    "print(tmp)\n",
    "%timeit (A * B)\n",
    "tmp = (A * B)\n",
    "print(tmp)\n",
    "            "
   ],
   "metadata": {
    "collapsed": false,
    "pycharm": {
     "name": "#%%\n",
     "is_executing": false
    }
   }
  },
  {
   "cell_type": "code",
   "execution_count": null,
   "outputs": [],
   "source": [
    "    "
   ],
   "metadata": {
    "collapsed": false,
    "pycharm": {
     "name": "#%%\n"
    }
   }
  }
 ],
 "metadata": {
  "kernelspec": {
   "display_name": "Python 3",
   "language": "python",
   "name": "python3"
  },
  "language_info": {
   "codemirror_mode": {
    "name": "ipython",
    "version": 2
   },
   "file_extension": ".py",
   "mimetype": "text/x-python",
   "name": "python",
   "nbconvert_exporter": "python",
   "pygments_lexer": "ipython2",
   "version": "2.7.6"
  },
  "pycharm": {
   "stem_cell": {
    "cell_type": "raw",
    "source": [],
    "metadata": {
     "collapsed": false
    }
   }
  }
 },
 "nbformat": 4,
 "nbformat_minor": 0
}