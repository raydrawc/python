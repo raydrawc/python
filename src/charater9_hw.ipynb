{
 "cells": [
  {
   "cell_type": "markdown",
   "metadata": {
    "collapsed": true,
    "pycharm": {
     "name": "#%% md\n",
     "is_executing": false
    }
   },
   "source": [
    "运行代码解结果"
   ]
  },
  {
   "cell_type": "code",
   "execution_count": null,
   "outputs": [],
   "source": [
    "# [1]\n",
    "# [1, 1]\n",
    "# [1, 1, 1]\n",
    "# 一切皆为对象,函数f1也为对象,实际为修改了函数内置默认值\n",
    "\n",
    "def f1(ls = [], pd = {}) :\n",
    "    ls.append(1)\n",
    "    print(ls)\n",
    "    print(id(ls))\n",
    "    return ls\n",
    "\n",
    "print(f1())\n",
    "print(f1.__defaults__)\n",
    "print(f1())\n",
    "print(f1.__defaults__)\n",
    "print(f1([2]))\n",
    "print(f1.__defaults__)\n",
    "print(f1())\n",
    "print(f1.__defaults__)\n",
    "print(f1)"
   ],
   "metadata": {
    "collapsed": false,
    "pycharm": {
     "name": "#%%\n",
     "is_executing": true
    }
   }
  },
  {
   "cell_type": "code",
   "execution_count": 1,
   "outputs": [
    {
     "name": "stdout",
     "text": [
      "{'name': 'Mary', 'id': 2}\n",
      "[{'name': 'Mary', 'id': 2}, {'name': 'Mary', 'id': 2}, {'name': 'Mary', 'id': 2}]\n"
     ],
     "output_type": "stream"
    }
   ],
   "source": [
    "# {'name': 'Mary', 'id':2}\n",
    "person = {'name': \"\", 'id': 0}\n",
    "team = []\n",
    "\n",
    "for i in range(3) :\n",
    "    x = person\n",
    "    x[\"id\"] = i\n",
    "    team.append(x)\n",
    "    \n",
    "team[0]['name'] = 'Peter'\n",
    "team[1]['name'] = 'Paul'\n",
    "team[2]['name'] = 'Mary'\n",
    "\n",
    "# print(team[0])\n",
    "print(team[1])\n",
    "# print(team[2])\n",
    "print(team)"
   ],
   "metadata": {
    "collapsed": false,
    "pycharm": {
     "name": "#%%\n",
     "is_executing": false
    }
   }
  },
  {
   "cell_type": "code",
   "execution_count": 2,
   "outputs": [
    {
     "data": {
      "text/plain": "[2,\n 3,\n 5,\n 7,\n 11,\n 13,\n 17,\n 19,\n 23,\n 29,\n 31,\n 37,\n 41,\n 43,\n 47,\n 53,\n 59,\n 61,\n 67,\n 71,\n 73,\n 79,\n 83,\n 89,\n 97]"
     },
     "metadata": {},
     "output_type": "execute_result",
     "execution_count": 2
    }
   ],
   "source": [
    "# 用列表推导实现过滤器\n",
    "# 判断一个数字n是否为素数的函数\n",
    "# 利用列表推导,获得100以内的素数\n",
    "import math\n",
    "\n",
    "def isprime(n) :\n",
    "    if n == 1 : return False\n",
    "    for i in range(2, int(math.sqrt(n) + 1)) :\n",
    "        if n % i == 0 :\n",
    "            return False\n",
    "    return True\n",
    "\n",
    "[x for x in range(1, 100) if isprime(x)]            "
   ],
   "metadata": {
    "collapsed": false,
    "pycharm": {
     "name": "#%% \n",
     "is_executing": false
    }
   }
  },
  {
   "cell_type": "code",
   "execution_count": 24,
   "outputs": [
    {
     "name": "stdout",
     "text": [
      "[0, 4, 27, 1]\n"
     ],
     "output_type": "stream"
    }
   ],
   "source": [
    "# 列表推导,实现梁列表对应元素的操作\n",
    "# 或等新列表z 列表内元素 z[i] = pow(x[i],y[i])\n",
    "x = [1,2,3,4]\n",
    "y = [0,2,3,1]\n",
    "\n",
    "z = [pow(p, q) for q, p in zip(x,y)]\n",
    "print(z)"
   ],
   "metadata": {
    "collapsed": false,
    "pycharm": {
     "name": "#%%\n",
     "is_executing": false
    }
   }
  },
  {
   "cell_type": "code",
   "execution_count": 20,
   "outputs": [
    {
     "name": "stdout",
     "text": [
      "12\n"
     ],
     "output_type": "stream"
    }
   ],
   "source": [
    "# 条件表达式 x,y中最大值赋值给z\n",
    "x = 10 \n",
    "y = 12\n",
    "\n",
    "z = x if x > y else y\n",
    "\n",
    "print(z)"
   ],
   "metadata": {
    "collapsed": false,
    "pycharm": {
     "name": "#%%\n",
     "is_executing": false
    }
   }
  },
  {
   "cell_type": "code",
   "execution_count": 1,
   "outputs": [],
   "source": [
    "# 构造n内的素数生成器\n",
    "\n",
    "def prime_list(step = 1) :\n",
    "    \"\"\"\" das\"\"\"\n",
    "    n = 1\n",
    "    while n < 100 :\n",
    "        n + step\n",
    "        yield n\n",
    "\n",
    "\n",
    "def is_not_prime(n) :\n",
    "    return lambda x : x % n\n",
    "\n",
    "\n",
    "def primes() :\n",
    "    ls = prime_list()\n",
    "    print(list(ls))\n",
    "    while True :\n",
    "        n = next(ls)\n",
    "        print(n)\n",
    "        print(list(ls))\n",
    "        yield n\n",
    "        ls = filter(is_not_prime(n), ls)\n",
    "    \n",
    "def is_primes(num): \n",
    "    for i,x in enumerate(primes()) :\n",
    "        if i > num : \n",
    "            break\n",
    "        else: \n",
    "            print(x)\n",
    "        \n",
    "def run() :\n",
    "    is_primes(100)\n",
    "            \n",
    "            "
   ],
   "metadata": {
    "collapsed": false,
    "pycharm": {
     "name": "#%% \n",
     "is_executing": false
    }
   }
  },
  {
   "cell_type": "code",
   "execution_count": null,
   "outputs": [
    {
     "name": "stdout",
     "text": [
      "start\n"
     ],
     "output_type": "stream"
    }
   ],
   "source": [
    "if __name__ == \"__main__\" :\n",
    "    print(\"start\")\n",
    "    run()\n",
    "    print(\"end\")\n",
    "    \n",
    "\n",
    "\n"
   ],
   "metadata": {
    "collapsed": false,
    "pycharm": {
     "name": "#%%\n",
     "is_executing": true
    }
   }
  }
 ],
 "metadata": {
  "kernelspec": {
   "name": "python36764bita0f7a7b7ada54d72b635b10ef4c36a0a",
   "language": "python",
   "display_name": "Python 3.6.7 64-bit"
  },
  "language_info": {
   "codemirror_mode": {
    "name": "ipython",
    "version": 2
   },
   "file_extension": ".py",
   "mimetype": "text/x-python",
   "name": "python",
   "nbconvert_exporter": "python",
   "pygments_lexer": "ipython2",
   "version": "2.7.6"
  },
  "pycharm": {
   "stem_cell": {
    "cell_type": "raw",
    "source": [],
    "metadata": {
     "collapsed": false
    }
   }
  }
 },
 "nbformat": 4,
 "nbformat_minor": 0
}