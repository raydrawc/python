{
 "cells": [
  {
   "cell_type": "markdown",
   "metadata": {
    "collapsed": true,
    "pycharm": {
     "name": "#%% md\n"
    }
   },
   "source": [
    "# pandas series \n",
    "series 是带标签数据的一维数组  \n",
    "##  series对象的创建 \n",
    "通用结构: pd.Series(data, [index], [dtype])  \n",
    "data: 数据，列表， 字典， numpy （支持多种数据类型） 空数据以NaN补上\n",
    "index: 索引，头部\n",
    "dtype:数据类型\n"
   ]
  },
  {
   "cell_type": "code",
   "execution_count": 2,
   "outputs": [
    {
     "data": {
      "text/plain": "0    1\n1    2\n2    3\n3    4\n4    5\ndtype: int64"
     },
     "metadata": {},
     "output_type": "execute_result",
     "execution_count": 2
    }
   ],
   "source": [
    "import pandas as pd\n",
    "data = pd.Series([1,2,3,4,5])\n",
    "data"
   ],
   "metadata": {
    "collapsed": false,
    "pycharm": {
     "name": "#%%\n",
     "is_executing": false
    }
   }
  },
  {
   "cell_type": "code",
   "execution_count": 7,
   "outputs": [
    {
     "data": {
      "text/plain": "a    1\nb    2\nc    3\nd    4\ne    5\ndtype: int64"
     },
     "metadata": {},
     "output_type": "execute_result",
     "execution_count": 7
    }
   ],
   "source": [
    "data = pd.Series([1,2,3,4,5], index=['a', 'b', 'c', 'd', 'e'])\n",
    "data"
   ],
   "metadata": {
    "collapsed": false,
    "pycharm": {
     "name": "#%%\n",
     "is_executing": false
    }
   }
  },
  {
   "cell_type": "code",
   "execution_count": 8,
   "outputs": [
    {
     "data": {
      "text/plain": "a    1\nb    2\nc    c\nd    4\ne    5\ndtype: object"
     },
     "metadata": {},
     "output_type": "execute_result",
     "execution_count": 8
    }
   ],
   "source": [
    "data = pd.Series([1,2,\"c\",4,5], index=['a', 'b', 'c', 'd', 'e'])\n",
    "data"
   ],
   "metadata": {
    "collapsed": false,
    "pycharm": {
     "name": "#%%\n",
     "is_executing": false
    }
   }
  },
  {
   "cell_type": "code",
   "execution_count": null,
   "outputs": [],
   "source": [
    "data = pd.Series([1,2,3,4,5], index=['a', 'b', 'c', 'd', 'e'], dtype=\"float\")\n",
    "data"
   ],
   "metadata": {
    "collapsed": false,
    "pycharm": {
     "name": "#%%\n"
    }
   }
  },
  {
   "cell_type": "code",
   "execution_count": 19,
   "outputs": [
    {
     "name": "stdout",
     "text": [
      "[0 1 2 3 4]\n"
     ],
     "output_type": "stream"
    },
    {
     "data": {
      "text/plain": "a    0\nb    1\nc    2\nd    3\ne    4\ndtype: int32"
     },
     "metadata": {},
     "output_type": "execute_result",
     "execution_count": 19
    }
   ],
   "source": [
    "# np数组\n",
    "import numpy as np\n",
    "ls = np.arange(5)\n",
    "data = pd.Series(ls, index=['a', 'b', 'c', 'd', 'e'])\n",
    "data"
   ],
   "metadata": {
    "collapsed": false,
    "pycharm": {
     "name": "#%%\n",
     "is_executing": false
    }
   }
  },
  {
   "cell_type": "code",
   "execution_count": 21,
   "outputs": [
    {
     "data": {
      "text/plain": "a    1.0\nb    1.0\nc    1.0\nd    1.0\ne    1.0\ndtype: float64"
     },
     "metadata": {},
     "output_type": "execute_result",
     "execution_count": 21
    }
   ],
   "source": [
    "# 标量，复制\n",
    "data = pd.Series(1, index=['a', 'b', 'c', 'd', 'e'], dtype=\"float\")\n",
    "data"
   ],
   "metadata": {
    "collapsed": false,
    "pycharm": {
     "name": "#%%\n",
     "is_executing": false
    }
   }
  },
  {
   "cell_type": "markdown",
   "source": [
    "# DataFrame\n",
    "带数据标签的多维数组\n",
    "结构：pd.DataFrame(Data [,index] [,columns])\n",
    "data: 数据列表\n",
    "index:标签\n",
    "colunms:列标签"
   ],
   "metadata": {
    "collapsed": false,
    "pycharm": {
     "name": "#%% md\n"
    }
   }
  },
  {
   "cell_type": "code",
   "execution_count": 22,
   "outputs": [
    {
     "data": {
      "text/plain": "BeiJing     2155\nShangHai    2424\nShenZhen    1303\nHangZhou     981\ndtype: int64"
     },
     "metadata": {},
     "output_type": "execute_result",
     "execution_count": 22
    }
   ],
   "source": [
    "# 通过series对象创建\n",
    "population_dict = {\"BeiJing\": 2155, \"ShangHai\": 2424, \"ShenZhen\": 1303, \"HangZhou\":981}\n",
    "population = pd.Series(population_dict)\n",
    "population"
   ],
   "metadata": {
    "collapsed": false,
    "pycharm": {
     "name": "#%%\n",
     "is_executing": false
    }
   }
  },
  {
   "cell_type": "code",
   "execution_count": 26,
   "outputs": [
    {
     "data": {
      "text/plain": "BeiJing      232\nShangHai     345\nShenZhen     934\nHangZhou    1455\ndtype: int64"
     },
     "metadata": {},
     "output_type": "execute_result",
     "execution_count": 26
    }
   ],
   "source": [
    "# 参数2\n",
    "GDP_dict = {\"BeiJing\": 232, \"ShangHai\": 345, \"ShenZhen\": 934, \"HangZhou\":1455}\n",
    "GDP = pd.Series(GDP_dict)\n",
    "GDP\n"
   ],
   "metadata": {
    "collapsed": false,
    "pycharm": {
     "name": "#%% \n",
     "is_executing": false
    }
   }
  },
  {
   "cell_type": "code",
   "execution_count": 25,
   "outputs": [
    {
     "data": {
      "text/plain": "             0\nBeiJing   2155\nShangHai  2424\nShenZhen  1303\nHangZhou   981",
      "text/html": "<div>\n<style scoped>\n    .dataframe tbody tr th:only-of-type {\n        vertical-align: middle;\n    }\n\n    .dataframe tbody tr th {\n        vertical-align: top;\n    }\n\n    .dataframe thead th {\n        text-align: right;\n    }\n</style>\n<table border=\"1\" class=\"dataframe\">\n  <thead>\n    <tr style=\"text-align: right;\">\n      <th></th>\n      <th>0</th>\n    </tr>\n  </thead>\n  <tbody>\n    <tr>\n      <td>BeiJing</td>\n      <td>2155</td>\n    </tr>\n    <tr>\n      <td>ShangHai</td>\n      <td>2424</td>\n    </tr>\n    <tr>\n      <td>ShenZhen</td>\n      <td>1303</td>\n    </tr>\n    <tr>\n      <td>HangZhou</td>\n      <td>981</td>\n    </tr>\n  </tbody>\n</table>\n</div>"
     },
     "metadata": {},
     "output_type": "execute_result",
     "execution_count": 25
    }
   ],
   "source": [
    "# 默认补充0\n",
    "pd.DataFrame(population)"
   ],
   "metadata": {
    "collapsed": false,
    "pycharm": {
     "name": "#%%\n",
     "is_executing": false
    }
   }
  },
  {
   "cell_type": "code",
   "execution_count": 24,
   "outputs": [
    {
     "data": {
      "text/plain": "          population\nBeiJing         2155\nShangHai        2424\nShenZhen        1303\nHangZhou         981",
      "text/html": "<div>\n<style scoped>\n    .dataframe tbody tr th:only-of-type {\n        vertical-align: middle;\n    }\n\n    .dataframe tbody tr th {\n        vertical-align: top;\n    }\n\n    .dataframe thead th {\n        text-align: right;\n    }\n</style>\n<table border=\"1\" class=\"dataframe\">\n  <thead>\n    <tr style=\"text-align: right;\">\n      <th></th>\n      <th>population</th>\n    </tr>\n  </thead>\n  <tbody>\n    <tr>\n      <td>BeiJing</td>\n      <td>2155</td>\n    </tr>\n    <tr>\n      <td>ShangHai</td>\n      <td>2424</td>\n    </tr>\n    <tr>\n      <td>ShenZhen</td>\n      <td>1303</td>\n    </tr>\n    <tr>\n      <td>HangZhou</td>\n      <td>981</td>\n    </tr>\n  </tbody>\n</table>\n</div>"
     },
     "metadata": {},
     "output_type": "execute_result",
     "execution_count": 24
    }
   ],
   "source": [
    "# 添加列名称\n",
    "pd.DataFrame(population, columns=[\"population\"])"
   ],
   "metadata": {
    "collapsed": false,
    "pycharm": {
     "name": "#%%\n",
     "is_executing": false
    }
   }
  },
  {
   "cell_type": "code",
   "execution_count": 28,
   "outputs": [
    {
     "data": {
      "text/plain": "          population   GDP\nBeiJing       2155.0   232\nHangZhou       981.0  1455\nShangHai      2424.0   345\nShenZhen      1303.0   934\ntest             NaN   333",
      "text/html": "<div>\n<style scoped>\n    .dataframe tbody tr th:only-of-type {\n        vertical-align: middle;\n    }\n\n    .dataframe tbody tr th {\n        vertical-align: top;\n    }\n\n    .dataframe thead th {\n        text-align: right;\n    }\n</style>\n<table border=\"1\" class=\"dataframe\">\n  <thead>\n    <tr style=\"text-align: right;\">\n      <th></th>\n      <th>population</th>\n      <th>GDP</th>\n    </tr>\n  </thead>\n  <tbody>\n    <tr>\n      <td>BeiJing</td>\n      <td>2155.0</td>\n      <td>232</td>\n    </tr>\n    <tr>\n      <td>HangZhou</td>\n      <td>981.0</td>\n      <td>1455</td>\n    </tr>\n    <tr>\n      <td>ShangHai</td>\n      <td>2424.0</td>\n      <td>345</td>\n    </tr>\n    <tr>\n      <td>ShenZhen</td>\n      <td>1303.0</td>\n      <td>934</td>\n    </tr>\n    <tr>\n      <td>test</td>\n      <td>NaN</td>\n      <td>333</td>\n    </tr>\n  </tbody>\n</table>\n</div>"
     },
     "metadata": {},
     "output_type": "execute_result",
     "execution_count": 28
    }
   ],
   "source": [
    "# 通过多个Serial字典生成\n",
    "# 测试差异数据\n",
    "GDP[\"test\"] = 333\n",
    "pd.DataFrame({\"population\":population, \"GDP\":GDP})\n"
   ],
   "metadata": {
    "collapsed": false,
    "pycharm": {
     "name": "#%%\n",
     "is_executing": false
    }
   }
  }
 ],
 "metadata": {
  "kernelspec": {
   "display_name": "Python 3",
   "language": "python",
   "name": "python3"
  },
  "language_info": {
   "codemirror_mode": {
    "name": "ipython",
    "version": 2
   },
   "file_extension": ".py",
   "mimetype": "text/x-python",
   "name": "python",
   "nbconvert_exporter": "python",
   "pygments_lexer": "ipython2",
   "version": "2.7.6"
  },
  "pycharm": {
   "stem_cell": {
    "cell_type": "raw",
    "source": [],
    "metadata": {
     "collapsed": false
    }
   }
  }
 },
 "nbformat": 4,
 "nbformat_minor": 0
}