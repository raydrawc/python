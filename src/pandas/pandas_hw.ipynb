{
 "cells": [
  {
   "cell_type": "code",
   "execution_count": 22,
   "metadata": {
    "collapsed": true,
    "pycharm": {
     "is_executing": false
    }
   },
   "outputs": [],
   "source": [
    "import numpy as np\n",
    "import pandas as pd"
   ]
  },
  {
   "cell_type": "code",
   "execution_count": 23,
   "outputs": [
    {
     "data": {
      "text/plain": "array([[71, 97, 95, 89, 79, 94],\n       [75, 92, 75, 84, 92, 89],\n       [98, 95, 99, 76, 99, 76],\n       [86, 78, 89, 80, 74, 89],\n       [72, 92, 98, 96, 94, 73],\n       [78, 90, 83, 77, 74, 97],\n       [93, 85, 81, 78, 83, 80],\n       [73, 94, 84, 98, 78, 73],\n       [73, 96, 86, 78, 99, 85],\n       [84, 95, 88, 98, 84, 78],\n       [76, 91, 86, 92, 75, 89],\n       [75, 79, 82, 98, 70, 77],\n       [89, 98, 73, 72, 96, 81],\n       [77, 81, 85, 97, 98, 92],\n       [96, 73, 79, 97, 95, 70],\n       [88, 93, 76, 90, 72, 89],\n       [76, 72, 83, 93, 96, 71],\n       [83, 98, 83, 73, 79, 97],\n       [83, 71, 74, 92, 93, 79],\n       [96, 98, 79, 91, 70, 70],\n       [70, 85, 86, 97, 95, 92],\n       [83, 72, 82, 75, 99, 75],\n       [70, 74, 78, 73, 70, 89],\n       [85, 77, 72, 76, 93, 74],\n       [87, 84, 74, 72, 98, 81],\n       [80, 99, 94, 72, 97, 78],\n       [96, 99, 77, 95, 97, 86],\n       [79, 96, 75, 80, 78, 93],\n       [78, 77, 80, 75, 82, 88],\n       [98, 71, 81, 88, 87, 80]])"
     },
     "metadata": {},
     "output_type": "execute_result",
     "execution_count": 23
    }
   ],
   "source": [
    "data = np.random.randint(70, 100, (30, 6))\n",
    "data"
   ],
   "metadata": {
    "collapsed": false,
    "pycharm": {
     "name": "#%%  \n",
     "is_executing": false
    }
   }
  },
  {
   "cell_type": "code",
   "execution_count": 68,
   "outputs": [
    {
     "data": {
      "text/plain": "        语文  数学  英语  物理  化学  计算机\n030200  71  97  95  89  79   94\n030201  75  92  75  84  92   89\n030202  98  95  99  76  99   76\n030203  86  78  89  80  74   89\n030204  72  92  98  96  94   73\n030205  78  90  83  77  74   97\n030206  93  85  81  78  83   80\n030207  73  94  84  98  78   73\n030208  73  96  86  78  99   85\n030209  84  95  88  98  84   78\n030210  76  91  86  92  75   89\n030211  75  79  82  98  70   77\n030212  89  98  73  72  96   81\n030213  77  81  85  97  98   92\n030214  96  73  79  97  95   70\n030215  88  93  76  90  72   89\n030216  76  72  83  93  96   71\n030217  83  98  83  73  79   97\n030218  83  71  74  92  93   79\n030219  96  98  79  91  70   70\n030220  70  85  86  97  95   92\n030221  83  72  82  75  99   75\n030222  70  74  78  73  70   89\n030223  85  77  72  76  93   74\n030224  87  84  74  72  98   81\n030225  80  99  94  72  97   78\n030226  96  99  77  95  97   86\n030227  79  96  75  80  78   93\n030228  78  77  80  75  82   88\n030229  98  71  81  88  87   80",
      "text/html": "<div>\n<style scoped>\n    .dataframe tbody tr th:only-of-type {\n        vertical-align: middle;\n    }\n\n    .dataframe tbody tr th {\n        vertical-align: top;\n    }\n\n    .dataframe thead th {\n        text-align: right;\n    }\n</style>\n<table border=\"1\" class=\"dataframe\">\n  <thead>\n    <tr style=\"text-align: right;\">\n      <th></th>\n      <th>语文</th>\n      <th>数学</th>\n      <th>英语</th>\n      <th>物理</th>\n      <th>化学</th>\n      <th>计算机</th>\n    </tr>\n  </thead>\n  <tbody>\n    <tr>\n      <td>030200</td>\n      <td>71</td>\n      <td>97</td>\n      <td>95</td>\n      <td>89</td>\n      <td>79</td>\n      <td>94</td>\n    </tr>\n    <tr>\n      <td>030201</td>\n      <td>75</td>\n      <td>92</td>\n      <td>75</td>\n      <td>84</td>\n      <td>92</td>\n      <td>89</td>\n    </tr>\n    <tr>\n      <td>030202</td>\n      <td>98</td>\n      <td>95</td>\n      <td>99</td>\n      <td>76</td>\n      <td>99</td>\n      <td>76</td>\n    </tr>\n    <tr>\n      <td>030203</td>\n      <td>86</td>\n      <td>78</td>\n      <td>89</td>\n      <td>80</td>\n      <td>74</td>\n      <td>89</td>\n    </tr>\n    <tr>\n      <td>030204</td>\n      <td>72</td>\n      <td>92</td>\n      <td>98</td>\n      <td>96</td>\n      <td>94</td>\n      <td>73</td>\n    </tr>\n    <tr>\n      <td>030205</td>\n      <td>78</td>\n      <td>90</td>\n      <td>83</td>\n      <td>77</td>\n      <td>74</td>\n      <td>97</td>\n    </tr>\n    <tr>\n      <td>030206</td>\n      <td>93</td>\n      <td>85</td>\n      <td>81</td>\n      <td>78</td>\n      <td>83</td>\n      <td>80</td>\n    </tr>\n    <tr>\n      <td>030207</td>\n      <td>73</td>\n      <td>94</td>\n      <td>84</td>\n      <td>98</td>\n      <td>78</td>\n      <td>73</td>\n    </tr>\n    <tr>\n      <td>030208</td>\n      <td>73</td>\n      <td>96</td>\n      <td>86</td>\n      <td>78</td>\n      <td>99</td>\n      <td>85</td>\n    </tr>\n    <tr>\n      <td>030209</td>\n      <td>84</td>\n      <td>95</td>\n      <td>88</td>\n      <td>98</td>\n      <td>84</td>\n      <td>78</td>\n    </tr>\n    <tr>\n      <td>030210</td>\n      <td>76</td>\n      <td>91</td>\n      <td>86</td>\n      <td>92</td>\n      <td>75</td>\n      <td>89</td>\n    </tr>\n    <tr>\n      <td>030211</td>\n      <td>75</td>\n      <td>79</td>\n      <td>82</td>\n      <td>98</td>\n      <td>70</td>\n      <td>77</td>\n    </tr>\n    <tr>\n      <td>030212</td>\n      <td>89</td>\n      <td>98</td>\n      <td>73</td>\n      <td>72</td>\n      <td>96</td>\n      <td>81</td>\n    </tr>\n    <tr>\n      <td>030213</td>\n      <td>77</td>\n      <td>81</td>\n      <td>85</td>\n      <td>97</td>\n      <td>98</td>\n      <td>92</td>\n    </tr>\n    <tr>\n      <td>030214</td>\n      <td>96</td>\n      <td>73</td>\n      <td>79</td>\n      <td>97</td>\n      <td>95</td>\n      <td>70</td>\n    </tr>\n    <tr>\n      <td>030215</td>\n      <td>88</td>\n      <td>93</td>\n      <td>76</td>\n      <td>90</td>\n      <td>72</td>\n      <td>89</td>\n    </tr>\n    <tr>\n      <td>030216</td>\n      <td>76</td>\n      <td>72</td>\n      <td>83</td>\n      <td>93</td>\n      <td>96</td>\n      <td>71</td>\n    </tr>\n    <tr>\n      <td>030217</td>\n      <td>83</td>\n      <td>98</td>\n      <td>83</td>\n      <td>73</td>\n      <td>79</td>\n      <td>97</td>\n    </tr>\n    <tr>\n      <td>030218</td>\n      <td>83</td>\n      <td>71</td>\n      <td>74</td>\n      <td>92</td>\n      <td>93</td>\n      <td>79</td>\n    </tr>\n    <tr>\n      <td>030219</td>\n      <td>96</td>\n      <td>98</td>\n      <td>79</td>\n      <td>91</td>\n      <td>70</td>\n      <td>70</td>\n    </tr>\n    <tr>\n      <td>030220</td>\n      <td>70</td>\n      <td>85</td>\n      <td>86</td>\n      <td>97</td>\n      <td>95</td>\n      <td>92</td>\n    </tr>\n    <tr>\n      <td>030221</td>\n      <td>83</td>\n      <td>72</td>\n      <td>82</td>\n      <td>75</td>\n      <td>99</td>\n      <td>75</td>\n    </tr>\n    <tr>\n      <td>030222</td>\n      <td>70</td>\n      <td>74</td>\n      <td>78</td>\n      <td>73</td>\n      <td>70</td>\n      <td>89</td>\n    </tr>\n    <tr>\n      <td>030223</td>\n      <td>85</td>\n      <td>77</td>\n      <td>72</td>\n      <td>76</td>\n      <td>93</td>\n      <td>74</td>\n    </tr>\n    <tr>\n      <td>030224</td>\n      <td>87</td>\n      <td>84</td>\n      <td>74</td>\n      <td>72</td>\n      <td>98</td>\n      <td>81</td>\n    </tr>\n    <tr>\n      <td>030225</td>\n      <td>80</td>\n      <td>99</td>\n      <td>94</td>\n      <td>72</td>\n      <td>97</td>\n      <td>78</td>\n    </tr>\n    <tr>\n      <td>030226</td>\n      <td>96</td>\n      <td>99</td>\n      <td>77</td>\n      <td>95</td>\n      <td>97</td>\n      <td>86</td>\n    </tr>\n    <tr>\n      <td>030227</td>\n      <td>79</td>\n      <td>96</td>\n      <td>75</td>\n      <td>80</td>\n      <td>78</td>\n      <td>93</td>\n    </tr>\n    <tr>\n      <td>030228</td>\n      <td>78</td>\n      <td>77</td>\n      <td>80</td>\n      <td>75</td>\n      <td>82</td>\n      <td>88</td>\n    </tr>\n    <tr>\n      <td>030229</td>\n      <td>98</td>\n      <td>71</td>\n      <td>81</td>\n      <td>88</td>\n      <td>87</td>\n      <td>80</td>\n    </tr>\n  </tbody>\n</table>\n</div>"
     },
     "metadata": {},
     "output_type": "execute_result",
     "execution_count": 68
    }
   ],
   "source": [
    "index = [\"0\" + str(30200 + i) for i in range(len(data))]\n",
    "classes = ['语文','数学','英语','物理', '化学', '计算机']\n",
    "# t\n",
    "df = pd.DataFrame(data, index=index, columns=classes)\n",
    "df"
   ],
   "metadata": {
    "collapsed": false,
    "pycharm": {
     "name": "#%%\n",
     "is_executing": false
    }
   }
  },
  {
   "cell_type": "code",
   "execution_count": 61,
   "outputs": [
    {
     "data": {
      "text/plain": "array([[71, 97, 95, 89, 79, 94],\n       [75, 92, 75, 84, 92, 89],\n       [98, 95, 99, 76, 99, 76],\n       [86, 78, 89, 80, 74, 89],\n       [72, 92, 98, 96, 94, 73],\n       [78, 90, 83, 77, 74, 97],\n       [93, 85, 81, 78, 83, 80],\n       [73, 94, 84, 98, 78, 73],\n       [73, 96, 86, 78, 99, 85],\n       [84, 95, 88, 98, 84, 78],\n       [76, 91, 86, 92, 75, 89],\n       [75, 79, 82, 98, 70, 77],\n       [89, 98, 73, 72, 96, 81],\n       [77, 81, 85, 97, 98, 92],\n       [96, 73, 79, 97, 95, 70],\n       [88, 93, 76, 90, 72, 89],\n       [76, 72, 83, 93, 96, 71],\n       [83, 98, 83, 73, 79, 97],\n       [83, 71, 74, 92, 93, 79],\n       [96, 98, 79, 91, 70, 70],\n       [70, 85, 86, 97, 95, 92],\n       [83, 72, 82, 75, 99, 75],\n       [70, 74, 78, 73, 70, 89],\n       [85, 77, 72, 76, 93, 74],\n       [87, 84, 74, 72, 98, 81],\n       [80, 99, 94, 72, 97, 78],\n       [96, 99, 77, 95, 97, 86],\n       [79, 96, 75, 80, 78, 93],\n       [78, 77, 80, 75, 82, 88],\n       [98, 71, 81, 88, 87, 80]])"
     },
     "metadata": {},
     "output_type": "execute_result",
     "execution_count": 61
    }
   ],
   "source": [
    "df.values"
   ],
   "metadata": {
    "collapsed": false,
    "pycharm": {
     "name": "#%% \n",
     "is_executing": false
    }
   }
  },
  {
   "cell_type": "code",
   "execution_count": 62,
   "outputs": [
    {
     "data": {
      "text/plain": "Index(['030200', '030201', '030202', '030203', '030204', '030205', '030206',\n       '030207', '030208', '030209', '030210', '030211', '030212', '030213',\n       '030214', '030215', '030216', '030217', '030218', '030219', '030220',\n       '030221', '030222', '030223', '030224', '030225', '030226', '030227',\n       '030228', '030229'],\n      dtype='object')"
     },
     "metadata": {},
     "output_type": "execute_result",
     "execution_count": 62
    }
   ],
   "source": [
    "df.index"
   ],
   "metadata": {
    "collapsed": false,
    "pycharm": {
     "name": "#%%\n",
     "is_executing": false
    }
   }
  },
  {
   "cell_type": "code",
   "execution_count": 63,
   "outputs": [
    {
     "data": {
      "text/plain": "Index(['语文', '数学', '英语', '物理', '化学', '计算机'], dtype='object')"
     },
     "metadata": {},
     "output_type": "execute_result",
     "execution_count": 63
    }
   ],
   "source": [
    "df.columns"
   ],
   "metadata": {
    "collapsed": false,
    "pycharm": {
     "name": "#%%\n",
     "is_executing": false
    }
   }
  },
  {
   "cell_type": "code",
   "execution_count": 64,
   "outputs": [
    {
     "data": {
      "text/plain": "(30, 6)"
     },
     "metadata": {},
     "output_type": "execute_result",
     "execution_count": 64
    }
   ],
   "source": [
    "df.shape"
   ],
   "metadata": {
    "collapsed": false,
    "pycharm": {
     "name": "#%%\n",
     "is_executing": false
    }
   }
  },
  {
   "cell_type": "code",
   "execution_count": 65,
   "outputs": [
    {
     "data": {
      "text/plain": "语文     int32\n数学     int32\n英语     int32\n物理     int32\n化学     int32\n计算机    int32\ndtype: object"
     },
     "metadata": {},
     "output_type": "execute_result",
     "execution_count": 65
    }
   ],
   "source": [
    "df.dtypes"
   ],
   "metadata": {
    "collapsed": false,
    "pycharm": {
     "name": "#%% \n",
     "is_executing": false
    }
   }
  },
  {
   "cell_type": "code",
   "execution_count": 66,
   "outputs": [
    {
     "data": {
      "text/plain": "030200    97\n030201    92\n030202    95\n030203    78\n030204    92\n030205    90\n030206    85\n030207    94\n030208    96\n030209    95\n030210    91\n030211    79\n030212    98\n030213    81\n030214    73\n030215    93\n030216    72\n030217    98\n030218    71\n030219    98\n030220    85\n030221    72\n030222    74\n030223    77\n030224    84\n030225    99\n030226    99\n030227    96\n030228    77\n030229    71\nName: 数学, dtype: int32"
     },
     "metadata": {},
     "output_type": "execute_result",
     "execution_count": 66
    }
   ],
   "source": [
    "df[\"数学\"]"
   ],
   "metadata": {
    "collapsed": false,
    "pycharm": {
     "name": "#%%\n",
     "is_executing": false
    }
   }
  },
  {
   "cell_type": "code",
   "execution_count": 67,
   "outputs": [
    {
     "data": {
      "text/plain": "语文     78\n数学     90\n英语     83\n物理     77\n化学     74\n计算机    97\nName: 030205, dtype: int32"
     },
     "metadata": {},
     "output_type": "execute_result",
     "execution_count": 67
    }
   ],
   "source": [
    "df.loc[\"030205\"]"
   ],
   "metadata": {
    "collapsed": false,
    "pycharm": {
     "name": "#%%\n",
     "is_executing": false
    }
   }
  },
  {
   "cell_type": "code",
   "execution_count": null,
   "outputs": [],
   "source": [
    "df.index[\"总成绩\"] = df[\"数学\"]"
   ],
   "metadata": {
    "collapsed": false,
    "pycharm": {
     "name": "#%%\n"
    }
   }
  }
 ],
 "metadata": {
  "kernelspec": {
   "display_name": "Python 3",
   "language": "python",
   "name": "python3"
  },
  "language_info": {
   "codemirror_mode": {
    "name": "ipython",
    "version": 2
   },
   "file_extension": ".py",
   "mimetype": "text/x-python",
   "name": "python",
   "nbconvert_exporter": "python",
   "pygments_lexer": "ipython2",
   "version": "2.7.6"
  },
  "pycharm": {
   "stem_cell": {
    "cell_type": "raw",
    "source": [],
    "metadata": {
     "collapsed": false
    }
   }
  }
 },
 "nbformat": 4,
 "nbformat_minor": 0
}