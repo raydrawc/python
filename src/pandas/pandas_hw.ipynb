{
 "cells": [
  {
   "cell_type": "code",
   "execution_count": 22,
   "metadata": {
    "collapsed": true,
    "pycharm": {
     "is_executing": false
    }
   },
   "outputs": [],
   "source": [
    "import numpy as np\n",
    "import pandas as pd"
   ]
  },
  {
   "cell_type": "code",
   "execution_count": 23,
   "outputs": [
    {
     "data": {
      "text/plain": "array([[71, 97, 95, 89, 79, 94],\n       [75, 92, 75, 84, 92, 89],\n       [98, 95, 99, 76, 99, 76],\n       [86, 78, 89, 80, 74, 89],\n       [72, 92, 98, 96, 94, 73],\n       [78, 90, 83, 77, 74, 97],\n       [93, 85, 81, 78, 83, 80],\n       [73, 94, 84, 98, 78, 73],\n       [73, 96, 86, 78, 99, 85],\n       [84, 95, 88, 98, 84, 78],\n       [76, 91, 86, 92, 75, 89],\n       [75, 79, 82, 98, 70, 77],\n       [89, 98, 73, 72, 96, 81],\n       [77, 81, 85, 97, 98, 92],\n       [96, 73, 79, 97, 95, 70],\n       [88, 93, 76, 90, 72, 89],\n       [76, 72, 83, 93, 96, 71],\n       [83, 98, 83, 73, 79, 97],\n       [83, 71, 74, 92, 93, 79],\n       [96, 98, 79, 91, 70, 70],\n       [70, 85, 86, 97, 95, 92],\n       [83, 72, 82, 75, 99, 75],\n       [70, 74, 78, 73, 70, 89],\n       [85, 77, 72, 76, 93, 74],\n       [87, 84, 74, 72, 98, 81],\n       [80, 99, 94, 72, 97, 78],\n       [96, 99, 77, 95, 97, 86],\n       [79, 96, 75, 80, 78, 93],\n       [78, 77, 80, 75, 82, 88],\n       [98, 71, 81, 88, 87, 80]])"
     },
     "metadata": {},
     "output_type": "execute_result",
     "execution_count": 23
    }
   ],
   "source": [
    "data = np.random.randint(70, 100, (30, 6))\n",
    "data"
   ],
   "metadata": {
    "collapsed": false,
    "pycharm": {
     "name": "#%%  \n",
     "is_executing": false
    }
   }
  },
  {
   "cell_type": "code",
   "execution_count": 68,
   "outputs": [
    {
     "data": {
      "text/plain": "        语文  数学  英语  物理  化学  计算机\n030200  71  97  95  89  79   94\n030201  75  92  75  84  92   89\n030202  98  95  99  76  99   76\n030203  86  78  89  80  74   89\n030204  72  92  98  96  94   73\n030205  78  90  83  77  74   97\n030206  93  85  81  78  83   80\n030207  73  94  84  98  78   73\n030208  73  96  86  78  99   85\n030209  84  95  88  98  84   78\n030210  76  91  86  92  75   89\n030211  75  79  82  98  70   77\n030212  89  98  73  72  96   81\n030213  77  81  85  97  98   92\n030214  96  73  79  97  95   70\n030215  88  93  76  90  72   89\n030216  76  72  83  93  96   71\n030217  83  98  83  73  79   97\n030218  83  71  74  92  93   79\n030219  96  98  79  91  70   70\n030220  70  85  86  97  95   92\n030221  83  72  82  75  99   75\n030222  70  74  78  73  70   89\n030223  85  77  72  76  93   74\n030224  87  84  74  72  98   81\n030225  80  99  94  72  97   78\n030226  96  99  77  95  97   86\n030227  79  96  75  80  78   93\n030228  78  77  80  75  82   88\n030229  98  71  81  88  87   80",
      "text/html": "<div>\n<style scoped>\n    .dataframe tbody tr th:only-of-type {\n        vertical-align: middle;\n    }\n\n    .dataframe tbody tr th {\n        vertical-align: top;\n    }\n\n    .dataframe thead th {\n        text-align: right;\n    }\n</style>\n<table border=\"1\" class=\"dataframe\">\n  <thead>\n    <tr style=\"text-align: right;\">\n      <th></th>\n      <th>语文</th>\n      <th>数学</th>\n      <th>英语</th>\n      <th>物理</th>\n      <th>化学</th>\n      <th>计算机</th>\n    </tr>\n  </thead>\n  <tbody>\n    <tr>\n      <td>030200</td>\n      <td>71</td>\n      <td>97</td>\n      <td>95</td>\n      <td>89</td>\n      <td>79</td>\n      <td>94</td>\n    </tr>\n    <tr>\n      <td>030201</td>\n      <td>75</td>\n      <td>92</td>\n      <td>75</td>\n      <td>84</td>\n      <td>92</td>\n      <td>89</td>\n    </tr>\n    <tr>\n      <td>030202</td>\n      <td>98</td>\n      <td>95</td>\n      <td>99</td>\n      <td>76</td>\n      <td>99</td>\n      <td>76</td>\n    </tr>\n    <tr>\n      <td>030203</td>\n      <td>86</td>\n      <td>78</td>\n      <td>89</td>\n      <td>80</td>\n      <td>74</td>\n      <td>89</td>\n    </tr>\n    <tr>\n      <td>030204</td>\n      <td>72</td>\n      <td>92</td>\n      <td>98</td>\n      <td>96</td>\n      <td>94</td>\n      <td>73</td>\n    </tr>\n    <tr>\n      <td>030205</td>\n      <td>78</td>\n      <td>90</td>\n      <td>83</td>\n      <td>77</td>\n      <td>74</td>\n      <td>97</td>\n    </tr>\n    <tr>\n      <td>030206</td>\n      <td>93</td>\n      <td>85</td>\n      <td>81</td>\n      <td>78</td>\n      <td>83</td>\n      <td>80</td>\n    </tr>\n    <tr>\n      <td>030207</td>\n      <td>73</td>\n      <td>94</td>\n      <td>84</td>\n      <td>98</td>\n      <td>78</td>\n      <td>73</td>\n    </tr>\n    <tr>\n      <td>030208</td>\n      <td>73</td>\n      <td>96</td>\n      <td>86</td>\n      <td>78</td>\n      <td>99</td>\n      <td>85</td>\n    </tr>\n    <tr>\n      <td>030209</td>\n      <td>84</td>\n      <td>95</td>\n      <td>88</td>\n      <td>98</td>\n      <td>84</td>\n      <td>78</td>\n    </tr>\n    <tr>\n      <td>030210</td>\n      <td>76</td>\n      <td>91</td>\n      <td>86</td>\n      <td>92</td>\n      <td>75</td>\n      <td>89</td>\n    </tr>\n    <tr>\n      <td>030211</td>\n      <td>75</td>\n      <td>79</td>\n      <td>82</td>\n      <td>98</td>\n      <td>70</td>\n      <td>77</td>\n    </tr>\n    <tr>\n      <td>030212</td>\n      <td>89</td>\n      <td>98</td>\n      <td>73</td>\n      <td>72</td>\n      <td>96</td>\n      <td>81</td>\n    </tr>\n    <tr>\n      <td>030213</td>\n      <td>77</td>\n      <td>81</td>\n      <td>85</td>\n      <td>97</td>\n      <td>98</td>\n      <td>92</td>\n    </tr>\n    <tr>\n      <td>030214</td>\n      <td>96</td>\n      <td>73</td>\n      <td>79</td>\n      <td>97</td>\n      <td>95</td>\n      <td>70</td>\n    </tr>\n    <tr>\n      <td>030215</td>\n      <td>88</td>\n      <td>93</td>\n      <td>76</td>\n      <td>90</td>\n      <td>72</td>\n      <td>89</td>\n    </tr>\n    <tr>\n      <td>030216</td>\n      <td>76</td>\n      <td>72</td>\n      <td>83</td>\n      <td>93</td>\n      <td>96</td>\n      <td>71</td>\n    </tr>\n    <tr>\n      <td>030217</td>\n      <td>83</td>\n      <td>98</td>\n      <td>83</td>\n      <td>73</td>\n      <td>79</td>\n      <td>97</td>\n    </tr>\n    <tr>\n      <td>030218</td>\n      <td>83</td>\n      <td>71</td>\n      <td>74</td>\n      <td>92</td>\n      <td>93</td>\n      <td>79</td>\n    </tr>\n    <tr>\n      <td>030219</td>\n      <td>96</td>\n      <td>98</td>\n      <td>79</td>\n      <td>91</td>\n      <td>70</td>\n      <td>70</td>\n    </tr>\n    <tr>\n      <td>030220</td>\n      <td>70</td>\n      <td>85</td>\n      <td>86</td>\n      <td>97</td>\n      <td>95</td>\n      <td>92</td>\n    </tr>\n    <tr>\n      <td>030221</td>\n      <td>83</td>\n      <td>72</td>\n      <td>82</td>\n      <td>75</td>\n      <td>99</td>\n      <td>75</td>\n    </tr>\n    <tr>\n      <td>030222</td>\n      <td>70</td>\n      <td>74</td>\n      <td>78</td>\n      <td>73</td>\n      <td>70</td>\n      <td>89</td>\n    </tr>\n    <tr>\n      <td>030223</td>\n      <td>85</td>\n      <td>77</td>\n      <td>72</td>\n      <td>76</td>\n      <td>93</td>\n      <td>74</td>\n    </tr>\n    <tr>\n      <td>030224</td>\n      <td>87</td>\n      <td>84</td>\n      <td>74</td>\n      <td>72</td>\n      <td>98</td>\n      <td>81</td>\n    </tr>\n    <tr>\n      <td>030225</td>\n      <td>80</td>\n      <td>99</td>\n      <td>94</td>\n      <td>72</td>\n      <td>97</td>\n      <td>78</td>\n    </tr>\n    <tr>\n      <td>030226</td>\n      <td>96</td>\n      <td>99</td>\n      <td>77</td>\n      <td>95</td>\n      <td>97</td>\n      <td>86</td>\n    </tr>\n    <tr>\n      <td>030227</td>\n      <td>79</td>\n      <td>96</td>\n      <td>75</td>\n      <td>80</td>\n      <td>78</td>\n      <td>93</td>\n    </tr>\n    <tr>\n      <td>030228</td>\n      <td>78</td>\n      <td>77</td>\n      <td>80</td>\n      <td>75</td>\n      <td>82</td>\n      <td>88</td>\n    </tr>\n    <tr>\n      <td>030229</td>\n      <td>98</td>\n      <td>71</td>\n      <td>81</td>\n      <td>88</td>\n      <td>87</td>\n      <td>80</td>\n    </tr>\n  </tbody>\n</table>\n</div>"
     },
     "metadata": {},
     "output_type": "execute_result",
     "execution_count": 68
    }
   ],
   "source": [
    "index = [\"0\" + str(30200 + i) for i in range(len(data))]\n",
    "classes = ['语文','数学','英语','物理', '化学', '计算机']\n",
    "# t\n",
    "df = pd.DataFrame(data, index=index, columns=classes)\n",
    "df"
   ],
   "metadata": {
    "collapsed": false,
    "pycharm": {
     "name": "#%%\n",
     "is_executing": false
    }
   }
  },
  {
   "cell_type": "code",
   "execution_count": 61,
   "outputs": [
    {
     "data": {
      "text/plain": "array([[71, 97, 95, 89, 79, 94],\n       [75, 92, 75, 84, 92, 89],\n       [98, 95, 99, 76, 99, 76],\n       [86, 78, 89, 80, 74, 89],\n       [72, 92, 98, 96, 94, 73],\n       [78, 90, 83, 77, 74, 97],\n       [93, 85, 81, 78, 83, 80],\n       [73, 94, 84, 98, 78, 73],\n       [73, 96, 86, 78, 99, 85],\n       [84, 95, 88, 98, 84, 78],\n       [76, 91, 86, 92, 75, 89],\n       [75, 79, 82, 98, 70, 77],\n       [89, 98, 73, 72, 96, 81],\n       [77, 81, 85, 97, 98, 92],\n       [96, 73, 79, 97, 95, 70],\n       [88, 93, 76, 90, 72, 89],\n       [76, 72, 83, 93, 96, 71],\n       [83, 98, 83, 73, 79, 97],\n       [83, 71, 74, 92, 93, 79],\n       [96, 98, 79, 91, 70, 70],\n       [70, 85, 86, 97, 95, 92],\n       [83, 72, 82, 75, 99, 75],\n       [70, 74, 78, 73, 70, 89],\n       [85, 77, 72, 76, 93, 74],\n       [87, 84, 74, 72, 98, 81],\n       [80, 99, 94, 72, 97, 78],\n       [96, 99, 77, 95, 97, 86],\n       [79, 96, 75, 80, 78, 93],\n       [78, 77, 80, 75, 82, 88],\n       [98, 71, 81, 88, 87, 80]])"
     },
     "metadata": {},
     "output_type": "execute_result",
     "execution_count": 61
    }
   ],
   "source": [
    "df.values"
   ],
   "metadata": {
    "collapsed": false,
    "pycharm": {
     "name": "#%% \n",
     "is_executing": false
    }
   }
  },
  {
   "cell_type": "code",
   "execution_count": 62,
   "outputs": [
    {
     "data": {
      "text/plain": "Index(['030200', '030201', '030202', '030203', '030204', '030205', '030206',\n       '030207', '030208', '030209', '030210', '030211', '030212', '030213',\n       '030214', '030215', '030216', '030217', '030218', '030219', '030220',\n       '030221', '030222', '030223', '030224', '030225', '030226', '030227',\n       '030228', '030229'],\n      dtype='object')"
     },
     "metadata": {},
     "output_type": "execute_result",
     "execution_count": 62
    }
   ],
   "source": [
    "df.index"
   ],
   "metadata": {
    "collapsed": false,
    "pycharm": {
     "name": "#%%\n",
     "is_executing": false
    }
   }
  },
  {
   "cell_type": "code",
   "execution_count": 63,
   "outputs": [
    {
     "data": {
      "text/plain": "Index(['语文', '数学', '英语', '物理', '化学', '计算机'], dtype='object')"
     },
     "metadata": {},
     "output_type": "execute_result",
     "execution_count": 63
    }
   ],
   "source": [
    "df.columns"
   ],
   "metadata": {
    "collapsed": false,
    "pycharm": {
     "name": "#%%\n",
     "is_executing": false
    }
   }
  },
  {
   "cell_type": "code",
   "execution_count": 64,
   "outputs": [
    {
     "data": {
      "text/plain": "(30, 6)"
     },
     "metadata": {},
     "output_type": "execute_result",
     "execution_count": 64
    }
   ],
   "source": [
    "df.shape"
   ],
   "metadata": {
    "collapsed": false,
    "pycharm": {
     "name": "#%%\n",
     "is_executing": false
    }
   }
  },
  {
   "cell_type": "code",
   "execution_count": 65,
   "outputs": [
    {
     "data": {
      "text/plain": "语文     int32\n数学     int32\n英语     int32\n物理     int32\n化学     int32\n计算机    int32\ndtype: object"
     },
     "metadata": {},
     "output_type": "execute_result",
     "execution_count": 65
    }
   ],
   "source": [
    "df.dtypes"
   ],
   "metadata": {
    "collapsed": false,
    "pycharm": {
     "name": "#%% \n",
     "is_executing": false
    }
   }
  },
  {
   "cell_type": "code",
   "execution_count": 66,
   "outputs": [
    {
     "data": {
      "text/plain": "030200    97\n030201    92\n030202    95\n030203    78\n030204    92\n030205    90\n030206    85\n030207    94\n030208    96\n030209    95\n030210    91\n030211    79\n030212    98\n030213    81\n030214    73\n030215    93\n030216    72\n030217    98\n030218    71\n030219    98\n030220    85\n030221    72\n030222    74\n030223    77\n030224    84\n030225    99\n030226    99\n030227    96\n030228    77\n030229    71\nName: 数学, dtype: int32"
     },
     "metadata": {},
     "output_type": "execute_result",
     "execution_count": 66
    }
   ],
   "source": [
    "df[\"数学\"]"
   ],
   "metadata": {
    "collapsed": false,
    "pycharm": {
     "name": "#%%\n",
     "is_executing": false
    }
   }
  },
  {
   "cell_type": "code",
   "execution_count": 67,
   "outputs": [
    {
     "data": {
      "text/plain": "语文     78\n数学     90\n英语     83\n物理     77\n化学     74\n计算机    97\nName: 030205, dtype: int32"
     },
     "metadata": {},
     "output_type": "execute_result",
     "execution_count": 67
    }
   ],
   "source": [
    "df.loc[\"030205\"]"
   ],
   "metadata": {
    "collapsed": false,
    "pycharm": {
     "name": "#%%\n",
     "is_executing": false
    }
   }
  },
  {
   "cell_type": "code",
   "execution_count": 74,
   "outputs": [
    {
     "data": {
      "text/plain": "        语文  数学  英语  物理  化学  计算机  总成绩\n030200  71  97  95  89  79   94  525\n030201  75  92  75  84  92   89  507\n030202  98  95  99  76  99   76  543\n030203  86  78  89  80  74   89  496\n030204  72  92  98  96  94   73  525\n030205  78  90  83  77  74   97  499\n030206  93  85  81  78  83   80  500\n030207  73  94  84  98  78   73  500\n030208  73  96  86  78  99   85  517\n030209  84  95  88  98  84   78  527\n030210  76  91  86  92  75   89  509\n030211  75  79  82  98  70   77  481\n030212  89  98  73  72  96   81  509\n030213  77  81  85  97  98   92  530\n030214  96  73  79  97  95   70  510\n030215  88  93  76  90  72   89  508\n030216  76  72  83  93  96   71  491\n030217  83  98  83  73  79   97  513\n030218  83  71  74  92  93   79  492\n030219  96  98  79  91  70   70  504\n030220  70  85  86  97  95   92  525\n030221  83  72  82  75  99   75  486\n030222  70  74  78  73  70   89  454\n030223  85  77  72  76  93   74  477\n030224  87  84  74  72  98   81  496\n030225  80  99  94  72  97   78  520\n030226  96  99  77  95  97   86  550\n030227  79  96  75  80  78   93  501\n030228  78  77  80  75  82   88  480\n030229  98  71  81  88  87   80  505",
      "text/html": "<div>\n<style scoped>\n    .dataframe tbody tr th:only-of-type {\n        vertical-align: middle;\n    }\n\n    .dataframe tbody tr th {\n        vertical-align: top;\n    }\n\n    .dataframe thead th {\n        text-align: right;\n    }\n</style>\n<table border=\"1\" class=\"dataframe\">\n  <thead>\n    <tr style=\"text-align: right;\">\n      <th></th>\n      <th>语文</th>\n      <th>数学</th>\n      <th>英语</th>\n      <th>物理</th>\n      <th>化学</th>\n      <th>计算机</th>\n      <th>总成绩</th>\n    </tr>\n  </thead>\n  <tbody>\n    <tr>\n      <td>030200</td>\n      <td>71</td>\n      <td>97</td>\n      <td>95</td>\n      <td>89</td>\n      <td>79</td>\n      <td>94</td>\n      <td>525</td>\n    </tr>\n    <tr>\n      <td>030201</td>\n      <td>75</td>\n      <td>92</td>\n      <td>75</td>\n      <td>84</td>\n      <td>92</td>\n      <td>89</td>\n      <td>507</td>\n    </tr>\n    <tr>\n      <td>030202</td>\n      <td>98</td>\n      <td>95</td>\n      <td>99</td>\n      <td>76</td>\n      <td>99</td>\n      <td>76</td>\n      <td>543</td>\n    </tr>\n    <tr>\n      <td>030203</td>\n      <td>86</td>\n      <td>78</td>\n      <td>89</td>\n      <td>80</td>\n      <td>74</td>\n      <td>89</td>\n      <td>496</td>\n    </tr>\n    <tr>\n      <td>030204</td>\n      <td>72</td>\n      <td>92</td>\n      <td>98</td>\n      <td>96</td>\n      <td>94</td>\n      <td>73</td>\n      <td>525</td>\n    </tr>\n    <tr>\n      <td>030205</td>\n      <td>78</td>\n      <td>90</td>\n      <td>83</td>\n      <td>77</td>\n      <td>74</td>\n      <td>97</td>\n      <td>499</td>\n    </tr>\n    <tr>\n      <td>030206</td>\n      <td>93</td>\n      <td>85</td>\n      <td>81</td>\n      <td>78</td>\n      <td>83</td>\n      <td>80</td>\n      <td>500</td>\n    </tr>\n    <tr>\n      <td>030207</td>\n      <td>73</td>\n      <td>94</td>\n      <td>84</td>\n      <td>98</td>\n      <td>78</td>\n      <td>73</td>\n      <td>500</td>\n    </tr>\n    <tr>\n      <td>030208</td>\n      <td>73</td>\n      <td>96</td>\n      <td>86</td>\n      <td>78</td>\n      <td>99</td>\n      <td>85</td>\n      <td>517</td>\n    </tr>\n    <tr>\n      <td>030209</td>\n      <td>84</td>\n      <td>95</td>\n      <td>88</td>\n      <td>98</td>\n      <td>84</td>\n      <td>78</td>\n      <td>527</td>\n    </tr>\n    <tr>\n      <td>030210</td>\n      <td>76</td>\n      <td>91</td>\n      <td>86</td>\n      <td>92</td>\n      <td>75</td>\n      <td>89</td>\n      <td>509</td>\n    </tr>\n    <tr>\n      <td>030211</td>\n      <td>75</td>\n      <td>79</td>\n      <td>82</td>\n      <td>98</td>\n      <td>70</td>\n      <td>77</td>\n      <td>481</td>\n    </tr>\n    <tr>\n      <td>030212</td>\n      <td>89</td>\n      <td>98</td>\n      <td>73</td>\n      <td>72</td>\n      <td>96</td>\n      <td>81</td>\n      <td>509</td>\n    </tr>\n    <tr>\n      <td>030213</td>\n      <td>77</td>\n      <td>81</td>\n      <td>85</td>\n      <td>97</td>\n      <td>98</td>\n      <td>92</td>\n      <td>530</td>\n    </tr>\n    <tr>\n      <td>030214</td>\n      <td>96</td>\n      <td>73</td>\n      <td>79</td>\n      <td>97</td>\n      <td>95</td>\n      <td>70</td>\n      <td>510</td>\n    </tr>\n    <tr>\n      <td>030215</td>\n      <td>88</td>\n      <td>93</td>\n      <td>76</td>\n      <td>90</td>\n      <td>72</td>\n      <td>89</td>\n      <td>508</td>\n    </tr>\n    <tr>\n      <td>030216</td>\n      <td>76</td>\n      <td>72</td>\n      <td>83</td>\n      <td>93</td>\n      <td>96</td>\n      <td>71</td>\n      <td>491</td>\n    </tr>\n    <tr>\n      <td>030217</td>\n      <td>83</td>\n      <td>98</td>\n      <td>83</td>\n      <td>73</td>\n      <td>79</td>\n      <td>97</td>\n      <td>513</td>\n    </tr>\n    <tr>\n      <td>030218</td>\n      <td>83</td>\n      <td>71</td>\n      <td>74</td>\n      <td>92</td>\n      <td>93</td>\n      <td>79</td>\n      <td>492</td>\n    </tr>\n    <tr>\n      <td>030219</td>\n      <td>96</td>\n      <td>98</td>\n      <td>79</td>\n      <td>91</td>\n      <td>70</td>\n      <td>70</td>\n      <td>504</td>\n    </tr>\n    <tr>\n      <td>030220</td>\n      <td>70</td>\n      <td>85</td>\n      <td>86</td>\n      <td>97</td>\n      <td>95</td>\n      <td>92</td>\n      <td>525</td>\n    </tr>\n    <tr>\n      <td>030221</td>\n      <td>83</td>\n      <td>72</td>\n      <td>82</td>\n      <td>75</td>\n      <td>99</td>\n      <td>75</td>\n      <td>486</td>\n    </tr>\n    <tr>\n      <td>030222</td>\n      <td>70</td>\n      <td>74</td>\n      <td>78</td>\n      <td>73</td>\n      <td>70</td>\n      <td>89</td>\n      <td>454</td>\n    </tr>\n    <tr>\n      <td>030223</td>\n      <td>85</td>\n      <td>77</td>\n      <td>72</td>\n      <td>76</td>\n      <td>93</td>\n      <td>74</td>\n      <td>477</td>\n    </tr>\n    <tr>\n      <td>030224</td>\n      <td>87</td>\n      <td>84</td>\n      <td>74</td>\n      <td>72</td>\n      <td>98</td>\n      <td>81</td>\n      <td>496</td>\n    </tr>\n    <tr>\n      <td>030225</td>\n      <td>80</td>\n      <td>99</td>\n      <td>94</td>\n      <td>72</td>\n      <td>97</td>\n      <td>78</td>\n      <td>520</td>\n    </tr>\n    <tr>\n      <td>030226</td>\n      <td>96</td>\n      <td>99</td>\n      <td>77</td>\n      <td>95</td>\n      <td>97</td>\n      <td>86</td>\n      <td>550</td>\n    </tr>\n    <tr>\n      <td>030227</td>\n      <td>79</td>\n      <td>96</td>\n      <td>75</td>\n      <td>80</td>\n      <td>78</td>\n      <td>93</td>\n      <td>501</td>\n    </tr>\n    <tr>\n      <td>030228</td>\n      <td>78</td>\n      <td>77</td>\n      <td>80</td>\n      <td>75</td>\n      <td>82</td>\n      <td>88</td>\n      <td>480</td>\n    </tr>\n    <tr>\n      <td>030229</td>\n      <td>98</td>\n      <td>71</td>\n      <td>81</td>\n      <td>88</td>\n      <td>87</td>\n      <td>80</td>\n      <td>505</td>\n    </tr>\n  </tbody>\n</table>\n</div>"
     },
     "metadata": {},
     "output_type": "execute_result",
     "execution_count": 74
    }
   ],
   "source": [
    "df_cp = df.copy()\n",
    "df_cp[\"总成绩\"] = df_cp.sum(axis=1)\n",
    "df_cp"
   ],
   "metadata": {
    "collapsed": false,
    "pycharm": {
     "name": "#%%\n",
     "is_executing": false
    }
   }
  },
  {
   "cell_type": "code",
   "execution_count": 84,
   "outputs": [
    {
     "data": {
      "text/plain": "        语文  数学  英语  物理  化学  计算机  总成绩\n030226  96  99  77  95  97   86  550\n030202  98  95  99  76  99   76  543\n030213  77  81  85  97  98   92  530\n030209  84  95  88  98  84   78  527\n030200  71  97  95  89  79   94  525\n030204  72  92  98  96  94   73  525\n030220  70  85  86  97  95   92  525\n030225  80  99  94  72  97   78  520\n030208  73  96  86  78  99   85  517\n030217  83  98  83  73  79   97  513",
      "text/html": "<div>\n<style scoped>\n    .dataframe tbody tr th:only-of-type {\n        vertical-align: middle;\n    }\n\n    .dataframe tbody tr th {\n        vertical-align: top;\n    }\n\n    .dataframe thead th {\n        text-align: right;\n    }\n</style>\n<table border=\"1\" class=\"dataframe\">\n  <thead>\n    <tr style=\"text-align: right;\">\n      <th></th>\n      <th>语文</th>\n      <th>数学</th>\n      <th>英语</th>\n      <th>物理</th>\n      <th>化学</th>\n      <th>计算机</th>\n      <th>总成绩</th>\n    </tr>\n  </thead>\n  <tbody>\n    <tr>\n      <td>030226</td>\n      <td>96</td>\n      <td>99</td>\n      <td>77</td>\n      <td>95</td>\n      <td>97</td>\n      <td>86</td>\n      <td>550</td>\n    </tr>\n    <tr>\n      <td>030202</td>\n      <td>98</td>\n      <td>95</td>\n      <td>99</td>\n      <td>76</td>\n      <td>99</td>\n      <td>76</td>\n      <td>543</td>\n    </tr>\n    <tr>\n      <td>030213</td>\n      <td>77</td>\n      <td>81</td>\n      <td>85</td>\n      <td>97</td>\n      <td>98</td>\n      <td>92</td>\n      <td>530</td>\n    </tr>\n    <tr>\n      <td>030209</td>\n      <td>84</td>\n      <td>95</td>\n      <td>88</td>\n      <td>98</td>\n      <td>84</td>\n      <td>78</td>\n      <td>527</td>\n    </tr>\n    <tr>\n      <td>030200</td>\n      <td>71</td>\n      <td>97</td>\n      <td>95</td>\n      <td>89</td>\n      <td>79</td>\n      <td>94</td>\n      <td>525</td>\n    </tr>\n    <tr>\n      <td>030204</td>\n      <td>72</td>\n      <td>92</td>\n      <td>98</td>\n      <td>96</td>\n      <td>94</td>\n      <td>73</td>\n      <td>525</td>\n    </tr>\n    <tr>\n      <td>030220</td>\n      <td>70</td>\n      <td>85</td>\n      <td>86</td>\n      <td>97</td>\n      <td>95</td>\n      <td>92</td>\n      <td>525</td>\n    </tr>\n    <tr>\n      <td>030225</td>\n      <td>80</td>\n      <td>99</td>\n      <td>94</td>\n      <td>72</td>\n      <td>97</td>\n      <td>78</td>\n      <td>520</td>\n    </tr>\n    <tr>\n      <td>030208</td>\n      <td>73</td>\n      <td>96</td>\n      <td>86</td>\n      <td>78</td>\n      <td>99</td>\n      <td>85</td>\n      <td>517</td>\n    </tr>\n    <tr>\n      <td>030217</td>\n      <td>83</td>\n      <td>98</td>\n      <td>83</td>\n      <td>73</td>\n      <td>79</td>\n      <td>97</td>\n      <td>513</td>\n    </tr>\n  </tbody>\n</table>\n</div>"
     },
     "metadata": {},
     "output_type": "execute_result",
     "execution_count": 84
    }
   ],
   "source": [
    "df_cp2 = df_cp.sort_values(by = '总成绩', ascending=False)\n",
    "df_cp2[0:10]"
   ],
   "metadata": {
    "collapsed": false,
    "pycharm": {
     "name": "#%% \n",
     "is_executing": false
    }
   }
  },
  {
   "cell_type": "code",
   "execution_count": 104,
   "outputs": [
    {
     "data": {
      "text/plain": "['女',\n '男',\n '女',\n '男',\n '男',\n '女',\n '女',\n '男',\n '男',\n '女',\n '男',\n '男',\n '女',\n '男',\n '女',\n '男',\n '男',\n '男',\n '女',\n '女',\n '女',\n '女',\n '男',\n '女',\n '男',\n '男',\n '男',\n '女',\n '男',\n '女']"
     },
     "metadata": {},
     "output_type": "execute_result",
     "execution_count": 104
    }
   ],
   "source": [
    "# \"男\" if 0.5 > np.random.random() else '女'\n",
    "BData = [ \"男\" if 0.5 > np.random.random() else '女' for _ in range(len(index))]\n",
    "BData"
   ],
   "metadata": {
    "collapsed": false,
    "pycharm": {
     "name": "#%%\n",
     "is_executing": false
    }
   }
  },
  {
   "cell_type": "code",
   "execution_count": 111,
   "outputs": [
    {
     "data": {
      "text/plain": "       性别\n030200  女\n030201  男\n030202  女\n030203  男\n030204  男\n030205  女\n030206  女\n030207  男\n030208  男\n030209  女\n030210  男\n030211  男\n030212  女\n030213  男\n030214  女\n030215  男\n030216  男\n030217  男\n030218  女\n030219  女\n030220  女\n030221  女\n030222  男\n030223  女\n030224  男\n030225  男\n030226  男\n030227  女\n030228  男\n030229  女",
      "text/html": "<div>\n<style scoped>\n    .dataframe tbody tr th:only-of-type {\n        vertical-align: middle;\n    }\n\n    .dataframe tbody tr th {\n        vertical-align: top;\n    }\n\n    .dataframe thead th {\n        text-align: right;\n    }\n</style>\n<table border=\"1\" class=\"dataframe\">\n  <thead>\n    <tr style=\"text-align: right;\">\n      <th></th>\n      <th>性别</th>\n    </tr>\n  </thead>\n  <tbody>\n    <tr>\n      <td>030200</td>\n      <td>女</td>\n    </tr>\n    <tr>\n      <td>030201</td>\n      <td>男</td>\n    </tr>\n    <tr>\n      <td>030202</td>\n      <td>女</td>\n    </tr>\n    <tr>\n      <td>030203</td>\n      <td>男</td>\n    </tr>\n    <tr>\n      <td>030204</td>\n      <td>男</td>\n    </tr>\n    <tr>\n      <td>030205</td>\n      <td>女</td>\n    </tr>\n    <tr>\n      <td>030206</td>\n      <td>女</td>\n    </tr>\n    <tr>\n      <td>030207</td>\n      <td>男</td>\n    </tr>\n    <tr>\n      <td>030208</td>\n      <td>男</td>\n    </tr>\n    <tr>\n      <td>030209</td>\n      <td>女</td>\n    </tr>\n    <tr>\n      <td>030210</td>\n      <td>男</td>\n    </tr>\n    <tr>\n      <td>030211</td>\n      <td>男</td>\n    </tr>\n    <tr>\n      <td>030212</td>\n      <td>女</td>\n    </tr>\n    <tr>\n      <td>030213</td>\n      <td>男</td>\n    </tr>\n    <tr>\n      <td>030214</td>\n      <td>女</td>\n    </tr>\n    <tr>\n      <td>030215</td>\n      <td>男</td>\n    </tr>\n    <tr>\n      <td>030216</td>\n      <td>男</td>\n    </tr>\n    <tr>\n      <td>030217</td>\n      <td>男</td>\n    </tr>\n    <tr>\n      <td>030218</td>\n      <td>女</td>\n    </tr>\n    <tr>\n      <td>030219</td>\n      <td>女</td>\n    </tr>\n    <tr>\n      <td>030220</td>\n      <td>女</td>\n    </tr>\n    <tr>\n      <td>030221</td>\n      <td>女</td>\n    </tr>\n    <tr>\n      <td>030222</td>\n      <td>男</td>\n    </tr>\n    <tr>\n      <td>030223</td>\n      <td>女</td>\n    </tr>\n    <tr>\n      <td>030224</td>\n      <td>男</td>\n    </tr>\n    <tr>\n      <td>030225</td>\n      <td>男</td>\n    </tr>\n    <tr>\n      <td>030226</td>\n      <td>男</td>\n    </tr>\n    <tr>\n      <td>030227</td>\n      <td>女</td>\n    </tr>\n    <tr>\n      <td>030228</td>\n      <td>男</td>\n    </tr>\n    <tr>\n      <td>030229</td>\n      <td>女</td>\n    </tr>\n  </tbody>\n</table>\n</div>"
     },
     "metadata": {},
     "output_type": "execute_result",
     "execution_count": 111
    }
   ],
   "source": [
    "df2 = pd.DataFrame(BData, index = index, columns=[\"性别\"])\n",
    "df2"
   ],
   "metadata": {
    "collapsed": false,
    "pycharm": {
     "name": "#%% \n",
     "is_executing": false
    }
   }
  },
  {
   "cell_type": "code",
   "execution_count": 143,
   "outputs": [
    {
     "data": {
      "text/plain": "        语文  数学  英语  物理  化学  计算机  总成绩 性别\n030200  71  97  95  89  79   94  525  女\n030201  75  92  75  84  92   89  507  男\n030202  98  95  99  76  99   76  543  女\n030203  86  78  89  80  74   89  496  男\n030204  72  92  98  96  94   73  525  男\n030205  78  90  83  77  74   97  499  女\n030206  93  85  81  78  83   80  500  女\n030207  73  94  84  98  78   73  500  男\n030208  73  96  86  78  99   85  517  男\n030209  84  95  88  98  84   78  527  女\n030210  76  91  86  92  75   89  509  男\n030211  75  79  82  98  70   77  481  男\n030212  89  98  73  72  96   81  509  女\n030213  77  81  85  97  98   92  530  男\n030214  96  73  79  97  95   70  510  女\n030215  88  93  76  90  72   89  508  男\n030216  76  72  83  93  96   71  491  男\n030217  83  98  83  73  79   97  513  男\n030218  83  71  74  92  93   79  492  女\n030219  96  98  79  91  70   70  504  女\n030220  70  85  86  97  95   92  525  女\n030221  83  72  82  75  99   75  486  女\n030222  70  74  78  73  70   89  454  男\n030223  85  77  72  76  93   74  477  女\n030224  87  84  74  72  98   81  496  男\n030225  80  99  94  72  97   78  520  男\n030226  96  99  77  95  97   86  550  男\n030227  79  96  75  80  78   93  501  女\n030228  78  77  80  75  82   88  480  男\n030229  98  71  81  88  87   80  505  女",
      "text/html": "<div>\n<style scoped>\n    .dataframe tbody tr th:only-of-type {\n        vertical-align: middle;\n    }\n\n    .dataframe tbody tr th {\n        vertical-align: top;\n    }\n\n    .dataframe thead th {\n        text-align: right;\n    }\n</style>\n<table border=\"1\" class=\"dataframe\">\n  <thead>\n    <tr style=\"text-align: right;\">\n      <th></th>\n      <th>语文</th>\n      <th>数学</th>\n      <th>英语</th>\n      <th>物理</th>\n      <th>化学</th>\n      <th>计算机</th>\n      <th>总成绩</th>\n      <th>性别</th>\n    </tr>\n  </thead>\n  <tbody>\n    <tr>\n      <td>030200</td>\n      <td>71</td>\n      <td>97</td>\n      <td>95</td>\n      <td>89</td>\n      <td>79</td>\n      <td>94</td>\n      <td>525</td>\n      <td>女</td>\n    </tr>\n    <tr>\n      <td>030201</td>\n      <td>75</td>\n      <td>92</td>\n      <td>75</td>\n      <td>84</td>\n      <td>92</td>\n      <td>89</td>\n      <td>507</td>\n      <td>男</td>\n    </tr>\n    <tr>\n      <td>030202</td>\n      <td>98</td>\n      <td>95</td>\n      <td>99</td>\n      <td>76</td>\n      <td>99</td>\n      <td>76</td>\n      <td>543</td>\n      <td>女</td>\n    </tr>\n    <tr>\n      <td>030203</td>\n      <td>86</td>\n      <td>78</td>\n      <td>89</td>\n      <td>80</td>\n      <td>74</td>\n      <td>89</td>\n      <td>496</td>\n      <td>男</td>\n    </tr>\n    <tr>\n      <td>030204</td>\n      <td>72</td>\n      <td>92</td>\n      <td>98</td>\n      <td>96</td>\n      <td>94</td>\n      <td>73</td>\n      <td>525</td>\n      <td>男</td>\n    </tr>\n    <tr>\n      <td>030205</td>\n      <td>78</td>\n      <td>90</td>\n      <td>83</td>\n      <td>77</td>\n      <td>74</td>\n      <td>97</td>\n      <td>499</td>\n      <td>女</td>\n    </tr>\n    <tr>\n      <td>030206</td>\n      <td>93</td>\n      <td>85</td>\n      <td>81</td>\n      <td>78</td>\n      <td>83</td>\n      <td>80</td>\n      <td>500</td>\n      <td>女</td>\n    </tr>\n    <tr>\n      <td>030207</td>\n      <td>73</td>\n      <td>94</td>\n      <td>84</td>\n      <td>98</td>\n      <td>78</td>\n      <td>73</td>\n      <td>500</td>\n      <td>男</td>\n    </tr>\n    <tr>\n      <td>030208</td>\n      <td>73</td>\n      <td>96</td>\n      <td>86</td>\n      <td>78</td>\n      <td>99</td>\n      <td>85</td>\n      <td>517</td>\n      <td>男</td>\n    </tr>\n    <tr>\n      <td>030209</td>\n      <td>84</td>\n      <td>95</td>\n      <td>88</td>\n      <td>98</td>\n      <td>84</td>\n      <td>78</td>\n      <td>527</td>\n      <td>女</td>\n    </tr>\n    <tr>\n      <td>030210</td>\n      <td>76</td>\n      <td>91</td>\n      <td>86</td>\n      <td>92</td>\n      <td>75</td>\n      <td>89</td>\n      <td>509</td>\n      <td>男</td>\n    </tr>\n    <tr>\n      <td>030211</td>\n      <td>75</td>\n      <td>79</td>\n      <td>82</td>\n      <td>98</td>\n      <td>70</td>\n      <td>77</td>\n      <td>481</td>\n      <td>男</td>\n    </tr>\n    <tr>\n      <td>030212</td>\n      <td>89</td>\n      <td>98</td>\n      <td>73</td>\n      <td>72</td>\n      <td>96</td>\n      <td>81</td>\n      <td>509</td>\n      <td>女</td>\n    </tr>\n    <tr>\n      <td>030213</td>\n      <td>77</td>\n      <td>81</td>\n      <td>85</td>\n      <td>97</td>\n      <td>98</td>\n      <td>92</td>\n      <td>530</td>\n      <td>男</td>\n    </tr>\n    <tr>\n      <td>030214</td>\n      <td>96</td>\n      <td>73</td>\n      <td>79</td>\n      <td>97</td>\n      <td>95</td>\n      <td>70</td>\n      <td>510</td>\n      <td>女</td>\n    </tr>\n    <tr>\n      <td>030215</td>\n      <td>88</td>\n      <td>93</td>\n      <td>76</td>\n      <td>90</td>\n      <td>72</td>\n      <td>89</td>\n      <td>508</td>\n      <td>男</td>\n    </tr>\n    <tr>\n      <td>030216</td>\n      <td>76</td>\n      <td>72</td>\n      <td>83</td>\n      <td>93</td>\n      <td>96</td>\n      <td>71</td>\n      <td>491</td>\n      <td>男</td>\n    </tr>\n    <tr>\n      <td>030217</td>\n      <td>83</td>\n      <td>98</td>\n      <td>83</td>\n      <td>73</td>\n      <td>79</td>\n      <td>97</td>\n      <td>513</td>\n      <td>男</td>\n    </tr>\n    <tr>\n      <td>030218</td>\n      <td>83</td>\n      <td>71</td>\n      <td>74</td>\n      <td>92</td>\n      <td>93</td>\n      <td>79</td>\n      <td>492</td>\n      <td>女</td>\n    </tr>\n    <tr>\n      <td>030219</td>\n      <td>96</td>\n      <td>98</td>\n      <td>79</td>\n      <td>91</td>\n      <td>70</td>\n      <td>70</td>\n      <td>504</td>\n      <td>女</td>\n    </tr>\n    <tr>\n      <td>030220</td>\n      <td>70</td>\n      <td>85</td>\n      <td>86</td>\n      <td>97</td>\n      <td>95</td>\n      <td>92</td>\n      <td>525</td>\n      <td>女</td>\n    </tr>\n    <tr>\n      <td>030221</td>\n      <td>83</td>\n      <td>72</td>\n      <td>82</td>\n      <td>75</td>\n      <td>99</td>\n      <td>75</td>\n      <td>486</td>\n      <td>女</td>\n    </tr>\n    <tr>\n      <td>030222</td>\n      <td>70</td>\n      <td>74</td>\n      <td>78</td>\n      <td>73</td>\n      <td>70</td>\n      <td>89</td>\n      <td>454</td>\n      <td>男</td>\n    </tr>\n    <tr>\n      <td>030223</td>\n      <td>85</td>\n      <td>77</td>\n      <td>72</td>\n      <td>76</td>\n      <td>93</td>\n      <td>74</td>\n      <td>477</td>\n      <td>女</td>\n    </tr>\n    <tr>\n      <td>030224</td>\n      <td>87</td>\n      <td>84</td>\n      <td>74</td>\n      <td>72</td>\n      <td>98</td>\n      <td>81</td>\n      <td>496</td>\n      <td>男</td>\n    </tr>\n    <tr>\n      <td>030225</td>\n      <td>80</td>\n      <td>99</td>\n      <td>94</td>\n      <td>72</td>\n      <td>97</td>\n      <td>78</td>\n      <td>520</td>\n      <td>男</td>\n    </tr>\n    <tr>\n      <td>030226</td>\n      <td>96</td>\n      <td>99</td>\n      <td>77</td>\n      <td>95</td>\n      <td>97</td>\n      <td>86</td>\n      <td>550</td>\n      <td>男</td>\n    </tr>\n    <tr>\n      <td>030227</td>\n      <td>79</td>\n      <td>96</td>\n      <td>75</td>\n      <td>80</td>\n      <td>78</td>\n      <td>93</td>\n      <td>501</td>\n      <td>女</td>\n    </tr>\n    <tr>\n      <td>030228</td>\n      <td>78</td>\n      <td>77</td>\n      <td>80</td>\n      <td>75</td>\n      <td>82</td>\n      <td>88</td>\n      <td>480</td>\n      <td>男</td>\n    </tr>\n    <tr>\n      <td>030229</td>\n      <td>98</td>\n      <td>71</td>\n      <td>81</td>\n      <td>88</td>\n      <td>87</td>\n      <td>80</td>\n      <td>505</td>\n      <td>女</td>\n    </tr>\n  </tbody>\n</table>\n</div>"
     },
     "metadata": {},
     "output_type": "execute_result",
     "execution_count": 143
    }
   ],
   "source": [
    "df3 = pd.concat([df_cp, df2], axis=1)\n",
    "df3"
   ],
   "metadata": {
    "collapsed": false,
    "pycharm": {
     "name": "#%%\n",
     "is_executing": false
    }
   }
  },
  {
   "cell_type": "code",
   "execution_count": 116,
   "outputs": [
    {
     "name": "stdout",
     "text": [
      "<class 'pandas.core.frame.DataFrame'>\n",
      "Index: 30 entries, 030200 to 030229\n",
      "Data columns (total 7 columns):\n",
      "语文     30 non-null int32\n",
      "数学     30 non-null int32\n",
      "英语     30 non-null int32\n",
      "物理     30 non-null int32\n",
      "化学     30 non-null int32\n",
      "计算机    30 non-null int32\n",
      "性别     30 non-null object\n",
      "dtypes: int32(6), object(1)\n",
      "memory usage: 2.4+ KB\n"
     ],
     "output_type": "stream"
    }
   ],
   "source": [
    "df3.info()"
   ],
   "metadata": {
    "collapsed": false,
    "pycharm": {
     "name": "#%% \n",
     "is_executing": false
    }
   }
  },
  {
   "cell_type": "code",
   "execution_count": 119,
   "outputs": [
    {
     "data": {
      "text/plain": "              语文         数学         英语         物理         化学        计算机\ncount  30.000000  30.000000  30.000000  30.000000  30.000000  30.000000\nmean   82.266667  86.733333  82.566667  85.066667  86.533333  82.833333\nstd     8.851002  10.041065   7.204804   9.787160  10.533144   8.296586\nmin    70.000000  71.000000  72.000000  72.000000  70.000000  70.000000\n25%    75.250000  77.250000  77.250000  76.000000  78.000000  76.250000\n50%    81.500000  90.500000  82.000000  86.000000  89.500000  81.000000\n75%    87.750000  95.750000  86.000000  94.500000  96.000000  89.000000\nmax    98.000000  99.000000  99.000000  98.000000  99.000000  97.000000",
      "text/html": "<div>\n<style scoped>\n    .dataframe tbody tr th:only-of-type {\n        vertical-align: middle;\n    }\n\n    .dataframe tbody tr th {\n        vertical-align: top;\n    }\n\n    .dataframe thead th {\n        text-align: right;\n    }\n</style>\n<table border=\"1\" class=\"dataframe\">\n  <thead>\n    <tr style=\"text-align: right;\">\n      <th></th>\n      <th>语文</th>\n      <th>数学</th>\n      <th>英语</th>\n      <th>物理</th>\n      <th>化学</th>\n      <th>计算机</th>\n    </tr>\n  </thead>\n  <tbody>\n    <tr>\n      <td>count</td>\n      <td>30.000000</td>\n      <td>30.000000</td>\n      <td>30.000000</td>\n      <td>30.000000</td>\n      <td>30.000000</td>\n      <td>30.000000</td>\n    </tr>\n    <tr>\n      <td>mean</td>\n      <td>82.266667</td>\n      <td>86.733333</td>\n      <td>82.566667</td>\n      <td>85.066667</td>\n      <td>86.533333</td>\n      <td>82.833333</td>\n    </tr>\n    <tr>\n      <td>std</td>\n      <td>8.851002</td>\n      <td>10.041065</td>\n      <td>7.204804</td>\n      <td>9.787160</td>\n      <td>10.533144</td>\n      <td>8.296586</td>\n    </tr>\n    <tr>\n      <td>min</td>\n      <td>70.000000</td>\n      <td>71.000000</td>\n      <td>72.000000</td>\n      <td>72.000000</td>\n      <td>70.000000</td>\n      <td>70.000000</td>\n    </tr>\n    <tr>\n      <td>25%</td>\n      <td>75.250000</td>\n      <td>77.250000</td>\n      <td>77.250000</td>\n      <td>76.000000</td>\n      <td>78.000000</td>\n      <td>76.250000</td>\n    </tr>\n    <tr>\n      <td>50%</td>\n      <td>81.500000</td>\n      <td>90.500000</td>\n      <td>82.000000</td>\n      <td>86.000000</td>\n      <td>89.500000</td>\n      <td>81.000000</td>\n    </tr>\n    <tr>\n      <td>75%</td>\n      <td>87.750000</td>\n      <td>95.750000</td>\n      <td>86.000000</td>\n      <td>94.500000</td>\n      <td>96.000000</td>\n      <td>89.000000</td>\n    </tr>\n    <tr>\n      <td>max</td>\n      <td>98.000000</td>\n      <td>99.000000</td>\n      <td>99.000000</td>\n      <td>98.000000</td>\n      <td>99.000000</td>\n      <td>97.000000</td>\n    </tr>\n  </tbody>\n</table>\n</div>"
     },
     "metadata": {},
     "output_type": "execute_result",
     "execution_count": 119
    }
   ],
   "source": [
    "df3.describe()"
   ],
   "metadata": {
    "collapsed": false,
    "pycharm": {
     "name": "#%%\n",
     "is_executing": false
    }
   }
  },
  {
   "cell_type": "code",
   "execution_count": 130,
   "outputs": [
    {
     "data": {
      "text/plain": "     语文  数学  英语  物理  化学  计算机 性别\nmax  98  99  99  98  99   97  男",
      "text/html": "<div>\n<style scoped>\n    .dataframe tbody tr th:only-of-type {\n        vertical-align: middle;\n    }\n\n    .dataframe tbody tr th {\n        vertical-align: top;\n    }\n\n    .dataframe thead th {\n        text-align: right;\n    }\n</style>\n<table border=\"1\" class=\"dataframe\">\n  <thead>\n    <tr style=\"text-align: right;\">\n      <th></th>\n      <th>语文</th>\n      <th>数学</th>\n      <th>英语</th>\n      <th>物理</th>\n      <th>化学</th>\n      <th>计算机</th>\n      <th>性别</th>\n    </tr>\n  </thead>\n  <tbody>\n    <tr>\n      <td>max</td>\n      <td>98</td>\n      <td>99</td>\n      <td>99</td>\n      <td>98</td>\n      <td>99</td>\n      <td>97</td>\n      <td>男</td>\n    </tr>\n  </tbody>\n</table>\n</div>"
     },
     "metadata": {},
     "output_type": "execute_result",
     "execution_count": 130
    }
   ],
   "source": [
    "def my_describe(x):\n",
    "    return pd.Series(x.max(), index = [\"max\"])\n",
    "\n",
    "df3.apply(my_describe)\n"
   ],
   "metadata": {
    "collapsed": false,
    "pycharm": {
     "name": "#%% \n",
     "is_executing": false
    }
   }
  },
  {
   "cell_type": "code",
   "execution_count": 144,
   "outputs": [
    {
     "data": {
      "text/plain": "      语文    数学    英语    物理    化学   计算机   总成绩\n性别                                          \n女   1203  1203  1147  1186  1225  1139  7103\n男   1265  1399  1330  1366  1371  1346  8077",
      "text/html": "<div>\n<style scoped>\n    .dataframe tbody tr th:only-of-type {\n        vertical-align: middle;\n    }\n\n    .dataframe tbody tr th {\n        vertical-align: top;\n    }\n\n    .dataframe thead th {\n        text-align: right;\n    }\n</style>\n<table border=\"1\" class=\"dataframe\">\n  <thead>\n    <tr style=\"text-align: right;\">\n      <th></th>\n      <th>语文</th>\n      <th>数学</th>\n      <th>英语</th>\n      <th>物理</th>\n      <th>化学</th>\n      <th>计算机</th>\n      <th>总成绩</th>\n    </tr>\n    <tr>\n      <th>性别</th>\n      <th></th>\n      <th></th>\n      <th></th>\n      <th></th>\n      <th></th>\n      <th></th>\n      <th></th>\n    </tr>\n  </thead>\n  <tbody>\n    <tr>\n      <td>女</td>\n      <td>1203</td>\n      <td>1203</td>\n      <td>1147</td>\n      <td>1186</td>\n      <td>1225</td>\n      <td>1139</td>\n      <td>7103</td>\n    </tr>\n    <tr>\n      <td>男</td>\n      <td>1265</td>\n      <td>1399</td>\n      <td>1330</td>\n      <td>1366</td>\n      <td>1371</td>\n      <td>1346</td>\n      <td>8077</td>\n    </tr>\n  </tbody>\n</table>\n</div>"
     },
     "metadata": {},
     "output_type": "execute_result",
     "execution_count": 144
    }
   ],
   "source": [
    "df3.groupby(by='性别').sum()"
   ],
   "metadata": {
    "collapsed": false,
    "pycharm": {
     "name": "#%%\n",
     "is_executing": false
    }
   }
  },
  {
   "cell_type": "code",
   "execution_count": 145,
   "outputs": [
    {
     "data": {
      "text/plain": "           语文         数学         英语         物理       化学        计算机         总成绩\n性别                                                                            \n女   85.928571  85.928571  81.928571  84.714286  87.5000  81.357143  507.357143\n男   79.062500  87.437500  83.125000  85.375000  85.6875  84.125000  504.812500",
      "text/html": "<div>\n<style scoped>\n    .dataframe tbody tr th:only-of-type {\n        vertical-align: middle;\n    }\n\n    .dataframe tbody tr th {\n        vertical-align: top;\n    }\n\n    .dataframe thead th {\n        text-align: right;\n    }\n</style>\n<table border=\"1\" class=\"dataframe\">\n  <thead>\n    <tr style=\"text-align: right;\">\n      <th></th>\n      <th>语文</th>\n      <th>数学</th>\n      <th>英语</th>\n      <th>物理</th>\n      <th>化学</th>\n      <th>计算机</th>\n      <th>总成绩</th>\n    </tr>\n    <tr>\n      <th>性别</th>\n      <th></th>\n      <th></th>\n      <th></th>\n      <th></th>\n      <th></th>\n      <th></th>\n      <th></th>\n    </tr>\n  </thead>\n  <tbody>\n    <tr>\n      <td>女</td>\n      <td>85.928571</td>\n      <td>85.928571</td>\n      <td>81.928571</td>\n      <td>84.714286</td>\n      <td>87.5000</td>\n      <td>81.357143</td>\n      <td>507.357143</td>\n    </tr>\n    <tr>\n      <td>男</td>\n      <td>79.062500</td>\n      <td>87.437500</td>\n      <td>83.125000</td>\n      <td>85.375000</td>\n      <td>85.6875</td>\n      <td>84.125000</td>\n      <td>504.812500</td>\n    </tr>\n  </tbody>\n</table>\n</div>"
     },
     "metadata": {},
     "output_type": "execute_result",
     "execution_count": 145
    }
   ],
   "source": [
    "df3.groupby(by='性别').mean()"
   ],
   "metadata": {
    "collapsed": false,
    "pycharm": {
     "name": "#%%\n",
     "is_executing": false
    }
   }
  },
  {
   "cell_type": "code",
   "execution_count": null,
   "outputs": [],
   "source": [],
   "metadata": {
    "collapsed": false,
    "pycharm": {
     "name": "#%%"
    }
   }
  }
 ],
 "metadata": {
  "kernelspec": {
   "display_name": "Python 3",
   "language": "python",
   "name": "python3"
  },
  "language_info": {
   "codemirror_mode": {
    "name": "ipython",
    "version": 2
   },
   "file_extension": ".py",
   "mimetype": "text/x-python",
   "name": "python",
   "nbconvert_exporter": "python",
   "pygments_lexer": "ipython2",
   "version": "2.7.6"
  },
  "pycharm": {
   "stem_cell": {
    "cell_type": "raw",
    "source": [],
    "metadata": {
     "collapsed": false
    }
   }
  }
 },
 "nbformat": 4,
 "nbformat_minor": 0
}