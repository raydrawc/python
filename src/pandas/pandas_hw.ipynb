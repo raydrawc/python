{
 "cells": [
  {
   "cell_type": "code",
   "execution_count": 13,
   "metadata": {
    "collapsed": true,
    "pycharm": {
     "is_executing": false
    }
   },
   "outputs": [],
   "source": [
    "import numpy as np\n",
    "import pandas as pd"
   ]
  },
  {
   "cell_type": "code",
   "execution_count": 14,
   "outputs": [
    {
     "data": {
      "text/plain": "array([[80, 84, 95, 87, 99, 87],\n       [70, 87, 87, 74, 75, 71],\n       [85, 78, 85, 90, 78, 95],\n       [95, 77, 87, 93, 72, 79],\n       [80, 95, 94, 88, 82, 70],\n       [81, 88, 92, 81, 73, 99],\n       [73, 81, 71, 73, 91, 76],\n       [71, 92, 76, 77, 78, 78],\n       [92, 95, 86, 76, 89, 87],\n       [73, 92, 80, 89, 77, 97],\n       [81, 97, 75, 75, 99, 80],\n       [81, 91, 79, 83, 75, 85],\n       [84, 83, 84, 84, 75, 81],\n       [81, 70, 91, 90, 74, 82],\n       [95, 92, 99, 83, 94, 97],\n       [85, 99, 87, 73, 99, 93],\n       [86, 70, 89, 78, 82, 81],\n       [72, 89, 82, 97, 93, 91],\n       [75, 71, 74, 94, 97, 71],\n       [82, 92, 95, 76, 82, 96],\n       [89, 79, 89, 72, 75, 89],\n       [81, 96, 99, 76, 81, 95],\n       [95, 84, 97, 76, 97, 98],\n       [85, 95, 84, 71, 75, 79],\n       [72, 98, 87, 94, 86, 86],\n       [73, 89, 75, 77, 87, 73],\n       [72, 81, 95, 83, 87, 90],\n       [96, 86, 86, 78, 99, 70],\n       [77, 99, 99, 90, 96, 92],\n       [81, 94, 84, 99, 97, 92]])"
     },
     "metadata": {},
     "output_type": "execute_result",
     "execution_count": 14
    }
   ],
   "source": [
    "data = np.random.randint(70, 100, (30, 6))\n",
    "data"
   ],
   "metadata": {
    "collapsed": false,
    "pycharm": {
     "name": "#%%  \n",
     "is_executing": false
    }
   }
  },
  {
   "cell_type": "code",
   "execution_count": 15,
   "outputs": [
    {
     "data": {
      "text/plain": "        语文  数学  英语  物理  化学  计算机\n030200  80  84  95  87  99   87\n030201  70  87  87  74  75   71\n030202  85  78  85  90  78   95\n030203  95  77  87  93  72   79\n030204  80  95  94  88  82   70\n030205  81  88  92  81  73   99\n030206  73  81  71  73  91   76\n030207  71  92  76  77  78   78\n030208  92  95  86  76  89   87\n030209  73  92  80  89  77   97\n030210  81  97  75  75  99   80\n030211  81  91  79  83  75   85\n030212  84  83  84  84  75   81\n030213  81  70  91  90  74   82\n030214  95  92  99  83  94   97\n030215  85  99  87  73  99   93\n030216  86  70  89  78  82   81\n030217  72  89  82  97  93   91\n030218  75  71  74  94  97   71\n030219  82  92  95  76  82   96\n030220  89  79  89  72  75   89\n030221  81  96  99  76  81   95\n030222  95  84  97  76  97   98\n030223  85  95  84  71  75   79\n030224  72  98  87  94  86   86\n030225  73  89  75  77  87   73\n030226  72  81  95  83  87   90\n030227  96  86  86  78  99   70\n030228  77  99  99  90  96   92\n030229  81  94  84  99  97   92",
      "text/html": "<div>\n<style scoped>\n    .dataframe tbody tr th:only-of-type {\n        vertical-align: middle;\n    }\n\n    .dataframe tbody tr th {\n        vertical-align: top;\n    }\n\n    .dataframe thead th {\n        text-align: right;\n    }\n</style>\n<table border=\"1\" class=\"dataframe\">\n  <thead>\n    <tr style=\"text-align: right;\">\n      <th></th>\n      <th>语文</th>\n      <th>数学</th>\n      <th>英语</th>\n      <th>物理</th>\n      <th>化学</th>\n      <th>计算机</th>\n    </tr>\n  </thead>\n  <tbody>\n    <tr>\n      <td>030200</td>\n      <td>80</td>\n      <td>84</td>\n      <td>95</td>\n      <td>87</td>\n      <td>99</td>\n      <td>87</td>\n    </tr>\n    <tr>\n      <td>030201</td>\n      <td>70</td>\n      <td>87</td>\n      <td>87</td>\n      <td>74</td>\n      <td>75</td>\n      <td>71</td>\n    </tr>\n    <tr>\n      <td>030202</td>\n      <td>85</td>\n      <td>78</td>\n      <td>85</td>\n      <td>90</td>\n      <td>78</td>\n      <td>95</td>\n    </tr>\n    <tr>\n      <td>030203</td>\n      <td>95</td>\n      <td>77</td>\n      <td>87</td>\n      <td>93</td>\n      <td>72</td>\n      <td>79</td>\n    </tr>\n    <tr>\n      <td>030204</td>\n      <td>80</td>\n      <td>95</td>\n      <td>94</td>\n      <td>88</td>\n      <td>82</td>\n      <td>70</td>\n    </tr>\n    <tr>\n      <td>030205</td>\n      <td>81</td>\n      <td>88</td>\n      <td>92</td>\n      <td>81</td>\n      <td>73</td>\n      <td>99</td>\n    </tr>\n    <tr>\n      <td>030206</td>\n      <td>73</td>\n      <td>81</td>\n      <td>71</td>\n      <td>73</td>\n      <td>91</td>\n      <td>76</td>\n    </tr>\n    <tr>\n      <td>030207</td>\n      <td>71</td>\n      <td>92</td>\n      <td>76</td>\n      <td>77</td>\n      <td>78</td>\n      <td>78</td>\n    </tr>\n    <tr>\n      <td>030208</td>\n      <td>92</td>\n      <td>95</td>\n      <td>86</td>\n      <td>76</td>\n      <td>89</td>\n      <td>87</td>\n    </tr>\n    <tr>\n      <td>030209</td>\n      <td>73</td>\n      <td>92</td>\n      <td>80</td>\n      <td>89</td>\n      <td>77</td>\n      <td>97</td>\n    </tr>\n    <tr>\n      <td>030210</td>\n      <td>81</td>\n      <td>97</td>\n      <td>75</td>\n      <td>75</td>\n      <td>99</td>\n      <td>80</td>\n    </tr>\n    <tr>\n      <td>030211</td>\n      <td>81</td>\n      <td>91</td>\n      <td>79</td>\n      <td>83</td>\n      <td>75</td>\n      <td>85</td>\n    </tr>\n    <tr>\n      <td>030212</td>\n      <td>84</td>\n      <td>83</td>\n      <td>84</td>\n      <td>84</td>\n      <td>75</td>\n      <td>81</td>\n    </tr>\n    <tr>\n      <td>030213</td>\n      <td>81</td>\n      <td>70</td>\n      <td>91</td>\n      <td>90</td>\n      <td>74</td>\n      <td>82</td>\n    </tr>\n    <tr>\n      <td>030214</td>\n      <td>95</td>\n      <td>92</td>\n      <td>99</td>\n      <td>83</td>\n      <td>94</td>\n      <td>97</td>\n    </tr>\n    <tr>\n      <td>030215</td>\n      <td>85</td>\n      <td>99</td>\n      <td>87</td>\n      <td>73</td>\n      <td>99</td>\n      <td>93</td>\n    </tr>\n    <tr>\n      <td>030216</td>\n      <td>86</td>\n      <td>70</td>\n      <td>89</td>\n      <td>78</td>\n      <td>82</td>\n      <td>81</td>\n    </tr>\n    <tr>\n      <td>030217</td>\n      <td>72</td>\n      <td>89</td>\n      <td>82</td>\n      <td>97</td>\n      <td>93</td>\n      <td>91</td>\n    </tr>\n    <tr>\n      <td>030218</td>\n      <td>75</td>\n      <td>71</td>\n      <td>74</td>\n      <td>94</td>\n      <td>97</td>\n      <td>71</td>\n    </tr>\n    <tr>\n      <td>030219</td>\n      <td>82</td>\n      <td>92</td>\n      <td>95</td>\n      <td>76</td>\n      <td>82</td>\n      <td>96</td>\n    </tr>\n    <tr>\n      <td>030220</td>\n      <td>89</td>\n      <td>79</td>\n      <td>89</td>\n      <td>72</td>\n      <td>75</td>\n      <td>89</td>\n    </tr>\n    <tr>\n      <td>030221</td>\n      <td>81</td>\n      <td>96</td>\n      <td>99</td>\n      <td>76</td>\n      <td>81</td>\n      <td>95</td>\n    </tr>\n    <tr>\n      <td>030222</td>\n      <td>95</td>\n      <td>84</td>\n      <td>97</td>\n      <td>76</td>\n      <td>97</td>\n      <td>98</td>\n    </tr>\n    <tr>\n      <td>030223</td>\n      <td>85</td>\n      <td>95</td>\n      <td>84</td>\n      <td>71</td>\n      <td>75</td>\n      <td>79</td>\n    </tr>\n    <tr>\n      <td>030224</td>\n      <td>72</td>\n      <td>98</td>\n      <td>87</td>\n      <td>94</td>\n      <td>86</td>\n      <td>86</td>\n    </tr>\n    <tr>\n      <td>030225</td>\n      <td>73</td>\n      <td>89</td>\n      <td>75</td>\n      <td>77</td>\n      <td>87</td>\n      <td>73</td>\n    </tr>\n    <tr>\n      <td>030226</td>\n      <td>72</td>\n      <td>81</td>\n      <td>95</td>\n      <td>83</td>\n      <td>87</td>\n      <td>90</td>\n    </tr>\n    <tr>\n      <td>030227</td>\n      <td>96</td>\n      <td>86</td>\n      <td>86</td>\n      <td>78</td>\n      <td>99</td>\n      <td>70</td>\n    </tr>\n    <tr>\n      <td>030228</td>\n      <td>77</td>\n      <td>99</td>\n      <td>99</td>\n      <td>90</td>\n      <td>96</td>\n      <td>92</td>\n    </tr>\n    <tr>\n      <td>030229</td>\n      <td>81</td>\n      <td>94</td>\n      <td>84</td>\n      <td>99</td>\n      <td>97</td>\n      <td>92</td>\n    </tr>\n  </tbody>\n</table>\n</div>"
     },
     "metadata": {},
     "output_type": "execute_result",
     "execution_count": 15
    }
   ],
   "source": [
    "index = [\"0\" + str(30200 + i) for i in range(len(data))]\n",
    "classes = ['语文','数学','英语','物理', '化学', '计算机']\n",
    "# t\n",
    "df = pd.DataFrame(data, index=index, columns=classes)\n",
    "df"
   ],
   "metadata": {
    "collapsed": false,
    "pycharm": {
     "name": "#%%\n",
     "is_executing": false
    }
   }
  },
  {
   "cell_type": "code",
   "execution_count": 16,
   "outputs": [
    {
     "data": {
      "text/plain": "array([[80, 84, 95, 87, 99, 87],\n       [70, 87, 87, 74, 75, 71],\n       [85, 78, 85, 90, 78, 95],\n       [95, 77, 87, 93, 72, 79],\n       [80, 95, 94, 88, 82, 70],\n       [81, 88, 92, 81, 73, 99],\n       [73, 81, 71, 73, 91, 76],\n       [71, 92, 76, 77, 78, 78],\n       [92, 95, 86, 76, 89, 87],\n       [73, 92, 80, 89, 77, 97],\n       [81, 97, 75, 75, 99, 80],\n       [81, 91, 79, 83, 75, 85],\n       [84, 83, 84, 84, 75, 81],\n       [81, 70, 91, 90, 74, 82],\n       [95, 92, 99, 83, 94, 97],\n       [85, 99, 87, 73, 99, 93],\n       [86, 70, 89, 78, 82, 81],\n       [72, 89, 82, 97, 93, 91],\n       [75, 71, 74, 94, 97, 71],\n       [82, 92, 95, 76, 82, 96],\n       [89, 79, 89, 72, 75, 89],\n       [81, 96, 99, 76, 81, 95],\n       [95, 84, 97, 76, 97, 98],\n       [85, 95, 84, 71, 75, 79],\n       [72, 98, 87, 94, 86, 86],\n       [73, 89, 75, 77, 87, 73],\n       [72, 81, 95, 83, 87, 90],\n       [96, 86, 86, 78, 99, 70],\n       [77, 99, 99, 90, 96, 92],\n       [81, 94, 84, 99, 97, 92]])"
     },
     "metadata": {},
     "output_type": "execute_result",
     "execution_count": 16
    }
   ],
   "source": [
    "df.values"
   ],
   "metadata": {
    "collapsed": false,
    "pycharm": {
     "name": "#%% \n",
     "is_executing": false
    }
   }
  },
  {
   "cell_type": "code",
   "execution_count": 17,
   "outputs": [
    {
     "data": {
      "text/plain": "Index(['030200', '030201', '030202', '030203', '030204', '030205', '030206',\n       '030207', '030208', '030209', '030210', '030211', '030212', '030213',\n       '030214', '030215', '030216', '030217', '030218', '030219', '030220',\n       '030221', '030222', '030223', '030224', '030225', '030226', '030227',\n       '030228', '030229'],\n      dtype='object')"
     },
     "metadata": {},
     "output_type": "execute_result",
     "execution_count": 17
    }
   ],
   "source": [
    "df.index"
   ],
   "metadata": {
    "collapsed": false,
    "pycharm": {
     "name": "#%%\n",
     "is_executing": false
    }
   }
  },
  {
   "cell_type": "code",
   "execution_count": 18,
   "outputs": [
    {
     "data": {
      "text/plain": "Index(['语文', '数学', '英语', '物理', '化学', '计算机'], dtype='object')"
     },
     "metadata": {},
     "output_type": "execute_result",
     "execution_count": 18
    }
   ],
   "source": [
    "df.columns"
   ],
   "metadata": {
    "collapsed": false,
    "pycharm": {
     "name": "#%%\n",
     "is_executing": false
    }
   }
  },
  {
   "cell_type": "code",
   "execution_count": 19,
   "outputs": [
    {
     "data": {
      "text/plain": "(30, 6)"
     },
     "metadata": {},
     "output_type": "execute_result",
     "execution_count": 19
    }
   ],
   "source": [
    "df.shape"
   ],
   "metadata": {
    "collapsed": false,
    "pycharm": {
     "name": "#%%\n",
     "is_executing": false
    }
   }
  },
  {
   "cell_type": "code",
   "execution_count": 20,
   "outputs": [
    {
     "data": {
      "text/plain": "语文     int32\n数学     int32\n英语     int32\n物理     int32\n化学     int32\n计算机    int32\ndtype: object"
     },
     "metadata": {},
     "output_type": "execute_result",
     "execution_count": 20
    }
   ],
   "source": [
    "df.dtypes"
   ],
   "metadata": {
    "collapsed": false,
    "pycharm": {
     "name": "#%% \n",
     "is_executing": false
    }
   }
  },
  {
   "cell_type": "code",
   "execution_count": 21,
   "outputs": [
    {
     "data": {
      "text/plain": "030200    84\n030201    87\n030202    78\n030203    77\n030204    95\n030205    88\n030206    81\n030207    92\n030208    95\n030209    92\n030210    97\n030211    91\n030212    83\n030213    70\n030214    92\n030215    99\n030216    70\n030217    89\n030218    71\n030219    92\n030220    79\n030221    96\n030222    84\n030223    95\n030224    98\n030225    89\n030226    81\n030227    86\n030228    99\n030229    94\nName: 数学, dtype: int32"
     },
     "metadata": {},
     "output_type": "execute_result",
     "execution_count": 21
    }
   ],
   "source": [
    "df[\"数学\"]"
   ],
   "metadata": {
    "collapsed": false,
    "pycharm": {
     "name": "#%%\n",
     "is_executing": false
    }
   }
  },
  {
   "cell_type": "code",
   "execution_count": 22,
   "outputs": [
    {
     "data": {
      "text/plain": "语文     81\n数学     88\n英语     92\n物理     81\n化学     73\n计算机    99\nName: 030205, dtype: int32"
     },
     "metadata": {},
     "output_type": "execute_result",
     "execution_count": 22
    }
   ],
   "source": [
    "df.loc[\"030205\"]"
   ],
   "metadata": {
    "collapsed": false,
    "pycharm": {
     "name": "#%%\n",
     "is_executing": false
    }
   }
  },
  {
   "cell_type": "code",
   "execution_count": 23,
   "outputs": [
    {
     "data": {
      "text/plain": "        语文  数学  英语  物理  化学  计算机  总成绩\n030200  80  84  95  87  99   87  532\n030201  70  87  87  74  75   71  464\n030202  85  78  85  90  78   95  511\n030203  95  77  87  93  72   79  503\n030204  80  95  94  88  82   70  509\n030205  81  88  92  81  73   99  514\n030206  73  81  71  73  91   76  465\n030207  71  92  76  77  78   78  472\n030208  92  95  86  76  89   87  525\n030209  73  92  80  89  77   97  508\n030210  81  97  75  75  99   80  507\n030211  81  91  79  83  75   85  494\n030212  84  83  84  84  75   81  491\n030213  81  70  91  90  74   82  488\n030214  95  92  99  83  94   97  560\n030215  85  99  87  73  99   93  536\n030216  86  70  89  78  82   81  486\n030217  72  89  82  97  93   91  524\n030218  75  71  74  94  97   71  482\n030219  82  92  95  76  82   96  523\n030220  89  79  89  72  75   89  493\n030221  81  96  99  76  81   95  528\n030222  95  84  97  76  97   98  547\n030223  85  95  84  71  75   79  489\n030224  72  98  87  94  86   86  523\n030225  73  89  75  77  87   73  474\n030226  72  81  95  83  87   90  508\n030227  96  86  86  78  99   70  515\n030228  77  99  99  90  96   92  553\n030229  81  94  84  99  97   92  547",
      "text/html": "<div>\n<style scoped>\n    .dataframe tbody tr th:only-of-type {\n        vertical-align: middle;\n    }\n\n    .dataframe tbody tr th {\n        vertical-align: top;\n    }\n\n    .dataframe thead th {\n        text-align: right;\n    }\n</style>\n<table border=\"1\" class=\"dataframe\">\n  <thead>\n    <tr style=\"text-align: right;\">\n      <th></th>\n      <th>语文</th>\n      <th>数学</th>\n      <th>英语</th>\n      <th>物理</th>\n      <th>化学</th>\n      <th>计算机</th>\n      <th>总成绩</th>\n    </tr>\n  </thead>\n  <tbody>\n    <tr>\n      <td>030200</td>\n      <td>80</td>\n      <td>84</td>\n      <td>95</td>\n      <td>87</td>\n      <td>99</td>\n      <td>87</td>\n      <td>532</td>\n    </tr>\n    <tr>\n      <td>030201</td>\n      <td>70</td>\n      <td>87</td>\n      <td>87</td>\n      <td>74</td>\n      <td>75</td>\n      <td>71</td>\n      <td>464</td>\n    </tr>\n    <tr>\n      <td>030202</td>\n      <td>85</td>\n      <td>78</td>\n      <td>85</td>\n      <td>90</td>\n      <td>78</td>\n      <td>95</td>\n      <td>511</td>\n    </tr>\n    <tr>\n      <td>030203</td>\n      <td>95</td>\n      <td>77</td>\n      <td>87</td>\n      <td>93</td>\n      <td>72</td>\n      <td>79</td>\n      <td>503</td>\n    </tr>\n    <tr>\n      <td>030204</td>\n      <td>80</td>\n      <td>95</td>\n      <td>94</td>\n      <td>88</td>\n      <td>82</td>\n      <td>70</td>\n      <td>509</td>\n    </tr>\n    <tr>\n      <td>030205</td>\n      <td>81</td>\n      <td>88</td>\n      <td>92</td>\n      <td>81</td>\n      <td>73</td>\n      <td>99</td>\n      <td>514</td>\n    </tr>\n    <tr>\n      <td>030206</td>\n      <td>73</td>\n      <td>81</td>\n      <td>71</td>\n      <td>73</td>\n      <td>91</td>\n      <td>76</td>\n      <td>465</td>\n    </tr>\n    <tr>\n      <td>030207</td>\n      <td>71</td>\n      <td>92</td>\n      <td>76</td>\n      <td>77</td>\n      <td>78</td>\n      <td>78</td>\n      <td>472</td>\n    </tr>\n    <tr>\n      <td>030208</td>\n      <td>92</td>\n      <td>95</td>\n      <td>86</td>\n      <td>76</td>\n      <td>89</td>\n      <td>87</td>\n      <td>525</td>\n    </tr>\n    <tr>\n      <td>030209</td>\n      <td>73</td>\n      <td>92</td>\n      <td>80</td>\n      <td>89</td>\n      <td>77</td>\n      <td>97</td>\n      <td>508</td>\n    </tr>\n    <tr>\n      <td>030210</td>\n      <td>81</td>\n      <td>97</td>\n      <td>75</td>\n      <td>75</td>\n      <td>99</td>\n      <td>80</td>\n      <td>507</td>\n    </tr>\n    <tr>\n      <td>030211</td>\n      <td>81</td>\n      <td>91</td>\n      <td>79</td>\n      <td>83</td>\n      <td>75</td>\n      <td>85</td>\n      <td>494</td>\n    </tr>\n    <tr>\n      <td>030212</td>\n      <td>84</td>\n      <td>83</td>\n      <td>84</td>\n      <td>84</td>\n      <td>75</td>\n      <td>81</td>\n      <td>491</td>\n    </tr>\n    <tr>\n      <td>030213</td>\n      <td>81</td>\n      <td>70</td>\n      <td>91</td>\n      <td>90</td>\n      <td>74</td>\n      <td>82</td>\n      <td>488</td>\n    </tr>\n    <tr>\n      <td>030214</td>\n      <td>95</td>\n      <td>92</td>\n      <td>99</td>\n      <td>83</td>\n      <td>94</td>\n      <td>97</td>\n      <td>560</td>\n    </tr>\n    <tr>\n      <td>030215</td>\n      <td>85</td>\n      <td>99</td>\n      <td>87</td>\n      <td>73</td>\n      <td>99</td>\n      <td>93</td>\n      <td>536</td>\n    </tr>\n    <tr>\n      <td>030216</td>\n      <td>86</td>\n      <td>70</td>\n      <td>89</td>\n      <td>78</td>\n      <td>82</td>\n      <td>81</td>\n      <td>486</td>\n    </tr>\n    <tr>\n      <td>030217</td>\n      <td>72</td>\n      <td>89</td>\n      <td>82</td>\n      <td>97</td>\n      <td>93</td>\n      <td>91</td>\n      <td>524</td>\n    </tr>\n    <tr>\n      <td>030218</td>\n      <td>75</td>\n      <td>71</td>\n      <td>74</td>\n      <td>94</td>\n      <td>97</td>\n      <td>71</td>\n      <td>482</td>\n    </tr>\n    <tr>\n      <td>030219</td>\n      <td>82</td>\n      <td>92</td>\n      <td>95</td>\n      <td>76</td>\n      <td>82</td>\n      <td>96</td>\n      <td>523</td>\n    </tr>\n    <tr>\n      <td>030220</td>\n      <td>89</td>\n      <td>79</td>\n      <td>89</td>\n      <td>72</td>\n      <td>75</td>\n      <td>89</td>\n      <td>493</td>\n    </tr>\n    <tr>\n      <td>030221</td>\n      <td>81</td>\n      <td>96</td>\n      <td>99</td>\n      <td>76</td>\n      <td>81</td>\n      <td>95</td>\n      <td>528</td>\n    </tr>\n    <tr>\n      <td>030222</td>\n      <td>95</td>\n      <td>84</td>\n      <td>97</td>\n      <td>76</td>\n      <td>97</td>\n      <td>98</td>\n      <td>547</td>\n    </tr>\n    <tr>\n      <td>030223</td>\n      <td>85</td>\n      <td>95</td>\n      <td>84</td>\n      <td>71</td>\n      <td>75</td>\n      <td>79</td>\n      <td>489</td>\n    </tr>\n    <tr>\n      <td>030224</td>\n      <td>72</td>\n      <td>98</td>\n      <td>87</td>\n      <td>94</td>\n      <td>86</td>\n      <td>86</td>\n      <td>523</td>\n    </tr>\n    <tr>\n      <td>030225</td>\n      <td>73</td>\n      <td>89</td>\n      <td>75</td>\n      <td>77</td>\n      <td>87</td>\n      <td>73</td>\n      <td>474</td>\n    </tr>\n    <tr>\n      <td>030226</td>\n      <td>72</td>\n      <td>81</td>\n      <td>95</td>\n      <td>83</td>\n      <td>87</td>\n      <td>90</td>\n      <td>508</td>\n    </tr>\n    <tr>\n      <td>030227</td>\n      <td>96</td>\n      <td>86</td>\n      <td>86</td>\n      <td>78</td>\n      <td>99</td>\n      <td>70</td>\n      <td>515</td>\n    </tr>\n    <tr>\n      <td>030228</td>\n      <td>77</td>\n      <td>99</td>\n      <td>99</td>\n      <td>90</td>\n      <td>96</td>\n      <td>92</td>\n      <td>553</td>\n    </tr>\n    <tr>\n      <td>030229</td>\n      <td>81</td>\n      <td>94</td>\n      <td>84</td>\n      <td>99</td>\n      <td>97</td>\n      <td>92</td>\n      <td>547</td>\n    </tr>\n  </tbody>\n</table>\n</div>"
     },
     "metadata": {},
     "output_type": "execute_result",
     "execution_count": 23
    }
   ],
   "source": [
    "df_cp = df.copy()\n",
    "df_cp[\"总成绩\"] = df_cp.sum(axis=1)\n",
    "df_cp"
   ],
   "metadata": {
    "collapsed": false,
    "pycharm": {
     "name": "#%%\n",
     "is_executing": false
    }
   }
  },
  {
   "cell_type": "code",
   "execution_count": 24,
   "outputs": [
    {
     "data": {
      "text/plain": "        语文  数学  英语  物理  化学  计算机  总成绩\n030214  95  92  99  83  94   97  560\n030228  77  99  99  90  96   92  553\n030229  81  94  84  99  97   92  547\n030222  95  84  97  76  97   98  547\n030215  85  99  87  73  99   93  536\n030200  80  84  95  87  99   87  532\n030221  81  96  99  76  81   95  528\n030208  92  95  86  76  89   87  525\n030217  72  89  82  97  93   91  524\n030219  82  92  95  76  82   96  523",
      "text/html": "<div>\n<style scoped>\n    .dataframe tbody tr th:only-of-type {\n        vertical-align: middle;\n    }\n\n    .dataframe tbody tr th {\n        vertical-align: top;\n    }\n\n    .dataframe thead th {\n        text-align: right;\n    }\n</style>\n<table border=\"1\" class=\"dataframe\">\n  <thead>\n    <tr style=\"text-align: right;\">\n      <th></th>\n      <th>语文</th>\n      <th>数学</th>\n      <th>英语</th>\n      <th>物理</th>\n      <th>化学</th>\n      <th>计算机</th>\n      <th>总成绩</th>\n    </tr>\n  </thead>\n  <tbody>\n    <tr>\n      <td>030214</td>\n      <td>95</td>\n      <td>92</td>\n      <td>99</td>\n      <td>83</td>\n      <td>94</td>\n      <td>97</td>\n      <td>560</td>\n    </tr>\n    <tr>\n      <td>030228</td>\n      <td>77</td>\n      <td>99</td>\n      <td>99</td>\n      <td>90</td>\n      <td>96</td>\n      <td>92</td>\n      <td>553</td>\n    </tr>\n    <tr>\n      <td>030229</td>\n      <td>81</td>\n      <td>94</td>\n      <td>84</td>\n      <td>99</td>\n      <td>97</td>\n      <td>92</td>\n      <td>547</td>\n    </tr>\n    <tr>\n      <td>030222</td>\n      <td>95</td>\n      <td>84</td>\n      <td>97</td>\n      <td>76</td>\n      <td>97</td>\n      <td>98</td>\n      <td>547</td>\n    </tr>\n    <tr>\n      <td>030215</td>\n      <td>85</td>\n      <td>99</td>\n      <td>87</td>\n      <td>73</td>\n      <td>99</td>\n      <td>93</td>\n      <td>536</td>\n    </tr>\n    <tr>\n      <td>030200</td>\n      <td>80</td>\n      <td>84</td>\n      <td>95</td>\n      <td>87</td>\n      <td>99</td>\n      <td>87</td>\n      <td>532</td>\n    </tr>\n    <tr>\n      <td>030221</td>\n      <td>81</td>\n      <td>96</td>\n      <td>99</td>\n      <td>76</td>\n      <td>81</td>\n      <td>95</td>\n      <td>528</td>\n    </tr>\n    <tr>\n      <td>030208</td>\n      <td>92</td>\n      <td>95</td>\n      <td>86</td>\n      <td>76</td>\n      <td>89</td>\n      <td>87</td>\n      <td>525</td>\n    </tr>\n    <tr>\n      <td>030217</td>\n      <td>72</td>\n      <td>89</td>\n      <td>82</td>\n      <td>97</td>\n      <td>93</td>\n      <td>91</td>\n      <td>524</td>\n    </tr>\n    <tr>\n      <td>030219</td>\n      <td>82</td>\n      <td>92</td>\n      <td>95</td>\n      <td>76</td>\n      <td>82</td>\n      <td>96</td>\n      <td>523</td>\n    </tr>\n  </tbody>\n</table>\n</div>"
     },
     "metadata": {},
     "output_type": "execute_result",
     "execution_count": 24
    }
   ],
   "source": [
    "df_cp2 = df_cp.sort_values(by = '总成绩', ascending=False)\n",
    "df_cp2[0:10]"
   ],
   "metadata": {
    "collapsed": false,
    "pycharm": {
     "name": "#%% \n",
     "is_executing": false
    }
   }
  },
  {
   "cell_type": "code",
   "execution_count": 25,
   "outputs": [
    {
     "data": {
      "text/plain": "['女',\n '女',\n '男',\n '男',\n '女',\n '男',\n '男',\n '男',\n '女',\n '女',\n '男',\n '男',\n '女',\n '女',\n '女',\n '男',\n '男',\n '男',\n '女',\n '女',\n '女',\n '女',\n '男',\n '男',\n '女',\n '女',\n '男',\n '男',\n '男',\n '男']"
     },
     "metadata": {},
     "output_type": "execute_result",
     "execution_count": 25
    }
   ],
   "source": [
    "# \"男\" if 0.5 > np.random.random() else '女'\n",
    "BData = [ \"男\" if 0.5 > np.random.random() else '女' for _ in range(len(index))]\n",
    "BData"
   ],
   "metadata": {
    "collapsed": false,
    "pycharm": {
     "name": "#%%\n",
     "is_executing": false
    }
   }
  },
  {
   "cell_type": "code",
   "execution_count": 26,
   "outputs": [
    {
     "data": {
      "text/plain": "       性别\n030200  女\n030201  女\n030202  男\n030203  男\n030204  女\n030205  男\n030206  男\n030207  男\n030208  女\n030209  女\n030210  男\n030211  男\n030212  女\n030213  女\n030214  女\n030215  男\n030216  男\n030217  男\n030218  女\n030219  女\n030220  女\n030221  女\n030222  男\n030223  男\n030224  女\n030225  女\n030226  男\n030227  男\n030228  男\n030229  男",
      "text/html": "<div>\n<style scoped>\n    .dataframe tbody tr th:only-of-type {\n        vertical-align: middle;\n    }\n\n    .dataframe tbody tr th {\n        vertical-align: top;\n    }\n\n    .dataframe thead th {\n        text-align: right;\n    }\n</style>\n<table border=\"1\" class=\"dataframe\">\n  <thead>\n    <tr style=\"text-align: right;\">\n      <th></th>\n      <th>性别</th>\n    </tr>\n  </thead>\n  <tbody>\n    <tr>\n      <td>030200</td>\n      <td>女</td>\n    </tr>\n    <tr>\n      <td>030201</td>\n      <td>女</td>\n    </tr>\n    <tr>\n      <td>030202</td>\n      <td>男</td>\n    </tr>\n    <tr>\n      <td>030203</td>\n      <td>男</td>\n    </tr>\n    <tr>\n      <td>030204</td>\n      <td>女</td>\n    </tr>\n    <tr>\n      <td>030205</td>\n      <td>男</td>\n    </tr>\n    <tr>\n      <td>030206</td>\n      <td>男</td>\n    </tr>\n    <tr>\n      <td>030207</td>\n      <td>男</td>\n    </tr>\n    <tr>\n      <td>030208</td>\n      <td>女</td>\n    </tr>\n    <tr>\n      <td>030209</td>\n      <td>女</td>\n    </tr>\n    <tr>\n      <td>030210</td>\n      <td>男</td>\n    </tr>\n    <tr>\n      <td>030211</td>\n      <td>男</td>\n    </tr>\n    <tr>\n      <td>030212</td>\n      <td>女</td>\n    </tr>\n    <tr>\n      <td>030213</td>\n      <td>女</td>\n    </tr>\n    <tr>\n      <td>030214</td>\n      <td>女</td>\n    </tr>\n    <tr>\n      <td>030215</td>\n      <td>男</td>\n    </tr>\n    <tr>\n      <td>030216</td>\n      <td>男</td>\n    </tr>\n    <tr>\n      <td>030217</td>\n      <td>男</td>\n    </tr>\n    <tr>\n      <td>030218</td>\n      <td>女</td>\n    </tr>\n    <tr>\n      <td>030219</td>\n      <td>女</td>\n    </tr>\n    <tr>\n      <td>030220</td>\n      <td>女</td>\n    </tr>\n    <tr>\n      <td>030221</td>\n      <td>女</td>\n    </tr>\n    <tr>\n      <td>030222</td>\n      <td>男</td>\n    </tr>\n    <tr>\n      <td>030223</td>\n      <td>男</td>\n    </tr>\n    <tr>\n      <td>030224</td>\n      <td>女</td>\n    </tr>\n    <tr>\n      <td>030225</td>\n      <td>女</td>\n    </tr>\n    <tr>\n      <td>030226</td>\n      <td>男</td>\n    </tr>\n    <tr>\n      <td>030227</td>\n      <td>男</td>\n    </tr>\n    <tr>\n      <td>030228</td>\n      <td>男</td>\n    </tr>\n    <tr>\n      <td>030229</td>\n      <td>男</td>\n    </tr>\n  </tbody>\n</table>\n</div>"
     },
     "metadata": {},
     "output_type": "execute_result",
     "execution_count": 26
    }
   ],
   "source": [
    "df2 = pd.DataFrame(BData, index = index, columns=[\"性别\"])\n",
    "df2"
   ],
   "metadata": {
    "collapsed": false,
    "pycharm": {
     "name": "#%% \n",
     "is_executing": false
    }
   }
  },
  {
   "cell_type": "code",
   "execution_count": 27,
   "outputs": [
    {
     "data": {
      "text/plain": "        语文  数学  英语  物理  化学  计算机  总成绩 性别\n030200  80  84  95  87  99   87  532  女\n030201  70  87  87  74  75   71  464  女\n030202  85  78  85  90  78   95  511  男\n030203  95  77  87  93  72   79  503  男\n030204  80  95  94  88  82   70  509  女\n030205  81  88  92  81  73   99  514  男\n030206  73  81  71  73  91   76  465  男\n030207  71  92  76  77  78   78  472  男\n030208  92  95  86  76  89   87  525  女\n030209  73  92  80  89  77   97  508  女\n030210  81  97  75  75  99   80  507  男\n030211  81  91  79  83  75   85  494  男\n030212  84  83  84  84  75   81  491  女\n030213  81  70  91  90  74   82  488  女\n030214  95  92  99  83  94   97  560  女\n030215  85  99  87  73  99   93  536  男\n030216  86  70  89  78  82   81  486  男\n030217  72  89  82  97  93   91  524  男\n030218  75  71  74  94  97   71  482  女\n030219  82  92  95  76  82   96  523  女\n030220  89  79  89  72  75   89  493  女\n030221  81  96  99  76  81   95  528  女\n030222  95  84  97  76  97   98  547  男\n030223  85  95  84  71  75   79  489  男\n030224  72  98  87  94  86   86  523  女\n030225  73  89  75  77  87   73  474  女\n030226  72  81  95  83  87   90  508  男\n030227  96  86  86  78  99   70  515  男\n030228  77  99  99  90  96   92  553  男\n030229  81  94  84  99  97   92  547  男",
      "text/html": "<div>\n<style scoped>\n    .dataframe tbody tr th:only-of-type {\n        vertical-align: middle;\n    }\n\n    .dataframe tbody tr th {\n        vertical-align: top;\n    }\n\n    .dataframe thead th {\n        text-align: right;\n    }\n</style>\n<table border=\"1\" class=\"dataframe\">\n  <thead>\n    <tr style=\"text-align: right;\">\n      <th></th>\n      <th>语文</th>\n      <th>数学</th>\n      <th>英语</th>\n      <th>物理</th>\n      <th>化学</th>\n      <th>计算机</th>\n      <th>总成绩</th>\n      <th>性别</th>\n    </tr>\n  </thead>\n  <tbody>\n    <tr>\n      <td>030200</td>\n      <td>80</td>\n      <td>84</td>\n      <td>95</td>\n      <td>87</td>\n      <td>99</td>\n      <td>87</td>\n      <td>532</td>\n      <td>女</td>\n    </tr>\n    <tr>\n      <td>030201</td>\n      <td>70</td>\n      <td>87</td>\n      <td>87</td>\n      <td>74</td>\n      <td>75</td>\n      <td>71</td>\n      <td>464</td>\n      <td>女</td>\n    </tr>\n    <tr>\n      <td>030202</td>\n      <td>85</td>\n      <td>78</td>\n      <td>85</td>\n      <td>90</td>\n      <td>78</td>\n      <td>95</td>\n      <td>511</td>\n      <td>男</td>\n    </tr>\n    <tr>\n      <td>030203</td>\n      <td>95</td>\n      <td>77</td>\n      <td>87</td>\n      <td>93</td>\n      <td>72</td>\n      <td>79</td>\n      <td>503</td>\n      <td>男</td>\n    </tr>\n    <tr>\n      <td>030204</td>\n      <td>80</td>\n      <td>95</td>\n      <td>94</td>\n      <td>88</td>\n      <td>82</td>\n      <td>70</td>\n      <td>509</td>\n      <td>女</td>\n    </tr>\n    <tr>\n      <td>030205</td>\n      <td>81</td>\n      <td>88</td>\n      <td>92</td>\n      <td>81</td>\n      <td>73</td>\n      <td>99</td>\n      <td>514</td>\n      <td>男</td>\n    </tr>\n    <tr>\n      <td>030206</td>\n      <td>73</td>\n      <td>81</td>\n      <td>71</td>\n      <td>73</td>\n      <td>91</td>\n      <td>76</td>\n      <td>465</td>\n      <td>男</td>\n    </tr>\n    <tr>\n      <td>030207</td>\n      <td>71</td>\n      <td>92</td>\n      <td>76</td>\n      <td>77</td>\n      <td>78</td>\n      <td>78</td>\n      <td>472</td>\n      <td>男</td>\n    </tr>\n    <tr>\n      <td>030208</td>\n      <td>92</td>\n      <td>95</td>\n      <td>86</td>\n      <td>76</td>\n      <td>89</td>\n      <td>87</td>\n      <td>525</td>\n      <td>女</td>\n    </tr>\n    <tr>\n      <td>030209</td>\n      <td>73</td>\n      <td>92</td>\n      <td>80</td>\n      <td>89</td>\n      <td>77</td>\n      <td>97</td>\n      <td>508</td>\n      <td>女</td>\n    </tr>\n    <tr>\n      <td>030210</td>\n      <td>81</td>\n      <td>97</td>\n      <td>75</td>\n      <td>75</td>\n      <td>99</td>\n      <td>80</td>\n      <td>507</td>\n      <td>男</td>\n    </tr>\n    <tr>\n      <td>030211</td>\n      <td>81</td>\n      <td>91</td>\n      <td>79</td>\n      <td>83</td>\n      <td>75</td>\n      <td>85</td>\n      <td>494</td>\n      <td>男</td>\n    </tr>\n    <tr>\n      <td>030212</td>\n      <td>84</td>\n      <td>83</td>\n      <td>84</td>\n      <td>84</td>\n      <td>75</td>\n      <td>81</td>\n      <td>491</td>\n      <td>女</td>\n    </tr>\n    <tr>\n      <td>030213</td>\n      <td>81</td>\n      <td>70</td>\n      <td>91</td>\n      <td>90</td>\n      <td>74</td>\n      <td>82</td>\n      <td>488</td>\n      <td>女</td>\n    </tr>\n    <tr>\n      <td>030214</td>\n      <td>95</td>\n      <td>92</td>\n      <td>99</td>\n      <td>83</td>\n      <td>94</td>\n      <td>97</td>\n      <td>560</td>\n      <td>女</td>\n    </tr>\n    <tr>\n      <td>030215</td>\n      <td>85</td>\n      <td>99</td>\n      <td>87</td>\n      <td>73</td>\n      <td>99</td>\n      <td>93</td>\n      <td>536</td>\n      <td>男</td>\n    </tr>\n    <tr>\n      <td>030216</td>\n      <td>86</td>\n      <td>70</td>\n      <td>89</td>\n      <td>78</td>\n      <td>82</td>\n      <td>81</td>\n      <td>486</td>\n      <td>男</td>\n    </tr>\n    <tr>\n      <td>030217</td>\n      <td>72</td>\n      <td>89</td>\n      <td>82</td>\n      <td>97</td>\n      <td>93</td>\n      <td>91</td>\n      <td>524</td>\n      <td>男</td>\n    </tr>\n    <tr>\n      <td>030218</td>\n      <td>75</td>\n      <td>71</td>\n      <td>74</td>\n      <td>94</td>\n      <td>97</td>\n      <td>71</td>\n      <td>482</td>\n      <td>女</td>\n    </tr>\n    <tr>\n      <td>030219</td>\n      <td>82</td>\n      <td>92</td>\n      <td>95</td>\n      <td>76</td>\n      <td>82</td>\n      <td>96</td>\n      <td>523</td>\n      <td>女</td>\n    </tr>\n    <tr>\n      <td>030220</td>\n      <td>89</td>\n      <td>79</td>\n      <td>89</td>\n      <td>72</td>\n      <td>75</td>\n      <td>89</td>\n      <td>493</td>\n      <td>女</td>\n    </tr>\n    <tr>\n      <td>030221</td>\n      <td>81</td>\n      <td>96</td>\n      <td>99</td>\n      <td>76</td>\n      <td>81</td>\n      <td>95</td>\n      <td>528</td>\n      <td>女</td>\n    </tr>\n    <tr>\n      <td>030222</td>\n      <td>95</td>\n      <td>84</td>\n      <td>97</td>\n      <td>76</td>\n      <td>97</td>\n      <td>98</td>\n      <td>547</td>\n      <td>男</td>\n    </tr>\n    <tr>\n      <td>030223</td>\n      <td>85</td>\n      <td>95</td>\n      <td>84</td>\n      <td>71</td>\n      <td>75</td>\n      <td>79</td>\n      <td>489</td>\n      <td>男</td>\n    </tr>\n    <tr>\n      <td>030224</td>\n      <td>72</td>\n      <td>98</td>\n      <td>87</td>\n      <td>94</td>\n      <td>86</td>\n      <td>86</td>\n      <td>523</td>\n      <td>女</td>\n    </tr>\n    <tr>\n      <td>030225</td>\n      <td>73</td>\n      <td>89</td>\n      <td>75</td>\n      <td>77</td>\n      <td>87</td>\n      <td>73</td>\n      <td>474</td>\n      <td>女</td>\n    </tr>\n    <tr>\n      <td>030226</td>\n      <td>72</td>\n      <td>81</td>\n      <td>95</td>\n      <td>83</td>\n      <td>87</td>\n      <td>90</td>\n      <td>508</td>\n      <td>男</td>\n    </tr>\n    <tr>\n      <td>030227</td>\n      <td>96</td>\n      <td>86</td>\n      <td>86</td>\n      <td>78</td>\n      <td>99</td>\n      <td>70</td>\n      <td>515</td>\n      <td>男</td>\n    </tr>\n    <tr>\n      <td>030228</td>\n      <td>77</td>\n      <td>99</td>\n      <td>99</td>\n      <td>90</td>\n      <td>96</td>\n      <td>92</td>\n      <td>553</td>\n      <td>男</td>\n    </tr>\n    <tr>\n      <td>030229</td>\n      <td>81</td>\n      <td>94</td>\n      <td>84</td>\n      <td>99</td>\n      <td>97</td>\n      <td>92</td>\n      <td>547</td>\n      <td>男</td>\n    </tr>\n  </tbody>\n</table>\n</div>"
     },
     "metadata": {},
     "output_type": "execute_result",
     "execution_count": 27
    }
   ],
   "source": [
    "df3 = pd.concat([df_cp, df2], axis=1)\n",
    "df3"
   ],
   "metadata": {
    "collapsed": false,
    "pycharm": {
     "name": "#%%\n",
     "is_executing": false
    }
   }
  },
  {
   "cell_type": "code",
   "execution_count": 28,
   "outputs": [
    {
     "name": "stdout",
     "text": [
      "<class 'pandas.core.frame.DataFrame'>\n",
      "Index: 30 entries, 030200 to 030229\n",
      "Data columns (total 8 columns):\n",
      "语文     30 non-null int32\n",
      "数学     30 non-null int32\n",
      "英语     30 non-null int32\n",
      "物理     30 non-null int32\n",
      "化学     30 non-null int32\n",
      "计算机    30 non-null int32\n",
      "总成绩    30 non-null int64\n",
      "性别     30 non-null object\n",
      "dtypes: int32(6), int64(1), object(1)\n",
      "memory usage: 1.4+ KB\n"
     ],
     "output_type": "stream"
    }
   ],
   "source": [
    "df3.info()"
   ],
   "metadata": {
    "collapsed": false,
    "pycharm": {
     "name": "#%% \n",
     "is_executing": false
    }
   }
  },
  {
   "cell_type": "code",
   "execution_count": 29,
   "outputs": [
    {
     "data": {
      "text/plain": "              语文         数学         英语         物理         化学        计算机  \\\ncount  30.000000  30.000000  30.000000  30.000000  30.000000  30.000000   \nmean   81.433333  87.466667  86.766667  82.566667  85.466667  85.333333   \nstd     7.846296   8.581188   7.933705   8.190336   9.605075   9.233871   \nmin    70.000000  70.000000  71.000000  71.000000  72.000000  70.000000   \n25%    73.500000  81.500000  82.500000  76.000000  75.500000  79.000000   \n50%    81.000000  89.000000  87.000000  82.000000  84.000000  86.500000   \n75%    85.000000  94.750000  93.500000  89.750000  95.500000  92.750000   \nmax    96.000000  99.000000  99.000000  99.000000  99.000000  99.000000   \n\n              总成绩  \ncount   30.000000  \nmean   509.033333  \nstd     25.919615  \nmin    464.000000  \n25%    489.500000  \n50%    508.500000  \n75%    524.750000  \nmax    560.000000  ",
      "text/html": "<div>\n<style scoped>\n    .dataframe tbody tr th:only-of-type {\n        vertical-align: middle;\n    }\n\n    .dataframe tbody tr th {\n        vertical-align: top;\n    }\n\n    .dataframe thead th {\n        text-align: right;\n    }\n</style>\n<table border=\"1\" class=\"dataframe\">\n  <thead>\n    <tr style=\"text-align: right;\">\n      <th></th>\n      <th>语文</th>\n      <th>数学</th>\n      <th>英语</th>\n      <th>物理</th>\n      <th>化学</th>\n      <th>计算机</th>\n      <th>总成绩</th>\n    </tr>\n  </thead>\n  <tbody>\n    <tr>\n      <td>count</td>\n      <td>30.000000</td>\n      <td>30.000000</td>\n      <td>30.000000</td>\n      <td>30.000000</td>\n      <td>30.000000</td>\n      <td>30.000000</td>\n      <td>30.000000</td>\n    </tr>\n    <tr>\n      <td>mean</td>\n      <td>81.433333</td>\n      <td>87.466667</td>\n      <td>86.766667</td>\n      <td>82.566667</td>\n      <td>85.466667</td>\n      <td>85.333333</td>\n      <td>509.033333</td>\n    </tr>\n    <tr>\n      <td>std</td>\n      <td>7.846296</td>\n      <td>8.581188</td>\n      <td>7.933705</td>\n      <td>8.190336</td>\n      <td>9.605075</td>\n      <td>9.233871</td>\n      <td>25.919615</td>\n    </tr>\n    <tr>\n      <td>min</td>\n      <td>70.000000</td>\n      <td>70.000000</td>\n      <td>71.000000</td>\n      <td>71.000000</td>\n      <td>72.000000</td>\n      <td>70.000000</td>\n      <td>464.000000</td>\n    </tr>\n    <tr>\n      <td>25%</td>\n      <td>73.500000</td>\n      <td>81.500000</td>\n      <td>82.500000</td>\n      <td>76.000000</td>\n      <td>75.500000</td>\n      <td>79.000000</td>\n      <td>489.500000</td>\n    </tr>\n    <tr>\n      <td>50%</td>\n      <td>81.000000</td>\n      <td>89.000000</td>\n      <td>87.000000</td>\n      <td>82.000000</td>\n      <td>84.000000</td>\n      <td>86.500000</td>\n      <td>508.500000</td>\n    </tr>\n    <tr>\n      <td>75%</td>\n      <td>85.000000</td>\n      <td>94.750000</td>\n      <td>93.500000</td>\n      <td>89.750000</td>\n      <td>95.500000</td>\n      <td>92.750000</td>\n      <td>524.750000</td>\n    </tr>\n    <tr>\n      <td>max</td>\n      <td>96.000000</td>\n      <td>99.000000</td>\n      <td>99.000000</td>\n      <td>99.000000</td>\n      <td>99.000000</td>\n      <td>99.000000</td>\n      <td>560.000000</td>\n    </tr>\n  </tbody>\n</table>\n</div>"
     },
     "metadata": {},
     "output_type": "execute_result",
     "execution_count": 29
    }
   ],
   "source": [
    "df3.describe()"
   ],
   "metadata": {
    "collapsed": false,
    "pycharm": {
     "name": "#%%\n",
     "is_executing": false
    }
   }
  },
  {
   "cell_type": "code",
   "execution_count": 30,
   "outputs": [
    {
     "data": {
      "text/plain": "     语文  数学  英语  物理  化学  计算机  总成绩 性别\nmax  96  99  99  99  99   99  560  男",
      "text/html": "<div>\n<style scoped>\n    .dataframe tbody tr th:only-of-type {\n        vertical-align: middle;\n    }\n\n    .dataframe tbody tr th {\n        vertical-align: top;\n    }\n\n    .dataframe thead th {\n        text-align: right;\n    }\n</style>\n<table border=\"1\" class=\"dataframe\">\n  <thead>\n    <tr style=\"text-align: right;\">\n      <th></th>\n      <th>语文</th>\n      <th>数学</th>\n      <th>英语</th>\n      <th>物理</th>\n      <th>化学</th>\n      <th>计算机</th>\n      <th>总成绩</th>\n      <th>性别</th>\n    </tr>\n  </thead>\n  <tbody>\n    <tr>\n      <td>max</td>\n      <td>96</td>\n      <td>99</td>\n      <td>99</td>\n      <td>99</td>\n      <td>99</td>\n      <td>99</td>\n      <td>560</td>\n      <td>男</td>\n    </tr>\n  </tbody>\n</table>\n</div>"
     },
     "metadata": {},
     "output_type": "execute_result",
     "execution_count": 30
    }
   ],
   "source": [
    "def my_describe(x):\n",
    "    return pd.Series(x.max(), index = [\"max\"])\n",
    "\n",
    "df3.apply(my_describe)\n"
   ],
   "metadata": {
    "collapsed": false,
    "pycharm": {
     "name": "#%% \n",
     "is_executing": false
    }
   }
  },
  {
   "cell_type": "code",
   "execution_count": 31,
   "outputs": [
    {
     "data": {
      "text/plain": "      语文    数学    英语    物理    化学   计算机   总成绩\n性别                                          \n女   1127  1223  1235  1160  1173  1182  7100\n男   1316  1401  1368  1317  1391  1378  8171",
      "text/html": "<div>\n<style scoped>\n    .dataframe tbody tr th:only-of-type {\n        vertical-align: middle;\n    }\n\n    .dataframe tbody tr th {\n        vertical-align: top;\n    }\n\n    .dataframe thead th {\n        text-align: right;\n    }\n</style>\n<table border=\"1\" class=\"dataframe\">\n  <thead>\n    <tr style=\"text-align: right;\">\n      <th></th>\n      <th>语文</th>\n      <th>数学</th>\n      <th>英语</th>\n      <th>物理</th>\n      <th>化学</th>\n      <th>计算机</th>\n      <th>总成绩</th>\n    </tr>\n    <tr>\n      <th>性别</th>\n      <th></th>\n      <th></th>\n      <th></th>\n      <th></th>\n      <th></th>\n      <th></th>\n      <th></th>\n    </tr>\n  </thead>\n  <tbody>\n    <tr>\n      <td>女</td>\n      <td>1127</td>\n      <td>1223</td>\n      <td>1235</td>\n      <td>1160</td>\n      <td>1173</td>\n      <td>1182</td>\n      <td>7100</td>\n    </tr>\n    <tr>\n      <td>男</td>\n      <td>1316</td>\n      <td>1401</td>\n      <td>1368</td>\n      <td>1317</td>\n      <td>1391</td>\n      <td>1378</td>\n      <td>8171</td>\n    </tr>\n  </tbody>\n</table>\n</div>"
     },
     "metadata": {},
     "output_type": "execute_result",
     "execution_count": 31
    }
   ],
   "source": [
    "df3.groupby(by='性别').sum()"
   ],
   "metadata": {
    "collapsed": false,
    "pycharm": {
     "name": "#%%\n",
     "is_executing": false
    }
   }
  },
  {
   "cell_type": "code",
   "execution_count": 32,
   "outputs": [
    {
     "data": {
      "text/plain": "       语文         数学         英语         物理         化学        计算机         总成绩\n性别                                                                          \n女   80.50  87.357143  88.214286  82.857143  83.785714  84.428571  507.142857\n男   82.25  87.562500  85.500000  82.312500  86.937500  86.125000  510.687500",
      "text/html": "<div>\n<style scoped>\n    .dataframe tbody tr th:only-of-type {\n        vertical-align: middle;\n    }\n\n    .dataframe tbody tr th {\n        vertical-align: top;\n    }\n\n    .dataframe thead th {\n        text-align: right;\n    }\n</style>\n<table border=\"1\" class=\"dataframe\">\n  <thead>\n    <tr style=\"text-align: right;\">\n      <th></th>\n      <th>语文</th>\n      <th>数学</th>\n      <th>英语</th>\n      <th>物理</th>\n      <th>化学</th>\n      <th>计算机</th>\n      <th>总成绩</th>\n    </tr>\n    <tr>\n      <th>性别</th>\n      <th></th>\n      <th></th>\n      <th></th>\n      <th></th>\n      <th></th>\n      <th></th>\n      <th></th>\n    </tr>\n  </thead>\n  <tbody>\n    <tr>\n      <td>女</td>\n      <td>80.50</td>\n      <td>87.357143</td>\n      <td>88.214286</td>\n      <td>82.857143</td>\n      <td>83.785714</td>\n      <td>84.428571</td>\n      <td>507.142857</td>\n    </tr>\n    <tr>\n      <td>男</td>\n      <td>82.25</td>\n      <td>87.562500</td>\n      <td>85.500000</td>\n      <td>82.312500</td>\n      <td>86.937500</td>\n      <td>86.125000</td>\n      <td>510.687500</td>\n    </tr>\n  </tbody>\n</table>\n</div>"
     },
     "metadata": {},
     "output_type": "execute_result",
     "execution_count": 32
    }
   ],
   "source": [
    "df3.groupby(by='性别').mean()"
   ],
   "metadata": {
    "collapsed": false,
    "pycharm": {
     "name": "#%%\n",
     "is_executing": false
    }
   }
  },
  {
   "cell_type": "code",
   "execution_count": 7,
   "outputs": [
    {
     "traceback": [
      "\u001b[1;31m---------------------------------------------------------------------------\u001b[0m",
      "\u001b[1;31mConnectionResetError\u001b[0m                      Traceback (most recent call last)",
      "\u001b[1;32mD:\\apps\\anaconda\\lib\\urllib\\request.py\u001b[0m in \u001b[0;36mdo_open\u001b[1;34m(self, http_class, req, **http_conn_args)\u001b[0m\n\u001b[0;32m   1316\u001b[0m                 h.request(req.get_method(), req.selector, req.data, headers,\n\u001b[1;32m-> 1317\u001b[1;33m                           encode_chunked=req.has_header('Transfer-encoding'))\n\u001b[0m\u001b[0;32m   1318\u001b[0m             \u001b[1;32mexcept\u001b[0m \u001b[0mOSError\u001b[0m \u001b[1;32mas\u001b[0m \u001b[0merr\u001b[0m\u001b[1;33m:\u001b[0m \u001b[1;31m# timeout error\u001b[0m\u001b[1;33m\u001b[0m\u001b[1;33m\u001b[0m\u001b[0m\n",
      "\u001b[1;32mD:\\apps\\anaconda\\lib\\http\\client.py\u001b[0m in \u001b[0;36mrequest\u001b[1;34m(self, method, url, body, headers, encode_chunked)\u001b[0m\n\u001b[0;32m   1243\u001b[0m         \u001b[1;34m\"\"\"Send a complete request to the server.\"\"\"\u001b[0m\u001b[1;33m\u001b[0m\u001b[1;33m\u001b[0m\u001b[0m\n\u001b[1;32m-> 1244\u001b[1;33m         \u001b[0mself\u001b[0m\u001b[1;33m.\u001b[0m\u001b[0m_send_request\u001b[0m\u001b[1;33m(\u001b[0m\u001b[0mmethod\u001b[0m\u001b[1;33m,\u001b[0m \u001b[0murl\u001b[0m\u001b[1;33m,\u001b[0m \u001b[0mbody\u001b[0m\u001b[1;33m,\u001b[0m \u001b[0mheaders\u001b[0m\u001b[1;33m,\u001b[0m \u001b[0mencode_chunked\u001b[0m\u001b[1;33m)\u001b[0m\u001b[1;33m\u001b[0m\u001b[1;33m\u001b[0m\u001b[0m\n\u001b[0m\u001b[0;32m   1245\u001b[0m \u001b[1;33m\u001b[0m\u001b[0m\n",
      "\u001b[1;32mD:\\apps\\anaconda\\lib\\http\\client.py\u001b[0m in \u001b[0;36m_send_request\u001b[1;34m(self, method, url, body, headers, encode_chunked)\u001b[0m\n\u001b[0;32m   1289\u001b[0m             \u001b[0mbody\u001b[0m \u001b[1;33m=\u001b[0m \u001b[0m_encode\u001b[0m\u001b[1;33m(\u001b[0m\u001b[0mbody\u001b[0m\u001b[1;33m,\u001b[0m \u001b[1;34m'body'\u001b[0m\u001b[1;33m)\u001b[0m\u001b[1;33m\u001b[0m\u001b[1;33m\u001b[0m\u001b[0m\n\u001b[1;32m-> 1290\u001b[1;33m         \u001b[0mself\u001b[0m\u001b[1;33m.\u001b[0m\u001b[0mendheaders\u001b[0m\u001b[1;33m(\u001b[0m\u001b[0mbody\u001b[0m\u001b[1;33m,\u001b[0m \u001b[0mencode_chunked\u001b[0m\u001b[1;33m=\u001b[0m\u001b[0mencode_chunked\u001b[0m\u001b[1;33m)\u001b[0m\u001b[1;33m\u001b[0m\u001b[1;33m\u001b[0m\u001b[0m\n\u001b[0m\u001b[0;32m   1291\u001b[0m \u001b[1;33m\u001b[0m\u001b[0m\n",
      "\u001b[1;32mD:\\apps\\anaconda\\lib\\http\\client.py\u001b[0m in \u001b[0;36mendheaders\u001b[1;34m(self, message_body, encode_chunked)\u001b[0m\n\u001b[0;32m   1238\u001b[0m             \u001b[1;32mraise\u001b[0m \u001b[0mCannotSendHeader\u001b[0m\u001b[1;33m(\u001b[0m\u001b[1;33m)\u001b[0m\u001b[1;33m\u001b[0m\u001b[1;33m\u001b[0m\u001b[0m\n\u001b[1;32m-> 1239\u001b[1;33m         \u001b[0mself\u001b[0m\u001b[1;33m.\u001b[0m\u001b[0m_send_output\u001b[0m\u001b[1;33m(\u001b[0m\u001b[0mmessage_body\u001b[0m\u001b[1;33m,\u001b[0m \u001b[0mencode_chunked\u001b[0m\u001b[1;33m=\u001b[0m\u001b[0mencode_chunked\u001b[0m\u001b[1;33m)\u001b[0m\u001b[1;33m\u001b[0m\u001b[1;33m\u001b[0m\u001b[0m\n\u001b[0m\u001b[0;32m   1240\u001b[0m \u001b[1;33m\u001b[0m\u001b[0m\n",
      "\u001b[1;32mD:\\apps\\anaconda\\lib\\http\\client.py\u001b[0m in \u001b[0;36m_send_output\u001b[1;34m(self, message_body, encode_chunked)\u001b[0m\n\u001b[0;32m   1025\u001b[0m         \u001b[1;32mdel\u001b[0m \u001b[0mself\u001b[0m\u001b[1;33m.\u001b[0m\u001b[0m_buffer\u001b[0m\u001b[1;33m[\u001b[0m\u001b[1;33m:\u001b[0m\u001b[1;33m]\u001b[0m\u001b[1;33m\u001b[0m\u001b[1;33m\u001b[0m\u001b[0m\n\u001b[1;32m-> 1026\u001b[1;33m         \u001b[0mself\u001b[0m\u001b[1;33m.\u001b[0m\u001b[0msend\u001b[0m\u001b[1;33m(\u001b[0m\u001b[0mmsg\u001b[0m\u001b[1;33m)\u001b[0m\u001b[1;33m\u001b[0m\u001b[1;33m\u001b[0m\u001b[0m\n\u001b[0m\u001b[0;32m   1027\u001b[0m \u001b[1;33m\u001b[0m\u001b[0m\n",
      "\u001b[1;32mD:\\apps\\anaconda\\lib\\http\\client.py\u001b[0m in \u001b[0;36msend\u001b[1;34m(self, data)\u001b[0m\n\u001b[0;32m    965\u001b[0m             \u001b[1;32mif\u001b[0m \u001b[0mself\u001b[0m\u001b[1;33m.\u001b[0m\u001b[0mauto_open\u001b[0m\u001b[1;33m:\u001b[0m\u001b[1;33m\u001b[0m\u001b[1;33m\u001b[0m\u001b[0m\n\u001b[1;32m--> 966\u001b[1;33m                 \u001b[0mself\u001b[0m\u001b[1;33m.\u001b[0m\u001b[0mconnect\u001b[0m\u001b[1;33m(\u001b[0m\u001b[1;33m)\u001b[0m\u001b[1;33m\u001b[0m\u001b[1;33m\u001b[0m\u001b[0m\n\u001b[0m\u001b[0;32m    967\u001b[0m             \u001b[1;32melse\u001b[0m\u001b[1;33m:\u001b[0m\u001b[1;33m\u001b[0m\u001b[1;33m\u001b[0m\u001b[0m\n",
      "\u001b[1;32mD:\\apps\\anaconda\\lib\\http\\client.py\u001b[0m in \u001b[0;36mconnect\u001b[1;34m(self)\u001b[0m\n\u001b[0;32m   1413\u001b[0m             self.sock = self._context.wrap_socket(self.sock,\n\u001b[1;32m-> 1414\u001b[1;33m                                                   server_hostname=server_hostname)\n\u001b[0m\u001b[0;32m   1415\u001b[0m \u001b[1;33m\u001b[0m\u001b[0m\n",
      "\u001b[1;32mD:\\apps\\anaconda\\lib\\ssl.py\u001b[0m in \u001b[0;36mwrap_socket\u001b[1;34m(self, sock, server_side, do_handshake_on_connect, suppress_ragged_eofs, server_hostname, session)\u001b[0m\n\u001b[0;32m    422\u001b[0m             \u001b[0mcontext\u001b[0m\u001b[1;33m=\u001b[0m\u001b[0mself\u001b[0m\u001b[1;33m,\u001b[0m\u001b[1;33m\u001b[0m\u001b[1;33m\u001b[0m\u001b[0m\n\u001b[1;32m--> 423\u001b[1;33m             \u001b[0msession\u001b[0m\u001b[1;33m=\u001b[0m\u001b[0msession\u001b[0m\u001b[1;33m\u001b[0m\u001b[1;33m\u001b[0m\u001b[0m\n\u001b[0m\u001b[0;32m    424\u001b[0m         )\n",
      "\u001b[1;32mD:\\apps\\anaconda\\lib\\ssl.py\u001b[0m in \u001b[0;36m_create\u001b[1;34m(cls, sock, server_side, do_handshake_on_connect, suppress_ragged_eofs, server_hostname, context, session)\u001b[0m\n\u001b[0;32m    869\u001b[0m                         \u001b[1;32mraise\u001b[0m \u001b[0mValueError\u001b[0m\u001b[1;33m(\u001b[0m\u001b[1;34m\"do_handshake_on_connect should not be specified for non-blocking sockets\"\u001b[0m\u001b[1;33m)\u001b[0m\u001b[1;33m\u001b[0m\u001b[1;33m\u001b[0m\u001b[0m\n\u001b[1;32m--> 870\u001b[1;33m                     \u001b[0mself\u001b[0m\u001b[1;33m.\u001b[0m\u001b[0mdo_handshake\u001b[0m\u001b[1;33m(\u001b[0m\u001b[1;33m)\u001b[0m\u001b[1;33m\u001b[0m\u001b[1;33m\u001b[0m\u001b[0m\n\u001b[0m\u001b[0;32m    871\u001b[0m             \u001b[1;32mexcept\u001b[0m \u001b[1;33m(\u001b[0m\u001b[0mOSError\u001b[0m\u001b[1;33m,\u001b[0m \u001b[0mValueError\u001b[0m\u001b[1;33m)\u001b[0m\u001b[1;33m:\u001b[0m\u001b[1;33m\u001b[0m\u001b[1;33m\u001b[0m\u001b[0m\n",
      "\u001b[1;32mD:\\apps\\anaconda\\lib\\ssl.py\u001b[0m in \u001b[0;36mdo_handshake\u001b[1;34m(self, block)\u001b[0m\n\u001b[0;32m   1138\u001b[0m                 \u001b[0mself\u001b[0m\u001b[1;33m.\u001b[0m\u001b[0msettimeout\u001b[0m\u001b[1;33m(\u001b[0m\u001b[1;32mNone\u001b[0m\u001b[1;33m)\u001b[0m\u001b[1;33m\u001b[0m\u001b[1;33m\u001b[0m\u001b[0m\n\u001b[1;32m-> 1139\u001b[1;33m             \u001b[0mself\u001b[0m\u001b[1;33m.\u001b[0m\u001b[0m_sslobj\u001b[0m\u001b[1;33m.\u001b[0m\u001b[0mdo_handshake\u001b[0m\u001b[1;33m(\u001b[0m\u001b[1;33m)\u001b[0m\u001b[1;33m\u001b[0m\u001b[1;33m\u001b[0m\u001b[0m\n\u001b[0m\u001b[0;32m   1140\u001b[0m         \u001b[1;32mfinally\u001b[0m\u001b[1;33m:\u001b[0m\u001b[1;33m\u001b[0m\u001b[1;33m\u001b[0m\u001b[0m\n",
      "\u001b[1;31mConnectionResetError\u001b[0m: [WinError 10054] 远程主机强迫关闭了一个现有的连接。",
      "\nDuring handling of the above exception, another exception occurred:\n",
      "\u001b[1;31mURLError\u001b[0m                                  Traceback (most recent call last)",
      "\u001b[1;32m<ipython-input-7-be85da5c4a0a>\u001b[0m in \u001b[0;36m<module>\u001b[1;34m\u001b[0m\n\u001b[0;32m      5\u001b[0m \u001b[1;33m\u001b[0m\u001b[0m\n\u001b[0;32m      6\u001b[0m \u001b[1;32mimport\u001b[0m \u001b[0mseaborn\u001b[0m \u001b[1;32mas\u001b[0m \u001b[0msb\u001b[0m\u001b[1;33m\u001b[0m\u001b[1;33m\u001b[0m\u001b[0m\n\u001b[1;32m----> 7\u001b[1;33m \u001b[0mdf\u001b[0m \u001b[1;33m=\u001b[0m \u001b[0msb\u001b[0m\u001b[1;33m.\u001b[0m\u001b[0mload_dataset\u001b[0m\u001b[1;33m(\u001b[0m\u001b[1;34m'tips'\u001b[0m\u001b[1;33m)\u001b[0m\u001b[1;33m\u001b[0m\u001b[1;33m\u001b[0m\u001b[0m\n\u001b[0m\u001b[0;32m      8\u001b[0m \u001b[0mdf\u001b[0m\u001b[1;33m.\u001b[0m\u001b[0mhead\u001b[0m\u001b[1;33m(\u001b[0m\u001b[1;33m)\u001b[0m\u001b[1;33m\u001b[0m\u001b[1;33m\u001b[0m\u001b[0m\n\u001b[0;32m      9\u001b[0m \u001b[1;33m\u001b[0m\u001b[0m\n",
      "\u001b[1;32mD:\\apps\\anaconda\\lib\\site-packages\\seaborn\\utils.py\u001b[0m in \u001b[0;36mload_dataset\u001b[1;34m(name, cache, data_home, **kws)\u001b[0m\n\u001b[0;32m    426\u001b[0m                                   os.path.basename(full_path))\n\u001b[0;32m    427\u001b[0m         \u001b[1;32mif\u001b[0m \u001b[1;32mnot\u001b[0m \u001b[0mos\u001b[0m\u001b[1;33m.\u001b[0m\u001b[0mpath\u001b[0m\u001b[1;33m.\u001b[0m\u001b[0mexists\u001b[0m\u001b[1;33m(\u001b[0m\u001b[0mcache_path\u001b[0m\u001b[1;33m)\u001b[0m\u001b[1;33m:\u001b[0m\u001b[1;33m\u001b[0m\u001b[1;33m\u001b[0m\u001b[0m\n\u001b[1;32m--> 428\u001b[1;33m             \u001b[0murlretrieve\u001b[0m\u001b[1;33m(\u001b[0m\u001b[0mfull_path\u001b[0m\u001b[1;33m,\u001b[0m \u001b[0mcache_path\u001b[0m\u001b[1;33m)\u001b[0m\u001b[1;33m\u001b[0m\u001b[1;33m\u001b[0m\u001b[0m\n\u001b[0m\u001b[0;32m    429\u001b[0m         \u001b[0mfull_path\u001b[0m \u001b[1;33m=\u001b[0m \u001b[0mcache_path\u001b[0m\u001b[1;33m\u001b[0m\u001b[1;33m\u001b[0m\u001b[0m\n\u001b[0;32m    430\u001b[0m \u001b[1;33m\u001b[0m\u001b[0m\n",
      "\u001b[1;32mD:\\apps\\anaconda\\lib\\urllib\\request.py\u001b[0m in \u001b[0;36murlretrieve\u001b[1;34m(url, filename, reporthook, data)\u001b[0m\n\u001b[0;32m    245\u001b[0m     \u001b[0murl_type\u001b[0m\u001b[1;33m,\u001b[0m \u001b[0mpath\u001b[0m \u001b[1;33m=\u001b[0m \u001b[0msplittype\u001b[0m\u001b[1;33m(\u001b[0m\u001b[0murl\u001b[0m\u001b[1;33m)\u001b[0m\u001b[1;33m\u001b[0m\u001b[1;33m\u001b[0m\u001b[0m\n\u001b[0;32m    246\u001b[0m \u001b[1;33m\u001b[0m\u001b[0m\n\u001b[1;32m--> 247\u001b[1;33m     \u001b[1;32mwith\u001b[0m \u001b[0mcontextlib\u001b[0m\u001b[1;33m.\u001b[0m\u001b[0mclosing\u001b[0m\u001b[1;33m(\u001b[0m\u001b[0murlopen\u001b[0m\u001b[1;33m(\u001b[0m\u001b[0murl\u001b[0m\u001b[1;33m,\u001b[0m \u001b[0mdata\u001b[0m\u001b[1;33m)\u001b[0m\u001b[1;33m)\u001b[0m \u001b[1;32mas\u001b[0m \u001b[0mfp\u001b[0m\u001b[1;33m:\u001b[0m\u001b[1;33m\u001b[0m\u001b[1;33m\u001b[0m\u001b[0m\n\u001b[0m\u001b[0;32m    248\u001b[0m         \u001b[0mheaders\u001b[0m \u001b[1;33m=\u001b[0m \u001b[0mfp\u001b[0m\u001b[1;33m.\u001b[0m\u001b[0minfo\u001b[0m\u001b[1;33m(\u001b[0m\u001b[1;33m)\u001b[0m\u001b[1;33m\u001b[0m\u001b[1;33m\u001b[0m\u001b[0m\n\u001b[0;32m    249\u001b[0m \u001b[1;33m\u001b[0m\u001b[0m\n",
      "\u001b[1;32mD:\\apps\\anaconda\\lib\\urllib\\request.py\u001b[0m in \u001b[0;36murlopen\u001b[1;34m(url, data, timeout, cafile, capath, cadefault, context)\u001b[0m\n\u001b[0;32m    220\u001b[0m     \u001b[1;32melse\u001b[0m\u001b[1;33m:\u001b[0m\u001b[1;33m\u001b[0m\u001b[1;33m\u001b[0m\u001b[0m\n\u001b[0;32m    221\u001b[0m         \u001b[0mopener\u001b[0m \u001b[1;33m=\u001b[0m \u001b[0m_opener\u001b[0m\u001b[1;33m\u001b[0m\u001b[1;33m\u001b[0m\u001b[0m\n\u001b[1;32m--> 222\u001b[1;33m     \u001b[1;32mreturn\u001b[0m \u001b[0mopener\u001b[0m\u001b[1;33m.\u001b[0m\u001b[0mopen\u001b[0m\u001b[1;33m(\u001b[0m\u001b[0murl\u001b[0m\u001b[1;33m,\u001b[0m \u001b[0mdata\u001b[0m\u001b[1;33m,\u001b[0m \u001b[0mtimeout\u001b[0m\u001b[1;33m)\u001b[0m\u001b[1;33m\u001b[0m\u001b[1;33m\u001b[0m\u001b[0m\n\u001b[0m\u001b[0;32m    223\u001b[0m \u001b[1;33m\u001b[0m\u001b[0m\n\u001b[0;32m    224\u001b[0m \u001b[1;32mdef\u001b[0m \u001b[0minstall_opener\u001b[0m\u001b[1;33m(\u001b[0m\u001b[0mopener\u001b[0m\u001b[1;33m)\u001b[0m\u001b[1;33m:\u001b[0m\u001b[1;33m\u001b[0m\u001b[1;33m\u001b[0m\u001b[0m\n",
      "\u001b[1;32mD:\\apps\\anaconda\\lib\\urllib\\request.py\u001b[0m in \u001b[0;36mopen\u001b[1;34m(self, fullurl, data, timeout)\u001b[0m\n\u001b[0;32m    523\u001b[0m             \u001b[0mreq\u001b[0m \u001b[1;33m=\u001b[0m \u001b[0mmeth\u001b[0m\u001b[1;33m(\u001b[0m\u001b[0mreq\u001b[0m\u001b[1;33m)\u001b[0m\u001b[1;33m\u001b[0m\u001b[1;33m\u001b[0m\u001b[0m\n\u001b[0;32m    524\u001b[0m \u001b[1;33m\u001b[0m\u001b[0m\n\u001b[1;32m--> 525\u001b[1;33m         \u001b[0mresponse\u001b[0m \u001b[1;33m=\u001b[0m \u001b[0mself\u001b[0m\u001b[1;33m.\u001b[0m\u001b[0m_open\u001b[0m\u001b[1;33m(\u001b[0m\u001b[0mreq\u001b[0m\u001b[1;33m,\u001b[0m \u001b[0mdata\u001b[0m\u001b[1;33m)\u001b[0m\u001b[1;33m\u001b[0m\u001b[1;33m\u001b[0m\u001b[0m\n\u001b[0m\u001b[0;32m    526\u001b[0m \u001b[1;33m\u001b[0m\u001b[0m\n\u001b[0;32m    527\u001b[0m         \u001b[1;31m# post-process response\u001b[0m\u001b[1;33m\u001b[0m\u001b[1;33m\u001b[0m\u001b[1;33m\u001b[0m\u001b[0m\n",
      "\u001b[1;32mD:\\apps\\anaconda\\lib\\urllib\\request.py\u001b[0m in \u001b[0;36m_open\u001b[1;34m(self, req, data)\u001b[0m\n\u001b[0;32m    541\u001b[0m         \u001b[0mprotocol\u001b[0m \u001b[1;33m=\u001b[0m \u001b[0mreq\u001b[0m\u001b[1;33m.\u001b[0m\u001b[0mtype\u001b[0m\u001b[1;33m\u001b[0m\u001b[1;33m\u001b[0m\u001b[0m\n\u001b[0;32m    542\u001b[0m         result = self._call_chain(self.handle_open, protocol, protocol +\n\u001b[1;32m--> 543\u001b[1;33m                                   '_open', req)\n\u001b[0m\u001b[0;32m    544\u001b[0m         \u001b[1;32mif\u001b[0m \u001b[0mresult\u001b[0m\u001b[1;33m:\u001b[0m\u001b[1;33m\u001b[0m\u001b[1;33m\u001b[0m\u001b[0m\n\u001b[0;32m    545\u001b[0m             \u001b[1;32mreturn\u001b[0m \u001b[0mresult\u001b[0m\u001b[1;33m\u001b[0m\u001b[1;33m\u001b[0m\u001b[0m\n",
      "\u001b[1;32mD:\\apps\\anaconda\\lib\\urllib\\request.py\u001b[0m in \u001b[0;36m_call_chain\u001b[1;34m(self, chain, kind, meth_name, *args)\u001b[0m\n\u001b[0;32m    501\u001b[0m         \u001b[1;32mfor\u001b[0m \u001b[0mhandler\u001b[0m \u001b[1;32min\u001b[0m \u001b[0mhandlers\u001b[0m\u001b[1;33m:\u001b[0m\u001b[1;33m\u001b[0m\u001b[1;33m\u001b[0m\u001b[0m\n\u001b[0;32m    502\u001b[0m             \u001b[0mfunc\u001b[0m \u001b[1;33m=\u001b[0m \u001b[0mgetattr\u001b[0m\u001b[1;33m(\u001b[0m\u001b[0mhandler\u001b[0m\u001b[1;33m,\u001b[0m \u001b[0mmeth_name\u001b[0m\u001b[1;33m)\u001b[0m\u001b[1;33m\u001b[0m\u001b[1;33m\u001b[0m\u001b[0m\n\u001b[1;32m--> 503\u001b[1;33m             \u001b[0mresult\u001b[0m \u001b[1;33m=\u001b[0m \u001b[0mfunc\u001b[0m\u001b[1;33m(\u001b[0m\u001b[1;33m*\u001b[0m\u001b[0margs\u001b[0m\u001b[1;33m)\u001b[0m\u001b[1;33m\u001b[0m\u001b[1;33m\u001b[0m\u001b[0m\n\u001b[0m\u001b[0;32m    504\u001b[0m             \u001b[1;32mif\u001b[0m \u001b[0mresult\u001b[0m \u001b[1;32mis\u001b[0m \u001b[1;32mnot\u001b[0m \u001b[1;32mNone\u001b[0m\u001b[1;33m:\u001b[0m\u001b[1;33m\u001b[0m\u001b[1;33m\u001b[0m\u001b[0m\n\u001b[0;32m    505\u001b[0m                 \u001b[1;32mreturn\u001b[0m \u001b[0mresult\u001b[0m\u001b[1;33m\u001b[0m\u001b[1;33m\u001b[0m\u001b[0m\n",
      "\u001b[1;32mD:\\apps\\anaconda\\lib\\urllib\\request.py\u001b[0m in \u001b[0;36mhttps_open\u001b[1;34m(self, req)\u001b[0m\n\u001b[0;32m   1358\u001b[0m         \u001b[1;32mdef\u001b[0m \u001b[0mhttps_open\u001b[0m\u001b[1;33m(\u001b[0m\u001b[0mself\u001b[0m\u001b[1;33m,\u001b[0m \u001b[0mreq\u001b[0m\u001b[1;33m)\u001b[0m\u001b[1;33m:\u001b[0m\u001b[1;33m\u001b[0m\u001b[1;33m\u001b[0m\u001b[0m\n\u001b[0;32m   1359\u001b[0m             return self.do_open(http.client.HTTPSConnection, req,\n\u001b[1;32m-> 1360\u001b[1;33m                 context=self._context, check_hostname=self._check_hostname)\n\u001b[0m\u001b[0;32m   1361\u001b[0m \u001b[1;33m\u001b[0m\u001b[0m\n\u001b[0;32m   1362\u001b[0m         \u001b[0mhttps_request\u001b[0m \u001b[1;33m=\u001b[0m \u001b[0mAbstractHTTPHandler\u001b[0m\u001b[1;33m.\u001b[0m\u001b[0mdo_request_\u001b[0m\u001b[1;33m\u001b[0m\u001b[1;33m\u001b[0m\u001b[0m\n",
      "\u001b[1;32mD:\\apps\\anaconda\\lib\\urllib\\request.py\u001b[0m in \u001b[0;36mdo_open\u001b[1;34m(self, http_class, req, **http_conn_args)\u001b[0m\n\u001b[0;32m   1317\u001b[0m                           encode_chunked=req.has_header('Transfer-encoding'))\n\u001b[0;32m   1318\u001b[0m             \u001b[1;32mexcept\u001b[0m \u001b[0mOSError\u001b[0m \u001b[1;32mas\u001b[0m \u001b[0merr\u001b[0m\u001b[1;33m:\u001b[0m \u001b[1;31m# timeout error\u001b[0m\u001b[1;33m\u001b[0m\u001b[1;33m\u001b[0m\u001b[0m\n\u001b[1;32m-> 1319\u001b[1;33m                 \u001b[1;32mraise\u001b[0m \u001b[0mURLError\u001b[0m\u001b[1;33m(\u001b[0m\u001b[0merr\u001b[0m\u001b[1;33m)\u001b[0m\u001b[1;33m\u001b[0m\u001b[1;33m\u001b[0m\u001b[0m\n\u001b[0m\u001b[0;32m   1320\u001b[0m             \u001b[0mr\u001b[0m \u001b[1;33m=\u001b[0m \u001b[0mh\u001b[0m\u001b[1;33m.\u001b[0m\u001b[0mgetresponse\u001b[0m\u001b[1;33m(\u001b[0m\u001b[1;33m)\u001b[0m\u001b[1;33m\u001b[0m\u001b[1;33m\u001b[0m\u001b[0m\n\u001b[0;32m   1321\u001b[0m         \u001b[1;32mexcept\u001b[0m\u001b[1;33m:\u001b[0m\u001b[1;33m\u001b[0m\u001b[1;33m\u001b[0m\u001b[0m\n",
      "\u001b[1;31mURLError\u001b[0m: <urlopen error [WinError 10054] 远程主机强迫关闭了一个现有的连接。>"
     ],
     "ename": "URLError",
     "evalue": "<urlopen error [WinError 10054] 远程主机强迫关闭了一个现有的连接。>",
     "output_type": "error"
    }
   ],
   "source": [
    "# import seaborn as sns\n",
    "# import sys\n",
    "# titanic = sns.load_dataset('planets')\n",
    "# titanic.head()\n",
    "\n",
    "import seaborn as sb\n",
    "df = sb.load_dataset('tips')\n",
    "df.head()"
   ],
   "metadata": {
    "collapsed": false,
    "pycharm": {
     "name": "#%%\n",
     "is_executing": false
    }
   }
  },
  {
   "cell_type": "code",
   "execution_count": 4,
   "outputs": [
    {
     "data": {
      "text/plain": "['anscombe',\n 'attention',\n 'brain_networks',\n 'car_crashes',\n 'diamonds',\n 'dots',\n 'exercise',\n 'flights',\n 'fmri',\n 'gammas',\n 'iris',\n 'mpg',\n 'planets',\n 'tips',\n 'titanic']"
     },
     "metadata": {},
     "output_type": "execute_result",
     "execution_count": 4
    }
   ],
   "source": [
    "import seaborn as sb\n",
    "sb.get_dataset_names()"
   ],
   "metadata": {
    "collapsed": false,
    "pycharm": {
     "name": "#%%\n",
     "is_executing": false
    }
   }
  }
 ],
 "metadata": {
  "kernelspec": {
   "display_name": "Python 3",
   "language": "python",
   "name": "python3"
  },
  "language_info": {
   "codemirror_mode": {
    "name": "ipython",
    "version": 2
   },
   "file_extension": ".py",
   "mimetype": "text/x-python",
   "name": "python",
   "nbconvert_exporter": "python",
   "pygments_lexer": "ipython2",
   "version": "2.7.6"
  },
  "pycharm": {
   "stem_cell": {
    "cell_type": "raw",
    "source": [],
    "metadata": {
     "collapsed": false
    }
   }
  }
 },
 "nbformat": 4,
 "nbformat_minor": 0
}