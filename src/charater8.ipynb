{
 "cells": [
  {
   "cell_type": "code",
   "execution_count": 52,
   "outputs": [],
   "source": [
    "import os\n",
    "# os.getcwd()\n",
    "os.chdir(\"//mydata//python//src\")"
   ],
   "metadata": {
    "collapsed": false,
    "pycharm": {
     "name": "#%%\n",
     "is_executing": false
    }
   }
  },
  {
   "cell_type": "code",
   "execution_count": 81,
   "metadata": {
    "collapsed": true,
    "pycharm": {
     "is_executing": false
    }
   },
   "outputs": [
    {
     "name": "stdout",
     "text": [
      "{'令': 2, '狐': 3, '冲': 5, ' ': 4, 'd': 1, 's': 1, 'a': 2, '发': 1, '胡': 1, '呼': 3, '护': 1, '理': 1, '狸': 1}\n"
     ],
     "output_type": "stream"
    }
   ],
   "source": [
    "def count_word(f) :\n",
    "    s = {}\n",
    "    for i in f :\n",
    "        s[i] = s.get(i, 0) + 1\n",
    "    return s\n",
    "\n",
    "with open(\"笑傲江湖.txt\", \"r\", encoding=\"utf-8\") as f:\n",
    "    dic = count_word(f.read())\n",
    "    print(dic)\n",
    "\n",
    "with open(\"笑傲江湖_字符统计.txt\", \"w\", encoding=\"utf-8\") as f :\n",
    "    for key, val in dic.items() :\n",
    "        f.write(\"{} : {}\".format(key, val))\n"
   ]
  },
  {
   "cell_type": "code",
   "execution_count": 82,
   "outputs": [
    {
     "name": "stdout",
     "text": [
      "您输入的不是数字\n"
     ],
     "output_type": "stream"
    }
   ],
   "source": [
    "try :\n",
    "    inp = eval(input(\"请输入一个数字\"))\n",
    "except Exception as e :\n",
    "    print(\"您输入的不是数字\")\n",
    "else : \n",
    "    print(\"您输入的数字是{}\".format(inp))"
   ],
   "metadata": {
    "collapsed": false,
    "pycharm": {
     "name": "#%% \n",
     "is_executing": false
    }
   }
  }
 ],
 "metadata": {
  "kernelspec": {
   "name": "python36764bita0f7a7b7ada54d72b635b10ef4c36a0a",
   "language": "python",
   "display_name": "Python 3.6.7 64-bit"
  },
  "language_info": {
   "codemirror_mode": {
    "name": "ipython",
    "version": 2
   },
   "file_extension": ".py",
   "mimetype": "text/x-python",
   "name": "python",
   "nbconvert_exporter": "python",
   "pygments_lexer": "ipython2",
   "version": "2.7.6"
  },
  "pycharm": {
   "stem_cell": {
    "cell_type": "raw",
    "source": [],
    "metadata": {
     "collapsed": false
    }
   }
  }
 },
 "nbformat": 4,
 "nbformat_minor": 0
}