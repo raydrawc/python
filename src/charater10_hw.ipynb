{
 "cells": [
  {
   "cell_type": "code",
   "execution_count": 40,
   "metadata": {
    "collapsed": true,
    "pycharm": {
     "is_executing": false
    }
   },
   "outputs": [
    {
     "name": "stdout",
     "text": [
      "选择变换False 的总数10000 胜利次数为5063 胜率0.5063\n",
      "选择变换True 的总数10000 胜利次数为5042 胜率0.5042\n"
     ],
     "output_type": "stream"
    }
   ],
   "source": [
    "import random\n",
    "def open_door(n, charge_flag = False) :\n",
    "    win = 0\n",
    "    lst = ['car', 'sheep']\n",
    "    for i in range(n) :\n",
    "        random.shuffle(lst),\n",
    "        index =  0 if charge_flag else 1\n",
    "        if lst[index] == \"car\":\n",
    "            win += 1\n",
    "    print(\"选择变换{} 的总数{} 胜利次数为{} 胜率{:.4}\".format(charge_flag, n, win, win/n ))\n",
    "    \n",
    "open_door(10000)\n",
    "open_door(10000, True)\n",
    "        "
   ]
  }
 ],
 "metadata": {
  "kernelspec": {
   "display_name": "Python 3",
   "language": "python",
   "name": "python3"
  },
  "language_info": {
   "codemirror_mode": {
    "name": "ipython",
    "version": 2
   },
   "file_extension": ".py",
   "mimetype": "text/x-python",
   "name": "python",
   "nbconvert_exporter": "python",
   "pygments_lexer": "ipython2",
   "version": "2.7.6"
  },
  "pycharm": {
   "stem_cell": {
    "cell_type": "raw",
    "source": [],
    "metadata": {
     "collapsed": false
    }
   }
  }
 },
 "nbformat": 4,
 "nbformat_minor": 0
}