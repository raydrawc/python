{
 "cells": [
  {
   "cell_type": "code",
   "execution_count": 1,
   "metadata": {
    "collapsed": true,
    "pycharm": {
     "is_executing": false
    }
   },
   "outputs": [
    {
     "name": "stdout",
     "text": [
      "选择变换False 的总数10000 胜利次数为5012 胜率0.5012\n",
      "选择变换True 的总数10000 胜利次数为4982 胜率0.4982\n"
     ],
     "output_type": "stream"
    }
   ],
   "source": [
    "\n",
    "import random\n",
    "def open_door(n, charge_flag = False) :\n",
    "    win = 0\n",
    "    lst = ['car', 'sheep']\n",
    "    for i in range(n) :\n",
    "        random.shuffle(lst),\n",
    "        index =  0 if charge_flag else 1\n",
    "        if lst[index] == \"car\":\n",
    "            win += 1\n",
    "    print(\"选择变换{} 的总数{} 胜利次数为{} 胜率{:.4}\".format(charge_flag, n, win, win/n ))\n",
    "    \n",
    "open_door(10000)\n",
    "open_door(10000, True)\n",
    "        \n",
    "        \n"
   ]
  },
  {
   "cell_type": "code",
   "execution_count": 9,
   "outputs": [
    {
     "name": "stdout",
     "text": [
      "开门胜率为 0.3602065191873497\n",
      "[1 2 3 4]\n",
      "0.5008862966902254 0.5025178623724873\n"
     ],
     "output_type": "stream"
    }
   ],
   "source": [
    "\n",
    "# 助教方法\n",
    "import random \n",
    "import numpy as np\n",
    "P_A = random.random() #打开门A赢得胜率\n",
    "print(\"开门胜率为\", P_A)\n",
    "print(np.array([1,2,3,4]))\n",
    "\n",
    "P_NOT_CHANE = [] # 不改变门赢得胜率\n",
    "P_CHANE = []\n",
    "for i in range(10000):\n",
    "    P_NOT_CHANE.append(random.random())\n",
    "    P_CHANE.append(random.random())\n",
    "\n",
    "P_NOT_CHANE = np.mean(P_NOT_CHANE)\n",
    "P_CHANE = np.mean(P_CHANE)\n",
    "print(P_NOT_CHANE, P_CHANE)\n",
    "\n"
   ],
   "metadata": {
    "collapsed": false,
    "pycharm": {
     "name": "#%% \n",
     "is_executing": false
    }
   }
  },
  {
   "cell_type": "code",
   "execution_count": 43,
   "outputs": [
    {
     "name": "stdout",
     "text": [
      "+ + +\n",
      "+ + -\n",
      "+ + *\n",
      "+ + /\n",
      "+ - +\n",
      "+ - -\n",
      "+ - *\n",
      "+ - /\n",
      "+ * +\n",
      "+ * -\n",
      "+ * *\n",
      "+ * /\n",
      "+ / +\n",
      "+ / -\n",
      "+ / *\n",
      "+ / /\n",
      "- + +\n",
      "- + -\n",
      "- + *\n",
      "- + /\n",
      "- - +\n",
      "- - -\n",
      "- - *\n",
      "- - /\n",
      "- * +\n",
      "- * -\n",
      "- * *\n",
      "- * /\n",
      "- / +\n",
      "- / -\n",
      "- / *\n",
      "- / /\n",
      "* + +\n",
      "* + -\n",
      "* + *\n",
      "* + /\n",
      "* - +\n",
      "* - -\n",
      "* - *\n",
      "* - /\n",
      "* * +\n",
      "* * -\n",
      "* * *\n",
      "* * /\n",
      "* / +\n",
      "* / -\n",
      "* / *\n",
      "* / /\n",
      "/ + +\n",
      "/ + -\n",
      "/ + *\n",
      "/ + /\n",
      "/ - +\n",
      "/ - -\n",
      "/ - *\n",
      "/ - /\n",
      "/ * +\n",
      "/ * -\n",
      "/ * *\n",
      "/ * /\n",
      "/ / +\n",
      "/ / -\n",
      "/ / *\n",
      "/ / /\n",
      "2\n"
     ],
     "output_type": "stream"
    }
   ],
   "source": [
    "# 24 组合\n",
    "\n",
    "import time\n",
    "import itertools\n",
    "import operator\n",
    "\n",
    "numbers = [\n",
    "    [2,2,2,9]\n",
    "    ,[7,9,2,8]  \n",
    "    ,[7,7,1,2]\n",
    "    ,[10,10,4,4]\n",
    "    ,[9,9,10,6]\n",
    "    ,[5,5,1,5]\n",
    "    ,[5,5,2,10]\n",
    "    ,[4,1,5,6]\n",
    "    ,[7,3,3,7]\n",
    "    ,[8,3,8,3]\n",
    "]\n",
    "\n",
    "def mydiv(n, d):\n",
    "    \"\"\"避免除0报错\"\"\"\n",
    "    return n / d if d != 0 else 9999999999 # 除0可引申为无限大\n",
    "\n",
    "oper1 = ['+', '-', '*', '/']\n",
    "oper2 = [operator.add, operator.sub, operator.mul, mydiv]\n",
    "op = {x:y for x, y in zip(oper1, oper2)}\n",
    "\n",
    "def calc(nums) :\n",
    "    \"\"\"执行迭代计算\"\"\"\n",
    "    for x,y,z in itertools.product(op, repeat = 3) :\n",
    "        for q,w,e,r in itertools.per\n",
    "        print(x, y, z)\n",
    "\n",
    "calc(numbers[1])\n",
    "\n",
    "\n",
    "\n",
    "test = \"\".join(['1', oper1[0], '1'])\n",
    "test1 = eval(test)\n",
    "print(test1)\n"
   ],
   "metadata": {
    "collapsed": false,
    "pycharm": {
     "name": "#%%                          \n",
     "is_executing": false
    }
   }
  }
 ],
 "metadata": {
  "kernelspec": {
   "name": "python3",
   "language": "python",
   "display_name": "Python 3"
  },
  "language_info": {
   "codemirror_mode": {
    "name": "ipython",
    "version": 2
   },
   "file_extension": ".py",
   "mimetype": "text/x-python",
   "name": "python",
   "nbconvert_exporter": "python",
   "pygments_lexer": "ipython2",
   "version": "2.7.6"
  },
  "pycharm": {
   "stem_cell": {
    "cell_type": "raw",
    "source": [],
    "metadata": {
     "collapsed": false
    }
   }
  }
 },
 "nbformat": 4,
 "nbformat_minor": 0
}