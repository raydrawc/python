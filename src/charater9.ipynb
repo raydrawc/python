{
 "cells": [
  {
   "cell_type": "markdown",
   "metadata": {
    "collapsed": true,
    "pycharm": {
     "is_executing": false,
     "name": "#%% md\n"
    }
   },
   "source": [
    "可以直接作用与for循环的对象称为可迭代对象:Iterable\n",
    "* 列表 元组 字符串 字典 集合 文件\n",
    "* 生成器 (可以被next调用)"
   ]
  },
  {
   "cell_type": "code",
   "execution_count": 6,
   "outputs": [
    {
     "name": "stdout",
     "text": [
      "<generator object <genexpr> at 0x7f79e9f025f0>\n",
      "140161592600048\n",
      "1\n",
      "4\n",
      "9\n",
      "16\n"
     ],
     "output_type": "stream"
    },
    {
     "ename": "StopIteration",
     "evalue": "",
     "traceback": [
      "\u001b[0;31m---------------------------------------------------------------------------\u001b[0m",
      "\u001b[0;31mStopIteration\u001b[0m                             Traceback (most recent call last)",
      "\u001b[0;32m<ipython-input-6-2416c1da2dc1>\u001b[0m in \u001b[0;36m<module>\u001b[0;34m()\u001b[0m\n\u001b[1;32m      6\u001b[0m \u001b[0;32mprint\u001b[0m\u001b[0;34m(\u001b[0m\u001b[0mnext\u001b[0m\u001b[0;34m(\u001b[0m\u001b[0mpow2\u001b[0m\u001b[0;34m)\u001b[0m\u001b[0;34m)\u001b[0m\u001b[0;34m\u001b[0m\u001b[0m\n\u001b[1;32m      7\u001b[0m \u001b[0;32mprint\u001b[0m\u001b[0;34m(\u001b[0m\u001b[0mnext\u001b[0m\u001b[0;34m(\u001b[0m\u001b[0mpow2\u001b[0m\u001b[0;34m)\u001b[0m\u001b[0;34m)\u001b[0m\u001b[0;34m\u001b[0m\u001b[0m\n\u001b[0;32m----> 8\u001b[0;31m \u001b[0;32mprint\u001b[0m\u001b[0;34m(\u001b[0m\u001b[0mnext\u001b[0m\u001b[0;34m(\u001b[0m\u001b[0mpow2\u001b[0m\u001b[0;34m)\u001b[0m\u001b[0;34m)\u001b[0m\u001b[0;34m\u001b[0m\u001b[0m\n\u001b[0m\u001b[1;32m      9\u001b[0m \u001b[0;32mprint\u001b[0m\u001b[0;34m(\u001b[0m\u001b[0mnext\u001b[0m\u001b[0;34m(\u001b[0m\u001b[0mpow2\u001b[0m\u001b[0;34m)\u001b[0m\u001b[0;34m)\u001b[0m\u001b[0;34m\u001b[0m\u001b[0m\n\u001b[1;32m     10\u001b[0m \u001b[0;31m# 没有数据可取则报错 StopIteration\u001b[0m\u001b[0;34m\u001b[0m\u001b[0;34m\u001b[0m\u001b[0m\n",
      "\u001b[0;31mStopIteration\u001b[0m: "
     ],
     "output_type": "error"
    }
   ],
   "source": [
    "pow2 = ( i ** 2 for i in range(1,5))\n",
    "print(pow2)\n",
    "print(id(pow2))\n",
    "print(next(pow2))\n",
    "print(next(pow2))\n",
    "print(next(pow2))\n",
    "print(next(pow2))\n",
    "print(next(pow2))\n",
    "print(next(pow2))\n",
    "# 没有数据可取则报错 StopIteration \n"
   ],
   "metadata": {
    "collapsed": false,
    "pycharm": {
     "name": "#%% \n",
     "is_executing": false
    }
   }
  },
  {
   "cell_type": "markdown",
   "source": [
    "# 迭代器\n",
    "可以用isinstance()判断是否迭代器类型 Iterable  \n",
    "可以通过iter(iterable)创建迭代器\n",
    "\n",
    "* 生成器都是迭代器\n",
    "* 列表 元组 字符串 字典 集合 文件 都不是迭代器\n",
    "* zip emumerate 等itertool库里的函数都是迭代器\n",
    "* 迭代器是可以被耗尽的,迭代完全后再次迭代,取出空数据\n",
    "\n",
    "> range()不是迭代器,是称为懒序列,他是一种序列,但不包含任何内容,由计算得出迭代内容"
   ],
   "metadata": {
    "collapsed": false,
    "pycharm": {
     "name": "#%% md\n"
    }
   }
  },
  {
   "cell_type": "code",
   "execution_count": 11,
   "outputs": [
    {
     "name": "stdout",
     "text": [
      "1\n",
      "2\n",
      "3\n",
      "4\n",
      "5\n",
      "()\n",
      "1\n",
      "2\n",
      "3\n",
      "4\n",
      "5\n"
     ],
     "output_type": "stream"
    }
   ],
   "source": [
    "ls = [1, 2, 3, 4, 5]\n",
    "for i in ls :\n",
    "    print(i)\n",
    "    \n",
    "print()\n",
    "\n",
    "# 等价于\n",
    "ls1 = iter(ls)\n",
    "while True :\n",
    "    try :\n",
    "        i = next(ls1)\n",
    "        print(i)\n",
    "    except StopIteration :\n",
    "        break\n",
    "        \n"
   ],
   "metadata": {
    "collapsed": false,
    "pycharm": {
     "name": "#%%\n",
     "is_executing": false
    }
   }
  },
  {
   "cell_type": "markdown",
   "source": [
    "# 装饰器\n",
    "* 需要对已开发上线的程序添加某些功能\n",
    "* 不能对程序中函数的源代码进行修改\n",
    "* 不能改变程序中函数的调用方式"
   ],
   "metadata": {
    "collapsed": false
   }
  },
  {
   "cell_type": "markdown",
   "source": [
    "### 函数对象\n",
    "函数是python中第一类对象\n",
    "* 可以把函数赋值给变量\n",
    "* 可以对该变量进行调用,可实现原函数的功能\n",
    "\n",
    "### 高阶函数\n",
    "* 接受函数作为参数\n",
    "* 返回一个函数\n",
    "满足其中一个条件的函数即为高阶函数\n",
    "\n",
    "### 嵌套函数\n",
    "在函数内部定义函数\n",
    "\n",
    "### 闭包\n",
    "延伸了作用域的函数  \n",
    "如果一个函数定义在另一个函数的作用域内,并且引用了外层函数的变量,则该函数称为闭包  \n",
    "闭包是由函数及其相关引用环境组合而成的实体(闭包=函数+引用环境)\n",
    "> 一旦在内层函数定义了相同名字的变量,则变量成为`局部变量`  \n",
    "> nonlocal函数允许内嵌函数来修改闭包变量 (非局部变量形式调用) 若没找到上级函数则报错"
   ],
   "metadata": {
    "collapsed": false
   }
  },
  {
   "cell_type": "code",
   "execution_count": null,
   "outputs": [],
   "source": [
    "def outer() :\n",
    "    x = 1\n",
    "    \n",
    "    def inner() :\n",
    "        nonlocal x # (修饰说明这个变量是上一级的变量)\n",
    "        x = x + 100\n",
    "        return x\n",
    "    \n",
    "    return inner\n",
    "\n",
    "f = outer()\n",
    "f()"
   ],
   "metadata": {
    "collapsed": false,
    "pycharm": {
     "name": "#%%\n",
     "is_executing": false
    }
   }
  }
 ],
 "metadata": {
  "kernelspec": {
   "name": "python3",
   "language": "python",
   "display_name": "Python 3"
  },
  "language_info": {
   "codemirror_mode": {
    "name": "ipython",
    "version": 2
   },
   "file_extension": ".py",
   "mimetype": "text/x-python",
   "name": "python",
   "nbconvert_exporter": "python",
   "pygments_lexer": "ipython2",
   "version": "2.7.6"
  },
  "pycharm": {
   "stem_cell": {
    "cell_type": "raw",
    "source": [],
    "metadata": {
     "collapsed": false
    }
   }
  }
 },
 "nbformat": 4,
 "nbformat_minor": 0
}