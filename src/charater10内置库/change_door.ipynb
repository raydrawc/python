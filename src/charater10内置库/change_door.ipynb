{
 "cells": [
  {
   "cell_type": "code",
   "execution_count": 45,
   "metadata": {
    "collapsed": true,
    "pycharm": {
     "is_executing": false
    }
   },
   "outputs": [
    {
     "name": "stdout",
     "text": [
      "选择变换False 的总数10000 胜利次数为4943 胜率0.4943\n",
      "选择变换True 的总数10000 胜利次数为5001 胜率0.5001\n"
     ],
     "output_type": "stream"
    }
   ],
   "source": [
    "import random\n",
    "def open_door(n, charge_flag = False) :\n",
    "    win = 0\n",
    "    lst = ['car', 'sheep']\n",
    "    for i in range(n) :\n",
    "        random.shuffle(lst),\n",
    "        index =  0 if charge_flag else 1\n",
    "        if lst[index] == \"car\":\n",
    "            win += 1\n",
    "    print(\"选择变换{} 的总数{} 胜利次数为{} 胜率{:.4}\".format(charge_flag, n, win, win/n ))\n",
    "    \n",
    "open_door(10000)\n",
    "open_door(10000, True)\n",
    "        \n",
    "        \n"
   ]
  },
  {
   "cell_type": "code",
   "execution_count": 9,
   "outputs": [
    {
     "name": "stdout",
     "text": [
      "开门胜率为 0.3602065191873497\n",
      "[1 2 3 4]\n",
      "0.5008862966902254 0.5025178623724873\n"
     ],
     "output_type": "stream"
    }
   ],
   "source": [
    "\n",
    "# 助教方法\n",
    "import random \n",
    "import numpy as np\n",
    "P_A = random.random() #打开门A赢得胜率\n",
    "print(\"开门胜率为\", P_A)\n",
    "print(np.array([1,2,3,4]))\n",
    "\n",
    "P_NOT_CHANE = [] # 不改变门赢得胜率\n",
    "P_CHANE = []\n",
    "for i in range(10000):\n",
    "    P_NOT_CHANE.append(random.random())\n",
    "    P_CHANE.append(random.random())\n",
    "\n",
    "P_NOT_CHANE = np.mean(P_NOT_CHANE)\n",
    "P_CHANE = np.mean(P_CHANE)\n",
    "print(P_NOT_CHANE, P_CHANE)\n",
    "\n",
    "\n"
   ],
   "metadata": {
    "collapsed": false,
    "pycharm": {
     "name": "#%% \n",
     "is_executing": false
    }
   }
  }
 ],
 "metadata": {
  "kernelspec": {
   "name": "python3",
   "language": "python",
   "display_name": "Python 3"
  },
  "language_info": {
   "codemirror_mode": {
    "name": "ipython",
    "version": 2
   },
   "file_extension": ".py",
   "mimetype": "text/x-python",
   "name": "python",
   "nbconvert_exporter": "python",
   "pygments_lexer": "ipython2",
   "version": "2.7.6"
  },
  "pycharm": {
   "stem_cell": {
    "cell_type": "raw",
    "source": [],
    "metadata": {
     "collapsed": false
    }
   }
  }
 },
 "nbformat": 4,
 "nbformat_minor": 0
}