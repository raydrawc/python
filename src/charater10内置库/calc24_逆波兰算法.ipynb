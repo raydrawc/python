{
 "cells": [
  {
   "cell_type": "markdown",
   "metadata": {
    "collapsed": true,
    "pycharm": {
     "name": "#%% md\n"
    }
   },
   "source": [
    "# 24点计算 逆波兰算法\n",
    "通过后序形式插入栈,操作数在前，操作符在后\n",
    "> 5 + ((1 + 2) * 4) - 3 等于  \n",
    "> 5 1 2 + 4 * + 3 -  \n",
    "> 可转义   \n",
    ">`5 1 2 4 3`    \n",
    ">[0][1][2][3][4][5]\n",
    "\n",
    "已知数字固定，符号可变，修改符号位置"
   ]
  },
  {
   "cell_type": "code",
   "execution_count": 185,
   "outputs": [],
   "source": [
    "import time\n",
    "import itertools\n",
    "import operator\n",
    "\n",
    "numbers = [\n",
    "    [2,2,2,9]\n",
    "    ,[7,9,2,8]  \n",
    "    ,[7,7,1,2]\n",
    "    ,[10,10,4,4]\n",
    "    ,[9,9,10,6]\n",
    "    ,[5,5,1,5]\n",
    "    ,[5,5,2,10]\n",
    "    ,[4,1,5,6]\n",
    "    ,[7,3,3,7]\n",
    "    ,[8,3,8,3]\n",
    "]\n",
    "\n",
    "\n",
    "def mydiv(n, d):\n",
    "    \"\"\"避免除0报错\"\"\"\n",
    "    return n / d if d != 0 else 9999999999 # 除0可引申为无限大\n",
    "\n",
    "op1 = ['+', '-', '*', '/']\n",
    "op2 = [operator.add, operator.sub, operator.mul, mydiv]\n",
    "op = {x:y for x, y in zip(op1, op2)}\n",
    "\n",
    "def calc(expr, target) :\n",
    "    stack = []\n",
    "    stack_str = []\n",
    "    for s in expr :\n",
    "        if isinstance(s, int) :\n",
    "            stack.append(s)\n",
    "            stack_str.append(str(s))\n",
    "        elif s in op1 :\n",
    "            if len(stack) < 2 :\n",
    "                return None\n",
    "            else :\n",
    "                a = stack.pop()\n",
    "                b = stack.pop()\n",
    "                stack.append(op[s](a,b))\n",
    "                str_a = stack_str.pop()\n",
    "                str_b = stack_str.pop()\n",
    "                stack_str.append(\"({}{}{})\".format(str_a,s,str_b))\n",
    "        else:\n",
    "            return None\n",
    "    if len(stack) == 1 :\n",
    "        var = stack[-1]\n",
    "        if var == target :\n",
    "            print(\"{}:{}\".format(stack_str.pop(), stack.pop()))\n",
    "        # else :\n",
    "        #     print(\"{}:{}\".format(stack_str.pop(), stack.pop()))\n",
    "    "
   ],
   "metadata": {
    "collapsed": false,
    "pycharm": {
     "name": "#%%\n",
     "is_executing": false
    }
   }
  },
  {
   "cell_type": "code",
   "execution_count": 181,
   "outputs": [],
   "source": [
    "def insert_op(ls, ops, last_index = 2):\n",
    "    ## 结束条件\n",
    "    if not ops:\n",
    "        yield ls\n",
    "    else: # 坑！！！ 这个递归不加，下次执行往后执行\n",
    "        # print(last_index, ls, ops)\n",
    "        _op = ops[0]\n",
    "        ## 取可能出现的位置\n",
    "        for _i in range(last_index, len(ls) + 1) :\n",
    "            ## 取可能出现的位置\n",
    "            ls.insert(_i, _op)\n",
    "            for _var in insert_op(ls[:], ops[1:], _i + 1) :\n",
    "                yield _var\n",
    "            del ls[_i]\n",
    "        "
   ],
   "metadata": {
    "collapsed": false,
    "pycharm": {
     "name": "#%%\n",
     "is_executing": false
    }
   }
  },
  {
   "cell_type": "code",
   "execution_count": 186,
   "outputs": [
    {
     "name": "stdout",
     "text": [
      "(((9+2)*2)+2):24\n",
      "((5-(1/5))*5):24.0\n",
      "(7*(3+(3/7))):24.0\n"
     ],
     "output_type": "stream"
    }
   ],
   "source": [
    "def calc24_pl(nums):\n",
    "    len_num = len(nums) - 1\n",
    "    # 分离出对应数量的操作数\n",
    "    op_ls = itertools.product(op1, repeat=len_num)\n",
    "    for operand in op_ls:\n",
    "        calc_ls = insert_op(nums, operand)\n",
    "        for x in calc_ls :\n",
    "            calc(x, 24)\n",
    "\n",
    "for nums in numbers :\n",
    "    calc24_pl(nums)\n",
    "    "
   ],
   "metadata": {
    "collapsed": false,
    "pycharm": {
     "name": "#%%\n",
     "is_executing": false
    }
   }
  },
  {
   "cell_type": "code",
   "execution_count": 185,
   "outputs": [],
   "source": [],
   "metadata": {
    "collapsed": false,
    "pycharm": {
     "name": "#%% \n",
     "is_executing": false
    }
   }
  }
 ],
 "metadata": {
  "kernelspec": {
   "display_name": "Python 3",
   "language": "python",
   "name": "python3"
  },
  "language_info": {
   "codemirror_mode": {
    "name": "ipython",
    "version": 2
   },
   "file_extension": ".py",
   "mimetype": "text/x-python",
   "name": "python",
   "nbconvert_exporter": "python",
   "pygments_lexer": "ipython2",
   "version": "2.7.6"
  },
  "pycharm": {
   "stem_cell": {
    "cell_type": "raw",
    "source": [],
    "metadata": {
     "collapsed": false
    }
   }
  }
 },
 "nbformat": 4,
 "nbformat_minor": 0
}