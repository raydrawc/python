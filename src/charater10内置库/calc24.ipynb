{
 "cells": [
  {
   "cell_type": "code",
   "execution_count": null,
   "outputs": [],
   "source": [
    "# 24 组合\n",
    "\n",
    "import time\n",
    "import itertools\n",
    "import operator\n",
    "\n",
    "numbers = [\n",
    "    [2,2,2,9]\n",
    "    ,[7,9,2,8]  \n",
    "    ,[7,7,1,2]\n",
    "    ,[10,10,4,4]\n",
    "    ,[9,9,10,6]\n",
    "    ,[5,5,1,5]\n",
    "    ,[5,5,2,10]\n",
    "    ,[4,1,5,6]\n",
    "    ,[7,3,3,7]\n",
    "    ,[8,3,8,3]\n",
    "]\n",
    "\n",
    "def mydiv(n, d):\n",
    "    \"\"\"避免除0报错\"\"\"\n",
    "    return n / d if d != 0 else 9999999999 # 除0可引申为无限大\n",
    "\n",
    "oper1 = ['+', '-', '*', '/']\n",
    "oper2 = [operator.add, operator.sub, operator.mul, mydiv]\n",
    "op = {x:y for x, y in zip(oper1, oper2)}\n",
    "\n",
    "def calc(nums) :\n",
    "    \"\"\"执行迭代计算\"\"\"\n",
    "    for x,y,z in itertools.product(op, repeat = 3) :\n",
    "        for q,w,e,r in itertools.per\n",
    "        print(x, y, z)\n",
    "\n",
    "calc(numbers[1])\n",
    "\n",
    "\n",
    "\n",
    "test = \"\".join(['1', oper1[0], '1'])\n",
    "test1 = eval(test)\n",
    "print(test1)\n",
    "\n",
    "\n",
    "\n"
   ],
   "metadata": {
    "collapsed": false,
    "pycharm": {
     "name": "#%%                          \n"
    }
   }
  }
 ],
 "metadata": {
  "kernelspec": {
   "display_name": "Python 3",
   "language": "python",
   "name": "python3"
  },
  "language_info": {
   "codemirror_mode": {
    "name": "ipython",
    "version": 2
   },
   "file_extension": ".py",
   "mimetype": "text/x-python",
   "name": "python",
   "nbconvert_exporter": "python",
   "pygments_lexer": "ipython2",
   "version": "2.7.6"
  },
  "pycharm": {
   "stem_cell": {
    "cell_type": "raw",
    "source": [],
    "metadata": {
     "collapsed": false
    }
   }
  }
 },
 "nbformat": 4,
 "nbformat_minor": 0
}