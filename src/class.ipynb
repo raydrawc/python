{
 "cells": [
  {
   "cell_type": "markdown",
   "source": [
    "使用idea jupyter"
   ],
   "metadata": {
    "collapsed": false,
    "pycharm": {
     "name": "#%% md\n"
    }
   }
  },
  {
   "cell_type": "markdown",
   "source": [
    "###   类的命名\n",
    "要有实际意义  \n",
    "通常使用`驼峰式命名法`-组成的首字母大写  \n",
    "类的前后分别空两行\n",
    "在类定义后面紧跟对类的简单介绍"
   ],
   "metadata": {
    "collapsed": false,
    "pycharm": {
     "name": "#%% md\n"
    }
   }
  },
  {
   "cell_type": "markdown",
   "source": [
    " 类的属性\n",
    "> def \\_\\_init__(self, 传递参数) 初始化类函数  \n",
    "> 类函数定义都需要self?  \n",
    "* 创建实例:\n",
    "* * 将实例创建给对象,实例化过程中,传入相应的参数\n",
    "* * v = 类名(参数)\n",
    "* 访问属性:\n",
    "* * 实例.变量名"
   ],
   "metadata": {
    "collapsed": false,
    "pycharm": {
     "name": "#%% md\n"
    }
   }
  },
  {
   "cell_type": "code",
   "execution_count": 7,
   "outputs": [
    {
     "name": "stdout",
     "text": [
      "lovely\n",
      "1992\n",
      "lovelycar\n"
     ],
     "output_type": "stream"
    }
   ],
   "source": [
    "class Car :\n",
    "    def __init__(self, name, year):\n",
    "        self.name = name\n",
    "        self.year = year\n",
    "    def show(self): \n",
    "        print(self.name + \"car\")\n",
    "car1 = Car(\"lovely\", 1992)\n",
    "print(car1.name)\n",
    "print(car1.year)\n",
    "car1.show()\n",
    "        "
   ],
   "metadata": {
    "collapsed": false,
    "pycharm": {
     "name": "#%%\n",
     "is_executing": false
    }
   }
  },
  {
   "cell_type": "markdown",
   "source": [
    "类的继承\n",
    "* 将公共特征提取出来\n",
    "* 继承上一级的公共特征,然后添加自身的特殊特征  \n",
    "所谓继承,就是低层抽象继承高层抽象的过程\n",
    "\n",
    "* 子类定义:class 子类名(父类名)   \n",
    "* 父类定义super()/超类  "
   ],
   "metadata": {
    "collapsed": false
   }
  }
 ],
 "metadata": {
  "kernelspec": {
   "display_name": "Python 3",
   "language": "python",
   "name": "python3"
  },
  "language_info": {
   "codemirror_mode": {
    "name": "ipython",
    "version": 2
   },
   "file_extension": ".py",
   "mimetype": "text/x-python",
   "name": "python",
   "nbconvert_exporter": "python",
   "pygments_lexer": "ipython2",
   "version": "2.7.6"
  },
  "pycharm": {
   "stem_cell": {
    "cell_type": "raw",
    "source": [],
    "metadata": {
     "collapsed": false
    }
   }
  }
 },
 "nbformat": 4,
 "nbformat_minor": 0
}