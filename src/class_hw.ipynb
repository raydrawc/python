{
 "cells": [
  {
   "cell_type": "markdown",
   "metadata": {
    "collapsed": true,
    "pycharm": {
     "name": "#%% md\n"
    }
   },
   "source": [
    "### 1、构造一个银联信用卡的类：\n",
    "包含如下属性：\n",
    "*  顾客姓名\n",
    "*  信用卡授信额度\n",
    "*  当前额度\n",
    "*  单次刷卡金额上限  \n",
    "\n",
    "包含如下方法：  \n",
    "\n",
    "* 分别获得上述属性的方法；  \n",
    "* 对授信额度进行修改的方法；  \n",
    "* 对单次刷卡金额上限修改的方法；\n",
    "* 实现刷卡方法，传入一个刷卡金额，先判断是否超过单次刷卡金额上限以及当前额度是否够用，如合理，则执行刷卡，将当前额度减去刷卡金额。\n"
   ]
  },
  {
   "cell_type": "code",
   "execution_count": 14,
   "outputs": [],
   "source": [
    "class CreditCard() :\n",
    "    def __init__(self, name, amount, current_amount, single_limit) :\n",
    "        self.name = name\n",
    "        self.amount = amount\n",
    "        self.current_amount = current_amount\n",
    "        self.single_limit = single_limit\n",
    "        \n",
    "    def get_name(self):\n",
    "        self.name\n",
    "        \n",
    "    def get_amount(self):\n",
    "        self.amount\n",
    "        \n",
    "    def get_current_amount(self):\n",
    "        self.current_amount\n",
    "        \n",
    "    def get_single_limit(self):\n",
    "        self.single_limit\n",
    "        \n",
    "    def modify_amount(self, new_amount):\n",
    "        self.amount = new_amount\n",
    "    \n",
    "    def modify_single_limit(self, new_single_limit):\n",
    "        if new_single_limit >= 0 :\n",
    "            self.single_limit = new_single_limit\n",
    "        else :\n",
    "            print(\"限额不可为负数\")\n",
    "    \n",
    "    def consume(self, val):\n",
    "        if self.current_amount >= val and val <= self.single_limit :\n",
    "            self.current_amount -= val\n",
    "            print(\"刷卡成功\")\n",
    "            return self.current_amount\n",
    "        else:\n",
    "            print(\"刷爆卡\", self.current_amount)\n",
    "            "
   ],
   "metadata": {
    "collapsed": false,
    "pycharm": {
     "name": "#%% \n",
     "is_executing": false
    }
   }
  },
  {
   "cell_type": "code",
   "execution_count": 15,
   "outputs": [
    {
     "name": "stdout",
     "text": [
      "100\n",
      "50\n",
      "刷卡成功\n",
      "刷爆卡 70\n",
      "刷卡成功\n",
      "10\n"
     ],
     "output_type": "stream"
    }
   ],
   "source": [
    "card = CreditCard(\"qq\", 5000, 100, 50)\n",
    "print(card.current_amount)\n",
    "print(card.single_limit)\n",
    "card.consume(30)\n",
    "card.consume(60)\n",
    "card.modify_single_limit(100)\n",
    "card.consume(60)\n",
    "print(card.current_amount)\n",
    "\n"
   ],
   "metadata": {
    "collapsed": false,
    "pycharm": {
     "name": "#%%            \n",
     "is_executing": false
    }
   }
  },
  {
   "cell_type": "code",
   "execution_count": 36,
   "outputs": [],
   "source": [
    "class ChinaCreditCard(CreditCard):\n",
    "    def __init__(self, name, amount, current_amount, single_limit,  point = 0):\n",
    "        super().__init__(name, amount, current_amount, single_limit)\n",
    "        self.point = point\n",
    "        self.shop_list = set()\n",
    "        \n",
    "    def consume(self, val, shop_name):\n",
    "        if shop_name in self.shop_list : \n",
    "            val = val * 0.95\n",
    "        if super().consume(val) :\n",
    "            self.point += val  / 10\n",
    "        \n",
    "    def get_point(self):\n",
    "        return self.point\n",
    "    \n",
    "    def set_list(self, *shop_list):\n",
    "        self.shop_list.update(shop_list)\n",
    "    "
   ],
   "metadata": {
    "collapsed": false,
    "pycharm": {
     "name": "#%%\n",
     "is_executing": false
    }
   }
  },
  {
   "cell_type": "code",
   "execution_count": 37,
   "outputs": [
    {
     "name": "stdout",
     "text": [
      "set()\n",
      "刷卡成功\n",
      "刷爆卡 90\n",
      "{'pp', 'ww', 'gg'}\n",
      "刷卡成功\n",
      "刷卡成功\n"
     ],
     "output_type": "stream"
    }
   ],
   "source": [
    "c1 = ChinaCreditCard(\"o\", 100, 100, 20)\n",
    "print(c1.shop_list)\n",
    "c1.consume(10,\"qq\")\n",
    "c1.consume(50,\"qq\")\n",
    "c1.modify_single_limit(50)\n",
    "c1.set_list(\"pp\", \"ww\", \"gg\")\n",
    "print(c1.shop_list)\n",
    "c1.consume(50,\"qq\")\n",
    "print(c1.get_point())\n",
    "c1.set_list(\"qq\")\n",
    "c1.consume(20,\"qq\")\n",
    "print(c1.get_point())\n",
    "\n",
    "        \n",
    "    \n",
    "    \n"
   ],
   "metadata": {
    "collapsed": false,
    "pycharm": {
     "name": "#%%\n",
     "is_executing": false
    }
   }
  }
 ],
 "metadata": {
  "kernelspec": {
   "name": "python36764bita0f7a7b7ada54d72b635b10ef4c36a0a",
   "language": "python",
   "display_name": "Python 3.6.7 64-bit"
  },
  "language_info": {
   "codemirror_mode": {
    "name": "ipython",
    "version": 2
   },
   "file_extension": ".py",
   "mimetype": "text/x-python",
   "name": "python",
   "nbconvert_exporter": "python",
   "pygments_lexer": "ipython2",
   "version": "2.7.6"
  },
  "pycharm": {
   "stem_cell": {
    "cell_type": "raw",
    "source": [],
    "metadata": {
     "collapsed": false
    }
   }
  }
 },
 "nbformat": 4,
 "nbformat_minor": 0
}